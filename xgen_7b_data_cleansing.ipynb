{
  "cells": [
    {
      "cell_type": "markdown",
      "metadata": {
        "id": "view-in-github",
        "colab_type": "text"
      },
      "source": [
        "<a href=\"https://colab.research.google.com/github/yiw008/db-cleansing-xgen/blob/main/xgen_7b_data_cleansing.ipynb\" target=\"_parent\"><img src=\"https://colab.research.google.com/assets/colab-badge.svg\" alt=\"Open In Colab\"/></a>"
      ]
    },
    {
      "cell_type": "markdown",
      "metadata": {
        "id": "o5nQIbrJeHlP"
      },
      "source": [
        "# XGen-7B Data Cleansing"
      ]
    },
    {
      "cell_type": "markdown",
      "metadata": {
        "id": "EzrmADGhRXuf"
      },
      "source": [
        "## Set Up"
      ]
    },
    {
      "cell_type": "code",
      "execution_count": null,
      "metadata": {
        "colab": {
          "base_uri": "https://localhost:8080/"
        },
        "id": "Ct_NJ8ez0UD1",
        "outputId": "6a377364-3f86-42b1-fc73-65c8c14a3734"
      },
      "outputs": [
        {
          "name": "stdout",
          "output_type": "stream",
          "text": [
            "Mon Apr 29 21:05:04 2024       \n",
            "+---------------------------------------------------------------------------------------+\n",
            "| NVIDIA-SMI 535.104.05             Driver Version: 535.104.05   CUDA Version: 12.2     |\n",
            "|-----------------------------------------+----------------------+----------------------+\n",
            "| GPU  Name                 Persistence-M | Bus-Id        Disp.A | Volatile Uncorr. ECC |\n",
            "| Fan  Temp   Perf          Pwr:Usage/Cap |         Memory-Usage | GPU-Util  Compute M. |\n",
            "|                                         |                      |               MIG M. |\n",
            "|=========================================+======================+======================|\n",
            "|   0  NVIDIA A100-SXM4-40GB          Off | 00000000:00:04.0 Off |                    0 |\n",
            "| N/A   33C    P0              48W / 400W |      2MiB / 40960MiB |      0%      Default |\n",
            "|                                         |                      |             Disabled |\n",
            "+-----------------------------------------+----------------------+----------------------+\n",
            "                                                                                         \n",
            "+---------------------------------------------------------------------------------------+\n",
            "| Processes:                                                                            |\n",
            "|  GPU   GI   CI        PID   Type   Process name                            GPU Memory |\n",
            "|        ID   ID                                                             Usage      |\n",
            "|=======================================================================================|\n",
            "|  No running processes found                                                           |\n",
            "+---------------------------------------------------------------------------------------+\n"
          ]
        }
      ],
      "source": [
        "# Check\n",
        "!nvidia-smi"
      ]
    },
    {
      "cell_type": "code",
      "execution_count": null,
      "metadata": {
        "colab": {
          "base_uri": "https://localhost:8080/"
        },
        "id": "qYYTa5GGPm1k",
        "outputId": "69da3860-f0b7-4281-ce7b-dcecff09809e"
      },
      "outputs": [
        {
          "name": "stdout",
          "output_type": "stream",
          "text": [
            "Requirement already satisfied: transformers in /usr/local/lib/python3.10/dist-packages (4.40.0)\n",
            "Collecting accelerate\n",
            "  Downloading accelerate-0.29.3-py3-none-any.whl (297 kB)\n",
            "\u001b[2K     \u001b[90m━━━━━━━━━━━━━━━━━━━━━━━━━━━━━━━━━━━━━━━━\u001b[0m \u001b[32m297.6/297.6 kB\u001b[0m \u001b[31m2.1 MB/s\u001b[0m eta \u001b[36m0:00:00\u001b[0m\n",
            "\u001b[?25hCollecting bitsandbytes\n",
            "  Downloading bitsandbytes-0.43.1-py3-none-manylinux_2_24_x86_64.whl (119.8 MB)\n",
            "\u001b[2K     \u001b[90m━━━━━━━━━━━━━━━━━━━━━━━━━━━━━━━━━━━━━━━━\u001b[0m \u001b[32m119.8/119.8 MB\u001b[0m \u001b[31m12.3 MB/s\u001b[0m eta \u001b[36m0:00:00\u001b[0m\n",
            "\u001b[?25hRequirement already satisfied: filelock in /usr/local/lib/python3.10/dist-packages (from transformers) (3.13.4)\n",
            "Requirement already satisfied: huggingface-hub<1.0,>=0.19.3 in /usr/local/lib/python3.10/dist-packages (from transformers) (0.20.3)\n",
            "Requirement already satisfied: numpy>=1.17 in /usr/local/lib/python3.10/dist-packages (from transformers) (1.25.2)\n",
            "Requirement already satisfied: packaging>=20.0 in /usr/local/lib/python3.10/dist-packages (from transformers) (24.0)\n",
            "Requirement already satisfied: pyyaml>=5.1 in /usr/local/lib/python3.10/dist-packages (from transformers) (6.0.1)\n",
            "Requirement already satisfied: regex!=2019.12.17 in /usr/local/lib/python3.10/dist-packages (from transformers) (2023.12.25)\n",
            "Requirement already satisfied: requests in /usr/local/lib/python3.10/dist-packages (from transformers) (2.31.0)\n",
            "Requirement already satisfied: tokenizers<0.20,>=0.19 in /usr/local/lib/python3.10/dist-packages (from transformers) (0.19.1)\n",
            "Requirement already satisfied: safetensors>=0.4.1 in /usr/local/lib/python3.10/dist-packages (from transformers) (0.4.3)\n",
            "Requirement already satisfied: tqdm>=4.27 in /usr/local/lib/python3.10/dist-packages (from transformers) (4.66.2)\n",
            "Requirement already satisfied: psutil in /usr/local/lib/python3.10/dist-packages (from accelerate) (5.9.5)\n",
            "Requirement already satisfied: torch>=1.10.0 in /usr/local/lib/python3.10/dist-packages (from accelerate) (2.2.1+cu121)\n",
            "Requirement already satisfied: fsspec>=2023.5.0 in /usr/local/lib/python3.10/dist-packages (from huggingface-hub<1.0,>=0.19.3->transformers) (2023.6.0)\n",
            "Requirement already satisfied: typing-extensions>=3.7.4.3 in /usr/local/lib/python3.10/dist-packages (from huggingface-hub<1.0,>=0.19.3->transformers) (4.11.0)\n",
            "Requirement already satisfied: sympy in /usr/local/lib/python3.10/dist-packages (from torch>=1.10.0->accelerate) (1.12)\n",
            "Requirement already satisfied: networkx in /usr/local/lib/python3.10/dist-packages (from torch>=1.10.0->accelerate) (3.3)\n",
            "Requirement already satisfied: jinja2 in /usr/local/lib/python3.10/dist-packages (from torch>=1.10.0->accelerate) (3.1.3)\n",
            "Collecting nvidia-cuda-nvrtc-cu12==12.1.105 (from torch>=1.10.0->accelerate)\n",
            "  Using cached nvidia_cuda_nvrtc_cu12-12.1.105-py3-none-manylinux1_x86_64.whl (23.7 MB)\n",
            "Collecting nvidia-cuda-runtime-cu12==12.1.105 (from torch>=1.10.0->accelerate)\n",
            "  Using cached nvidia_cuda_runtime_cu12-12.1.105-py3-none-manylinux1_x86_64.whl (823 kB)\n",
            "Collecting nvidia-cuda-cupti-cu12==12.1.105 (from torch>=1.10.0->accelerate)\n",
            "  Using cached nvidia_cuda_cupti_cu12-12.1.105-py3-none-manylinux1_x86_64.whl (14.1 MB)\n",
            "Collecting nvidia-cudnn-cu12==8.9.2.26 (from torch>=1.10.0->accelerate)\n",
            "  Using cached nvidia_cudnn_cu12-8.9.2.26-py3-none-manylinux1_x86_64.whl (731.7 MB)\n",
            "Collecting nvidia-cublas-cu12==12.1.3.1 (from torch>=1.10.0->accelerate)\n",
            "  Using cached nvidia_cublas_cu12-12.1.3.1-py3-none-manylinux1_x86_64.whl (410.6 MB)\n",
            "Collecting nvidia-cufft-cu12==11.0.2.54 (from torch>=1.10.0->accelerate)\n",
            "  Using cached nvidia_cufft_cu12-11.0.2.54-py3-none-manylinux1_x86_64.whl (121.6 MB)\n",
            "Collecting nvidia-curand-cu12==10.3.2.106 (from torch>=1.10.0->accelerate)\n",
            "  Using cached nvidia_curand_cu12-10.3.2.106-py3-none-manylinux1_x86_64.whl (56.5 MB)\n",
            "Collecting nvidia-cusolver-cu12==11.4.5.107 (from torch>=1.10.0->accelerate)\n",
            "  Using cached nvidia_cusolver_cu12-11.4.5.107-py3-none-manylinux1_x86_64.whl (124.2 MB)\n",
            "Collecting nvidia-cusparse-cu12==12.1.0.106 (from torch>=1.10.0->accelerate)\n",
            "  Using cached nvidia_cusparse_cu12-12.1.0.106-py3-none-manylinux1_x86_64.whl (196.0 MB)\n",
            "Collecting nvidia-nccl-cu12==2.19.3 (from torch>=1.10.0->accelerate)\n",
            "  Using cached nvidia_nccl_cu12-2.19.3-py3-none-manylinux1_x86_64.whl (166.0 MB)\n",
            "Collecting nvidia-nvtx-cu12==12.1.105 (from torch>=1.10.0->accelerate)\n",
            "  Using cached nvidia_nvtx_cu12-12.1.105-py3-none-manylinux1_x86_64.whl (99 kB)\n",
            "Requirement already satisfied: triton==2.2.0 in /usr/local/lib/python3.10/dist-packages (from torch>=1.10.0->accelerate) (2.2.0)\n",
            "Collecting nvidia-nvjitlink-cu12 (from nvidia-cusolver-cu12==11.4.5.107->torch>=1.10.0->accelerate)\n",
            "  Using cached nvidia_nvjitlink_cu12-12.4.127-py3-none-manylinux2014_x86_64.whl (21.1 MB)\n",
            "Requirement already satisfied: charset-normalizer<4,>=2 in /usr/local/lib/python3.10/dist-packages (from requests->transformers) (3.3.2)\n",
            "Requirement already satisfied: idna<4,>=2.5 in /usr/local/lib/python3.10/dist-packages (from requests->transformers) (3.7)\n",
            "Requirement already satisfied: urllib3<3,>=1.21.1 in /usr/local/lib/python3.10/dist-packages (from requests->transformers) (2.0.7)\n",
            "Requirement already satisfied: certifi>=2017.4.17 in /usr/local/lib/python3.10/dist-packages (from requests->transformers) (2024.2.2)\n",
            "Requirement already satisfied: MarkupSafe>=2.0 in /usr/local/lib/python3.10/dist-packages (from jinja2->torch>=1.10.0->accelerate) (2.1.5)\n",
            "Requirement already satisfied: mpmath>=0.19 in /usr/local/lib/python3.10/dist-packages (from sympy->torch>=1.10.0->accelerate) (1.3.0)\n",
            "Installing collected packages: nvidia-nvtx-cu12, nvidia-nvjitlink-cu12, nvidia-nccl-cu12, nvidia-curand-cu12, nvidia-cufft-cu12, nvidia-cuda-runtime-cu12, nvidia-cuda-nvrtc-cu12, nvidia-cuda-cupti-cu12, nvidia-cublas-cu12, nvidia-cusparse-cu12, nvidia-cudnn-cu12, nvidia-cusolver-cu12, bitsandbytes, accelerate\n",
            "Successfully installed accelerate-0.29.3 bitsandbytes-0.43.1 nvidia-cublas-cu12-12.1.3.1 nvidia-cuda-cupti-cu12-12.1.105 nvidia-cuda-nvrtc-cu12-12.1.105 nvidia-cuda-runtime-cu12-12.1.105 nvidia-cudnn-cu12-8.9.2.26 nvidia-cufft-cu12-11.0.2.54 nvidia-curand-cu12-10.3.2.106 nvidia-cusolver-cu12-11.4.5.107 nvidia-cusparse-cu12-12.1.0.106 nvidia-nccl-cu12-2.19.3 nvidia-nvjitlink-cu12-12.4.127 nvidia-nvtx-cu12-12.1.105\n",
            "Collecting tiktoken\n",
            "  Downloading tiktoken-0.6.0-cp310-cp310-manylinux_2_17_x86_64.manylinux2014_x86_64.whl (1.8 MB)\n",
            "\u001b[2K     \u001b[90m━━━━━━━━━━━━━━━━━━━━━━━━━━━━━━━━━━━━━━━━\u001b[0m \u001b[32m1.8/1.8 MB\u001b[0m \u001b[31m9.6 MB/s\u001b[0m eta \u001b[36m0:00:00\u001b[0m\n",
            "\u001b[?25hRequirement already satisfied: regex>=2022.1.18 in /usr/local/lib/python3.10/dist-packages (from tiktoken) (2023.12.25)\n",
            "Requirement already satisfied: requests>=2.26.0 in /usr/local/lib/python3.10/dist-packages (from tiktoken) (2.31.0)\n",
            "Requirement already satisfied: charset-normalizer<4,>=2 in /usr/local/lib/python3.10/dist-packages (from requests>=2.26.0->tiktoken) (3.3.2)\n",
            "Requirement already satisfied: idna<4,>=2.5 in /usr/local/lib/python3.10/dist-packages (from requests>=2.26.0->tiktoken) (3.7)\n",
            "Requirement already satisfied: urllib3<3,>=1.21.1 in /usr/local/lib/python3.10/dist-packages (from requests>=2.26.0->tiktoken) (2.0.7)\n",
            "Requirement already satisfied: certifi>=2017.4.17 in /usr/local/lib/python3.10/dist-packages (from requests>=2.26.0->tiktoken) (2024.2.2)\n",
            "Installing collected packages: tiktoken\n",
            "Successfully installed tiktoken-0.6.0\n",
            "Collecting github-clone\n",
            "  Downloading github_clone-1.2.0-py3-none-any.whl (9.1 kB)\n",
            "Requirement already satisfied: requests>=2.20.0 in /usr/local/lib/python3.10/dist-packages (from github-clone) (2.31.0)\n",
            "Collecting docopt>=0.6.2 (from github-clone)\n",
            "  Downloading docopt-0.6.2.tar.gz (25 kB)\n",
            "  Preparing metadata (setup.py) ... \u001b[?25l\u001b[?25hdone\n",
            "Requirement already satisfied: charset-normalizer<4,>=2 in /usr/local/lib/python3.10/dist-packages (from requests>=2.20.0->github-clone) (3.3.2)\n",
            "Requirement already satisfied: idna<4,>=2.5 in /usr/local/lib/python3.10/dist-packages (from requests>=2.20.0->github-clone) (3.7)\n",
            "Requirement already satisfied: urllib3<3,>=1.21.1 in /usr/local/lib/python3.10/dist-packages (from requests>=2.20.0->github-clone) (2.0.7)\n",
            "Requirement already satisfied: certifi>=2017.4.17 in /usr/local/lib/python3.10/dist-packages (from requests>=2.20.0->github-clone) (2024.2.2)\n",
            "Building wheels for collected packages: docopt\n",
            "  Building wheel for docopt (setup.py) ... \u001b[?25l\u001b[?25hdone\n",
            "  Created wheel for docopt: filename=docopt-0.6.2-py2.py3-none-any.whl size=13706 sha256=33d766067783d3690d303ac046c636226c617c7e8d59fb16db14fdc9149602c1\n",
            "  Stored in directory: /root/.cache/pip/wheels/fc/ab/d4/5da2067ac95b36618c629a5f93f809425700506f72c9732fac\n",
            "Successfully built docopt\n",
            "Installing collected packages: docopt, github-clone\n",
            "Successfully installed docopt-0.6.2 github-clone-1.2.0\n",
            "Cloning into 'data_clean_datasets'...\n",
            "done.\n"
          ]
        }
      ],
      "source": [
        "# Install packages\n",
        "!pip install transformers accelerate bitsandbytes\n",
        "!pip install tiktoken\n",
        "!pip install github-clone\n",
        "!ghclone https://github.com/deweydbb/data_clean_datasets/tree/main"
      ]
    },
    {
      "cell_type": "code",
      "execution_count": null,
      "metadata": {
        "id": "dYxlFeYGP6OR"
      },
      "outputs": [],
      "source": [
        "import torch\n",
        "import csv\n",
        "from datetime import datetime\n",
        "import ast\n",
        "import random\n",
        "import numpy as np\n",
        "from pytz import timezone\n",
        "from sklearn.model_selection import train_test_split\n",
        "from transformers import AutoTokenizer, AutoModelForCausalLM\n",
        "import warnings\n",
        "warnings.filterwarnings('ignore')\n",
        "current_timezone = 'America/Chicago'"
      ]
    },
    {
      "cell_type": "code",
      "execution_count": null,
      "metadata": {
        "id": "grhz34GTQLuW"
      },
      "outputs": [],
      "source": [
        "device = \"cuda\" if torch.cuda.is_available() else \"cpu\""
      ]
    },
    {
      "cell_type": "code",
      "execution_count": null,
      "metadata": {
        "id": "Mz2LbMPQpsT0"
      },
      "outputs": [],
      "source": [
        "checkpoint = \"Salesforce/xgen-7b-8k-inst\""
      ]
    },
    {
      "cell_type": "code",
      "execution_count": null,
      "metadata": {
        "colab": {
          "base_uri": "https://localhost:8080/",
          "height": 155
        },
        "id": "2c6qwJiIQMPg",
        "outputId": "44b7a846-eca3-4e1e-a6d1-0b814005138d"
      },
      "outputs": [
        {
          "data": {
            "application/vnd.jupyter.widget-view+json": {
              "model_id": "a33e43600db449f1b11bb45858fa2e52",
              "version_major": 2,
              "version_minor": 0
            },
            "text/plain": [
              "tokenizer_config.json:   0%|          | 0.00/297 [00:00<?, ?B/s]"
            ]
          },
          "metadata": {},
          "output_type": "display_data"
        },
        {
          "data": {
            "application/vnd.jupyter.widget-view+json": {
              "model_id": "b9a4fc7045e64f3bb06dd2bc450bc7fc",
              "version_major": 2,
              "version_minor": 0
            },
            "text/plain": [
              "tokenization_xgen.py:   0%|          | 0.00/8.85k [00:00<?, ?B/s]"
            ]
          },
          "metadata": {},
          "output_type": "display_data"
        },
        {
          "name": "stderr",
          "output_type": "stream",
          "text": [
            "A new version of the following files was downloaded from https://huggingface.co/Salesforce/xgen-7b-8k-inst:\n",
            "- tokenization_xgen.py\n",
            ". Make sure to double-check they do not contain any added malicious code. To avoid downloading new versions of the code file, you can pin a revision.\n"
          ]
        }
      ],
      "source": [
        "tokenizer = AutoTokenizer.from_pretrained(\n",
        "    checkpoint,\n",
        "    trust_remote_code=True\n",
        ")"
      ]
    },
    {
      "cell_type": "code",
      "execution_count": null,
      "metadata": {
        "colab": {
          "base_uri": "https://localhost:8080/",
          "height": 311
        },
        "id": "gVRFbxolQMab",
        "outputId": "ff85a702-0b76-4583-93be-1289a12542f6"
      },
      "outputs": [
        {
          "data": {
            "application/vnd.jupyter.widget-view+json": {
              "model_id": "59a52517ff544d5aa6a249430f289952",
              "version_major": 2,
              "version_minor": 0
            },
            "text/plain": [
              "config.json:   0%|          | 0.00/510 [00:00<?, ?B/s]"
            ]
          },
          "metadata": {},
          "output_type": "display_data"
        },
        {
          "name": "stderr",
          "output_type": "stream",
          "text": [
            "The `load_in_4bit` and `load_in_8bit` arguments are deprecated and will be removed in the future versions. Please, pass a `BitsAndBytesConfig` object in `quantization_config` argument instead.\n"
          ]
        },
        {
          "data": {
            "application/vnd.jupyter.widget-view+json": {
              "model_id": "55ee93762ede4ff0a5abf752b3a0cba4",
              "version_major": 2,
              "version_minor": 0
            },
            "text/plain": [
              "pytorch_model.bin.index.json:   0%|          | 0.00/26.8k [00:00<?, ?B/s]"
            ]
          },
          "metadata": {},
          "output_type": "display_data"
        },
        {
          "data": {
            "application/vnd.jupyter.widget-view+json": {
              "model_id": "19350f3777f14935ab8e2111978821f3",
              "version_major": 2,
              "version_minor": 0
            },
            "text/plain": [
              "Downloading shards:   0%|          | 0/3 [00:00<?, ?it/s]"
            ]
          },
          "metadata": {},
          "output_type": "display_data"
        },
        {
          "data": {
            "application/vnd.jupyter.widget-view+json": {
              "model_id": "39a18063859c40c2bca3c08571b0cc1f",
              "version_major": 2,
              "version_minor": 0
            },
            "text/plain": [
              "pytorch_model-00001-of-00003.bin:   0%|          | 0.00/9.95G [00:00<?, ?B/s]"
            ]
          },
          "metadata": {},
          "output_type": "display_data"
        },
        {
          "data": {
            "application/vnd.jupyter.widget-view+json": {
              "model_id": "7ecab42505d54a1dbf8bb395a2d842e7",
              "version_major": 2,
              "version_minor": 0
            },
            "text/plain": [
              "pytorch_model-00002-of-00003.bin:   0%|          | 0.00/9.96G [00:00<?, ?B/s]"
            ]
          },
          "metadata": {},
          "output_type": "display_data"
        },
        {
          "data": {
            "application/vnd.jupyter.widget-view+json": {
              "model_id": "423f27a3023e4a6fbfb07f3cb9aeb313",
              "version_major": 2,
              "version_minor": 0
            },
            "text/plain": [
              "pytorch_model-00003-of-00003.bin:   0%|          | 0.00/7.68G [00:00<?, ?B/s]"
            ]
          },
          "metadata": {},
          "output_type": "display_data"
        },
        {
          "data": {
            "application/vnd.jupyter.widget-view+json": {
              "model_id": "af7e68cbe67749b587a728b6d3ee90b0",
              "version_major": 2,
              "version_minor": 0
            },
            "text/plain": [
              "Loading checkpoint shards:   0%|          | 0/3 [00:00<?, ?it/s]"
            ]
          },
          "metadata": {},
          "output_type": "display_data"
        },
        {
          "data": {
            "application/vnd.jupyter.widget-view+json": {
              "model_id": "e16c13f78b3f42fbb38d69105f11d5d4",
              "version_major": 2,
              "version_minor": 0
            },
            "text/plain": [
              "generation_config.json:   0%|          | 0.00/119 [00:00<?, ?B/s]"
            ]
          },
          "metadata": {},
          "output_type": "display_data"
        }
      ],
      "source": [
        "model = AutoModelForCausalLM.from_pretrained(\n",
        "    checkpoint,\n",
        "    torch_dtype=torch.bfloat16,\n",
        "    load_in_8bit = True if torch.cuda.is_available() else False,\n",
        "    device_map = \"auto\"\n",
        ")"
      ]
    },
    {
      "cell_type": "markdown",
      "metadata": {
        "id": "FIocULhORVXz"
      },
      "source": [
        "## Helping functions"
      ]
    },
    {
      "cell_type": "code",
      "execution_count": null,
      "metadata": {
        "id": "t9-VHXpn5bis"
      },
      "outputs": [],
      "source": [
        "def transfer_csv_to_dict(csv_file_name):\n",
        "  with open(csv_file_name, 'r') as file:\n",
        "    csv_reader = csv.DictReader(file)\n",
        "    data = [row for row in csv_reader]\n",
        "  return data"
      ]
    },
    {
      "cell_type": "code",
      "execution_count": null,
      "metadata": {
        "id": "A5byeyETZBbY"
      },
      "outputs": [],
      "source": [
        "def refine_output(output):\n",
        "  # initializing substrings\n",
        "  sub1 = \"{\"\n",
        "  sub2 = \"}\"\n",
        "\n",
        "  if (sub1 not in output) or (sub2 not in output):\n",
        "    return False, output\n",
        "\n",
        "  # getting index of substrings\n",
        "  idx1 = output.index(sub1)\n",
        "  idx2 = output.index(sub2)\n",
        "\n",
        "  res = ''\n",
        "  # getting elements in between (inclusive)\n",
        "  for idx in range(idx1, idx2 + len(sub2)):\n",
        "      res = res + output[idx]\n",
        "\n",
        "  return True, res"
      ]
    },
    {
      "cell_type": "code",
      "execution_count": null,
      "metadata": {
        "id": "u6RAovRypu_O"
      },
      "outputs": [],
      "source": [
        "def model_generation(prompt):\n",
        "  inputs = tokenizer(prompt, return_tensors=\"pt\").to(device)\n",
        "\n",
        "  # https://huggingface.co/docs/transformers/main_classes/text_generation\n",
        "  generated_ids = model.generate(\n",
        "      **inputs,\n",
        "      max_length=4096,\n",
        "      pad_token_id=50256,\n",
        "      do_sample=True,\n",
        "      top_p=0.95,\n",
        "      top_k=50,   #100\n",
        "      temperature=0.7,\n",
        "  )\n",
        "\n",
        "  output = tokenizer.decode(generated_ids[0], skip_special_tokens=True).lstrip()\n",
        "\n",
        "  # Output starts with ### Assistant: and ends with <|endoftext|>\n",
        "  # Get just the answer\n",
        "  output = output.split(\"### Assistant:\")[-1]\n",
        "  output = output.split(\"<|endoftext|>\")[0]\n",
        "\n",
        "  return output"
      ]
    },
    {
      "cell_type": "code",
      "execution_count": null,
      "metadata": {
        "id": "O4K9ehTp7XYK"
      },
      "outputs": [],
      "source": [
        "def preprocessing(database_name, dirty_row, index):\n",
        "\n",
        "  # Taken from Model card\n",
        "  header = (\n",
        "    \"A chat between a curious human and an artificial intelligence assistant. \"\n",
        "    \"The assistant gives helpful, detailed and polite answers to the human's questions.\\n\\n\"\n",
        "  )\n",
        "\n",
        "  prompt = (\n",
        "    \"### Human: You are a database engineer. You need to cleanse a row of dirty data. \\n\\n\"\n",
        "    \"The database name is: \" + database_name + \"\\n\\n\"\n",
        "    \"Try to cleanse the following row of dirty data in a dictionary form: \\n\\n\" + str(dirty_row) + \"\\n\\n\"\n",
        "    \"Return the updated dictionary ONLY with possible error fixed in one line! Your response should be in a valid dictionary form. All the values in the dictionary should be in a string form.\"\n",
        "    \"Do not add or delete any attribute to the dictionary. There should be no lists in the dictionary. \"\n",
        "    \"Your updated dictionary is:\\n\\n###\"\n",
        "  )\n",
        "\n",
        "  output = model_generation(header + prompt)\n",
        "  refine_status, output = refine_output(output)\n",
        "\n",
        "  if refine_status == False:\n",
        "    print(\"Fail to return in a dictionary form at index\", index, \"Output:\", output)\n",
        "    return dirty_row\n",
        "  else:\n",
        "    res = dirty_row\n",
        "    # transfer dict str to dict\n",
        "    try:\n",
        "      res = ast.literal_eval(output)\n",
        "    except:\n",
        "      print(\"Fail to return in a dictionary form at index\", index, \"Output:\", output)\n",
        "    return res"
      ]
    },
    {
      "cell_type": "code",
      "execution_count": null,
      "metadata": {
        "id": "QefSHsojCgLL"
      },
      "outputs": [],
      "source": [
        "def deduce_sub_dict(dictionary, selected_keys):\n",
        "  sub_dict = {}\n",
        "  for key in selected_keys:\n",
        "    if key in dictionary:\n",
        "      sub_dict[key] = dictionary[key]\n",
        "  return sub_dict"
      ]
    },
    {
      "cell_type": "code",
      "execution_count": null,
      "metadata": {
        "id": "Prny9nSB_tqb"
      },
      "outputs": [],
      "source": [
        "def preprocessing_few_shot(database_name, dirty_row, selected_keys, attribute_name, index):\n",
        "\n",
        "  # Taken from Model card\n",
        "  header = (\n",
        "    \"A chat between a curious human and an artificial intelligence assistant. \"\n",
        "    \"The assistant gives helpful, detailed and polite answers to the human's questions.\\n\\n\"\n",
        "  )\n",
        "\n",
        "  dirty_row = deduce_sub_dict(dirty_row, selected_keys)\n",
        "\n",
        "  prompt = (\n",
        "    \"### Human: You are a database engineer. You need to cleanse a row of dirty data. \\n\\n\"\n",
        "    \"The database name is: \" + database_name + \"\\n\\n\"\n",
        "    \"You will be given a row of dirty data in a dictionary form with attributes \" + str(selected_keys) + \". \"\n",
        "    \"According to the values of attributes except '\" + attribute_name + \"', only cleanse the value of '\" + attribute_name + \"'. \\n\\n\"\n",
        "    \"The row of dirty data is: \\n\\n\" + str(dirty_row) + \"\\n\\n\"\n",
        "    \"Return the updated dictionary ONLY with possible error at attribute '\" + attribute_name + \"' fixed in one line! Your response should be in a valid dictionary form. \"\n",
        "    \"Do not add or delete any attribute to the dictionary. There should be no lists in the dictionary. \"\n",
        "    \"Your updated dictionary is:\\n\\n###\"\n",
        "  )\n",
        "\n",
        "  output = model_generation(header + prompt)\n",
        "  refine_status, output = refine_output(output)\n",
        "\n",
        "  if refine_status == False:\n",
        "    print(\"Fail to return in a dictionary form at index\", index, \"Output:\", output)\n",
        "    return dirty_row\n",
        "  else:\n",
        "    res = dirty_row\n",
        "    # transfer dict str to dict\n",
        "    try:\n",
        "      res = ast.literal_eval(output)\n",
        "    except:\n",
        "      print(\"Fail to return in a dictionary form at index\", index, \"Output:\", output)\n",
        "    return res"
      ]
    },
    {
      "cell_type": "code",
      "execution_count": null,
      "metadata": {
        "id": "D8hA1euGytFq"
      },
      "outputs": [],
      "source": [
        "def evaluate(dirty_dict, clean_dict, preprocessed_dict):\n",
        "  number_of_errors = 0\n",
        "  detected_errors = 0\n",
        "  repairs_performed = 0\n",
        "  correct_repairs = 0\n",
        "  wrong_repair_found = False\n",
        "  not_performed_repair_found = False\n",
        "\n",
        "  for i in range(len(dirty_dict)):\n",
        "    for key in dirty_dict[i].keys():\n",
        "      dirty_value = dirty_dict[i][key]\n",
        "      clean_value = clean_dict[i][key]\n",
        "      if dirty_value != clean_value:\n",
        "        number_of_errors += 1\n",
        "\n",
        "      if key in preprocessed_dict[i]:\n",
        "        preprocessed_value = preprocessed_dict[i][key]\n",
        "        if dirty_value != preprocessed_value:\n",
        "          repairs_performed += 1\n",
        "        if dirty_value != clean_value:\n",
        "          if dirty_value != preprocessed_value:\n",
        "            detected_errors += 1\n",
        "            if preprocessed_value == clean_value:\n",
        "              correct_repairs += 1\n",
        "              if correct_repairs <= 75:\n",
        "                print(\"Correct repair found at index\", i)\n",
        "                print(\"Key:\", key)\n",
        "                print(\"Dirty row:\", dirty_dict[i])\n",
        "                print(\"Clean row:\", clean_dict[i])\n",
        "                print(\"Preprocessed row:\", preprocessed_dict[i])\n",
        "            elif wrong_repair_found == False:\n",
        "              print(\"Wrong repair found at index\", i)\n",
        "              print(\"Key:\", key)\n",
        "              print(\"Dirty row:\", dirty_dict[i])\n",
        "              print(\"Clean row:\", clean_dict[i])\n",
        "              print(\"Preprocessed row:\", preprocessed_dict[i])\n",
        "              wrong_repair_found = True\n",
        "          elif not_performed_repair_found == False:\n",
        "            print(\"Not performed repair found at index\", i)\n",
        "            print(\"Key:\", key)\n",
        "            print(\"Dirty row:\", dirty_dict[i])\n",
        "            print(\"Clean row:\", clean_dict[i])\n",
        "            print(\"Preprocessed row:\", preprocessed_dict[i])\n",
        "            not_performed_repair_found = True\n",
        "        elif dirty_value != preprocessed_value and wrong_repair_found == False:\n",
        "          print(\"Wrong repair found at index\", i)\n",
        "          print(\"Key:\", key)\n",
        "          print(\"Dirty row:\", dirty_dict[i])\n",
        "          print(\"Clean row:\", clean_dict[i])\n",
        "          print(\"Preprocessed row:\", preprocessed_dict[i])\n",
        "          wrong_repair_found = True\n",
        "\n",
        "  precision = correct_repairs / repairs_performed\n",
        "  recall = correct_repairs / number_of_errors\n",
        "  percentage_of_errors_detected = detected_errors / number_of_errors\n",
        "\n",
        "  print(\"Number of errors:\", number_of_errors)\n",
        "  print(\"Repairs performed:\", repairs_performed)\n",
        "  print(\"Correct repairs:\", correct_repairs)\n",
        "  print(\"Detected errors:\", detected_errors)\n",
        "  print(\"Precision:\", precision)\n",
        "  print(\"Recall:\", recall)\n",
        "  print(\"Percentage of errors detected:\", percentage_of_errors_detected)\n",
        "\n",
        "  f1_score = 2 * (precision * recall) / (precision + recall)\n",
        "  print(\"F1 Score:\", f1_score)"
      ]
    },
    {
      "cell_type": "markdown",
      "metadata": {
        "id": "bPUMVfmqh3IF"
      },
      "source": [
        "## Hospital"
      ]
    },
    {
      "cell_type": "code",
      "execution_count": null,
      "metadata": {
        "colab": {
          "base_uri": "https://localhost:8080/"
        },
        "id": "Kaw-9FKtmPtL",
        "outputId": "f829410e-254e-48bc-dea2-cb5d8217f933"
      },
      "outputs": [
        {
          "name": "stdout",
          "output_type": "stream",
          "text": [
            "2024-04-28 16:55:21.334445-05:00\n"
          ]
        }
      ],
      "source": [
        "print(datetime.now(timezone(current_timezone)))"
      ]
    },
    {
      "cell_type": "code",
      "execution_count": null,
      "metadata": {
        "id": "ghT-S2PbXf6I"
      },
      "outputs": [],
      "source": [
        "dirty_dict = transfer_csv_to_dict('/content/data_clean_datasets/datasets/hospital/hospital_dirty.csv')\n",
        "clean_dict = transfer_csv_to_dict('/content/data_clean_datasets/datasets/hospital/hospital_clean_rows.csv')\n",
        "preprocessed_dict = []"
      ]
    },
    {
      "cell_type": "code",
      "execution_count": null,
      "metadata": {
        "colab": {
          "base_uri": "https://localhost:8080/"
        },
        "id": "7JAWCSqKte9a",
        "outputId": "62398201-e5db-4e39-f4f6-63cfc2070505"
      },
      "outputs": [
        {
          "name": "stdout",
          "output_type": "stream",
          "text": [
            "0 2024-04-28 16:56:04.607982-05:00\n",
            "50 2024-04-28 17:27:19.239893-05:00\n",
            "100 2024-04-28 18:00:19.290709-05:00\n",
            "150 2024-04-28 18:30:36.247458-05:00\n",
            "200 2024-04-28 19:03:35.501336-05:00\n",
            "250 2024-04-28 19:38:51.543606-05:00\n",
            "Fail to return in a dictionary form at index 283 Output:  {'ProviderNumber': '10016', 'HospitalName': 'shelby baptist medical center', 'Address1': '1000 first street north', 'Address2': '', 'Address3': '', 'City': 'alabaster', 'State': 'al', 'ZipCode': '3x007', 'CountyName': 'shelby', 'PhoneNumber': '205.628.81\n",
            "\n",
            "300 2024-04-28 20:11:19.767266-05:00\n",
            "Fail to return in a dictionary form at index 350 Output: {'ProviderNumber': '10056', 'HospitalName': 'St Vincent's Hospital', 'Address1': '810 St Vincent's Drive', 'City': 'Birmingham', 'State': 'AL', 'ZipCode': '35205', 'CountyName': 'Jefferson', 'PhoneNumber': '205-937-7000', 'HospitalType': 'Acute Care Hospitals', 'HospitalOwner': 'Voluntary Non-Profit - Other', 'EmergencyService': 'Yes', 'Condition': 'Heart Attack', 'MeasureCode': 'AMI-3', 'MeasureName': 'Heart Attack Patients Given ACE Inhibitor or ARB for Left Ventricular Systolic Dysfunction (LVSD)', 'Score': '85%', 'Sample': '41 patients'}\n",
            "350 2024-04-28 20:44:08.331453-05:00\n",
            "400 2024-04-28 21:15:19.392965-05:00\n",
            "450 2024-04-28 21:48:00.865413-05:00\n",
            "500 2024-04-28 22:22:32.636690-05:00\n",
            "550 2024-04-28 22:54:25.691559-05:00\n",
            "600 2024-04-28 23:25:49.207135-05:00\n",
            "650 2024-04-28 23:59:15.486366-05:00\n",
            "700 2024-04-29 00:31:38.947197-05:00\n",
            "750 2024-04-29 01:08:15.253282-05:00\n",
            "800 2024-04-29 01:42:21.039622-05:00\n",
            "850 2024-04-29 02:13:17.308821-05:00\n",
            "900 2024-04-29 02:47:50.056782-05:00\n",
            "950 2024-04-29 03:21:04.766296-05:00\n"
          ]
        }
      ],
      "source": [
        "for i in range(len(dirty_dict)):\n",
        "  preprocessed_dict.append(preprocessing('Hospital', dirty_dict[i], i))\n",
        "  if i % 50 == 0:\n",
        "    print(i, datetime.now(timezone(current_timezone)))"
      ]
    },
    {
      "cell_type": "code",
      "execution_count": null,
      "metadata": {
        "colab": {
          "base_uri": "https://localhost:8080/"
        },
        "id": "TYbi1NGmmmZ0",
        "outputId": "8501b76a-3d71-4ebc-da16-c3b76500e73d"
      },
      "outputs": [
        {
          "name": "stdout",
          "output_type": "stream",
          "text": [
            "2024-04-29 03:52:16.128166-05:00\n"
          ]
        }
      ],
      "source": [
        "print(datetime.now(timezone(current_timezone)))"
      ]
    },
    {
      "cell_type": "code",
      "execution_count": null,
      "metadata": {
        "colab": {
          "base_uri": "https://localhost:8080/"
        },
        "id": "aIbbFhsiyY-s",
        "outputId": "88a1f9b0-3051-4443-e6a3-014868d4deac"
      },
      "outputs": [
        {
          "name": "stdout",
          "output_type": "stream",
          "text": [
            "Wrong repair found at index 0\n",
            "Key: PhoneNumber\n",
            "Dirty row: {'ProviderNumber': '10018', 'HospitalName': 'callahan eye foundation hospital', 'Address1': '1720 university blvd', 'Address2': '', 'Address3': '', 'City': 'birmingham', 'State': 'al', 'ZipCode': '35233', 'CountyName': 'jefferson', 'PhoneNumber': '2053258100', 'HospitalType': 'acute care hospitals', 'HospitalOwner': 'voluntary non-profit - private', 'EmergencyService': 'yes', 'Condition': 'surgical infection prevention', 'MeasureCode': 'scip-card-2', 'MeasureName': 'surgery patients who were taking heart drugs caxxed beta bxockers before coming to the hospitax who were kept on the beta bxockers during the period just before and after their surgery', 'Score': '', 'Sample': '', 'Stateavg': 'al_scip-card-2'}\n",
            "Clean row: {'ProviderNumber': '10018', 'HospitalName': 'callahan eye foundation hospital', 'Address1': '1720 university blvd', 'Address2': '', 'Address3': '', 'City': 'birmingham', 'State': 'al', 'ZipCode': '35233', 'CountyName': 'jefferson', 'PhoneNumber': '2053258100', 'HospitalType': 'acute care hospitals', 'HospitalOwner': 'voluntary non-profit - private', 'EmergencyService': 'yes', 'Condition': 'surgical infection prevention', 'MeasureCode': 'scip-card-2', 'MeasureName': 'surgery patients who were taking heart drugs called beta blockers before coming to the hospital who were kept on the beta blockers during the period just before and after their surgery', 'Score': '', 'Sample': '', 'Stateavg': 'al_scip-card-2'}\n",
            "Preprocessed row: {'ProviderNumber': '10018', 'HospitalName': 'callahan eye foundation hospital', 'Address1': '1720 university blvd', 'Address2': '', 'Address3': '', 'City': 'birmingham', 'State': 'al', 'ZipCode': '35233', 'CountyName': 'jefferson', 'PhoneNumber': '20532608100', 'HospitalType': 'acute care hospitals', 'HospitalOwner': 'voluntary non-profit - private', 'EmergencyService': 'yes', 'Condition': 'surgical infection prevention', 'MeasureCode': 'scip-card-2', 'MeasureName': 'surgery patients who were taking heart drugs caxxed beta bxockers before coming to the hospital and were kept on the beta bxockers during the period just before and after their surgery', 'Score': '', 'Sample': ''}\n",
            "Not performed repair found at index 3\n",
            "Key: City\n",
            "Dirty row: {'ProviderNumber': '10018', 'HospitalName': 'callahan eye foundation hospital', 'Address1': '1720 university blvd', 'Address2': '', 'Address3': '', 'City': 'birminghxm', 'State': 'al', 'ZipCode': '35233', 'CountyName': 'jefferson', 'PhoneNumber': '2053258100', 'HospitalType': 'acute care hospitals', 'HospitalOwner': 'voluntary non-profit - private', 'EmergencyService': 'yes', 'Condition': 'surgical infection prevention', 'MeasureCode': 'scip-inf-3', 'MeasureName': 'surgery patients whose preventive antibiotics were stopped at the right time (within 24 hours after surgery)', 'Score': '', 'Sample': '', 'Stateavg': 'al_scip-inf-3'}\n",
            "Clean row: {'ProviderNumber': '10018', 'HospitalName': 'callahan eye foundation hospital', 'Address1': '1720 university blvd', 'Address2': '', 'Address3': '', 'City': 'birmingham', 'State': 'al', 'ZipCode': '35233', 'CountyName': 'jefferson', 'PhoneNumber': '2053258100', 'HospitalType': 'acute care hospitals', 'HospitalOwner': 'voluntary non-profit - private', 'EmergencyService': 'yes', 'Condition': 'surgical infection prevention', 'MeasureCode': 'scip-inf-3', 'MeasureName': 'surgery patients whose preventive antibiotics were stopped at the right time (within 24 hours after surgery)', 'Score': '', 'Sample': '', 'Stateavg': 'al_scip-inf-3'}\n",
            "Preprocessed row: {'ProviderNumber': '10018', 'HospitalName': 'callahan eye foundation hospital', 'Address1': '1720 university blvd', 'Address2': '', 'Address3': '', 'City': 'birminghxm', 'State': 'al', 'ZipCode': '35233', 'CountyName': 'jefferson', 'PhoneNumber': '20532608000', 'HospitalType': 'acute care hospitals', 'HospitalOwner': 'voluntary non-profit - private', 'EmergencyService': 'yes', 'Condition': 'surgical infection prevention', 'MeasureCode': 'scip-inf-3', 'MeasureName': 'surgery patients whose preventive antibiotics were stopped at the right time (within 24 hours after surgery)', 'Score': '', 'Sample': '', 'Stateavg': 'al_scip-inf-3'}\n",
            "Correct repair found at index 10\n",
            "Key: City\n",
            "Dirty row: {'ProviderNumber': '10019', 'HospitalName': 'helen keller memorial hospital', 'Address1': '1300 south montgomery avenue', 'Address2': '', 'Address3': '', 'City': 'sheffxeld', 'State': 'al', 'ZipCode': '35660', 'CountyName': 'jefferson', 'PhoneNumber': '2563864556', 'HospitalType': 'acute care hospitals', 'HospitalOwner': 'government - hospital district or authority', 'EmergencyService': 'yes', 'Condition': 'heart attack', 'MeasureCode': 'ami-3', 'MeasureName': 'heart attack patients given ace inhibitor or arb for left ventricular systolic dysfunction (lvsd)', 'Score': '75%', 'Sample': '4 patients', 'Stateavg': 'al_ami-3'}\n",
            "Clean row: {'ProviderNumber': '10019', 'HospitalName': 'helen keller memorial hospital', 'Address1': '1300 south montgomery avenue', 'Address2': '', 'Address3': '', 'City': 'sheffield', 'State': 'al', 'ZipCode': '35660', 'CountyName': 'jefferson', 'PhoneNumber': '2563864556', 'HospitalType': 'acute care hospitals', 'HospitalOwner': 'government - hospital district or authority', 'EmergencyService': 'yes', 'Condition': 'heart attack', 'MeasureCode': 'ami-3', 'MeasureName': 'heart attack patients given ace inhibitor or arb for left ventricular systolic dysfunction (lvsd)', 'Score': '75%', 'Sample': '4 patients', 'Stateavg': 'al_ami-3'}\n",
            "Preprocessed row: {'ProviderNumber': '10019', 'HospitalName': 'helen keller memorial hospital', 'Address1': '1300 south montgomery avenue', 'Address2': '', 'Address3': '', 'City': 'sheffield', 'State': 'al', 'ZipCode': '35660', 'CountyName': 'jefferson', 'PhoneNumber': '2563864556', 'HospitalType': 'acute care hospitals', 'HospitalOwner': 'government - hospital district or authority', 'EmergencyService': 'yes', 'Condition': 'heart attack', 'MeasureCode': 'ami-3', 'MeasureName': 'heart attack patients given ace inhibitor or arb for left ventricular systolic dysfunction (lvsd)', 'Score': '75%', 'Sample': '4 patients', 'Stateavg': 'al_ami-3'}\n",
            "Correct repair found at index 21\n",
            "Key: Condition\n",
            "Dirty row: {'ProviderNumber': '10001', 'HospitalName': 'southeast alabama medical center', 'Address1': '1108 ross clark circle', 'Address2': '', 'Address3': '', 'City': 'dothan', 'State': 'al', 'ZipCode': '36302', 'CountyName': 'houston', 'PhoneNumber': '3347938701', 'HospitalType': 'acute care hospitals', 'HospitalOwner': 'government - hospital district or authority', 'EmergencyService': 'yes', 'Condition': 'heart attaxk', 'MeasureCode': 'ami-3', 'MeasureName': 'heart attack patients given ace inhibitor or arb for left ventricular systolic dysfunction (lvsd)', 'Score': '96%', 'Sample': '71 patients', 'Stateavg': 'al_ami-3'}\n",
            "Clean row: {'ProviderNumber': '10001', 'HospitalName': 'southeast alabama medical center', 'Address1': '1108 ross clark circle', 'Address2': '', 'Address3': '', 'City': 'dothan', 'State': 'al', 'ZipCode': '36302', 'CountyName': 'houston', 'PhoneNumber': '3347938701', 'HospitalType': 'acute care hospitals', 'HospitalOwner': 'government - hospital district or authority', 'EmergencyService': 'yes', 'Condition': 'heart attack', 'MeasureCode': 'ami-3', 'MeasureName': 'heart attack patients given ace inhibitor or arb for left ventricular systolic dysfunction (lvsd)', 'Score': '96%', 'Sample': '71 patients', 'Stateavg': 'al_ami-3'}\n",
            "Preprocessed row: {'ProviderNumber': '10001', 'HospitalName': 'southeast alabama medical center', 'Address1': '1108 ross clark circle', 'City': 'dothan', 'State': 'al', 'ZipCode': '36302', 'CountyName': 'houston', 'PhoneNumber': '3347938701', 'HospitalType': 'acute care hospitals', 'HospitalOwner': 'government - hospital district or authority', 'EmergencyService': 'yes', 'Condition': 'heart attack', 'MeasureCode': 'ami-3', 'MeasureName': 'heart attack patients given ace inhibitor or arb for left ventricular systolic dysfunction (lvsd)', 'Score': '96%', 'Sample': '71 patients'}\n",
            "Correct repair found at index 39\n",
            "Key: HospitalType\n",
            "Dirty row: {'ProviderNumber': '10001', 'HospitalName': 'southeast alabama medical center', 'Address1': '1108 ross clark circle', 'Address2': '', 'Address3': '', 'City': 'dothan', 'State': 'al', 'ZipCode': '36302', 'CountyName': 'houston', 'PhoneNumber': '3347938701', 'HospitalType': 'acxte care hospitals', 'HospitalOwner': 'government - hospital district or authority', 'EmergencyService': 'yes', 'Condition': 'surgical infection prevention', 'MeasureCode': 'scip-inf-3', 'MeasureName': 'surgery patients whose preventive antibiotics were stopped at the right time (within 24 hours after surgery)', 'Score': '88%', 'Sample': '385 patients', 'Stateavg': 'al_scip-inf-3'}\n",
            "Clean row: {'ProviderNumber': '10001', 'HospitalName': 'southeast alabama medical center', 'Address1': '1108 ross clark circle', 'Address2': '', 'Address3': '', 'City': 'dothan', 'State': 'al', 'ZipCode': '36302', 'CountyName': 'houston', 'PhoneNumber': '3347938701', 'HospitalType': 'acute care hospitals', 'HospitalOwner': 'government - hospital district or authority', 'EmergencyService': 'yes', 'Condition': 'surgical infection prevention', 'MeasureCode': 'scip-inf-3', 'MeasureName': 'surgery patients whose preventive antibiotics were stopped at the right time (within 24 hours after surgery)', 'Score': '88%', 'Sample': '385 patients', 'Stateavg': 'al_scip-inf-3'}\n",
            "Preprocessed row: {'ProviderNumber': '10001', 'HospitalName': 'southeast alabama medical center', 'Address1': '1108 ross clark circle', 'Address2': '', 'Address3': '', 'City': 'dothan', 'State': 'al', 'ZipCode': '36302', 'CountyName': 'houston', 'PhoneNumber': '3347938701', 'HospitalType': 'acute care hospitals', 'HospitalOwner': 'government - hospital district or authority', 'EmergencyService': 'yes', 'Condition': 'surgical infection prevention', 'MeasureCode': 'scip-inf-3', 'MeasureName': 'surgery patients whose preventive antibiotics were stopped at the right time (within 24 hours after surgery)', 'Score': '88%', 'Sample': '385 patients', 'Stateavg': 'al_scip-inf-3'}\n",
            "Correct repair found at index 73\n",
            "Key: Condition\n",
            "Dirty row: {'ProviderNumber': '10006', 'HospitalName': 'eliza coffee memorial hospital', 'Address1': '205 marengo street', 'Address2': '', 'Address3': '', 'City': 'florence', 'State': 'al', 'ZipCode': '35631', 'CountyName': 'lauderdale', 'PhoneNumber': '2567688400', 'HospitalType': 'acute care hospitals', 'HospitalOwner': 'voluntary non-profit - other', 'EmergencyService': 'yes', 'Condition': 'hearx axxack', 'MeasureCode': 'ami-5', 'MeasureName': 'heart attack patients given beta blocker at discharge', 'Score': '96%', 'Sample': '227 patients', 'Stateavg': 'al_ami-5'}\n",
            "Clean row: {'ProviderNumber': '10006', 'HospitalName': 'eliza coffee memorial hospital', 'Address1': '205 marengo street', 'Address2': '', 'Address3': '', 'City': 'florence', 'State': 'al', 'ZipCode': '35631', 'CountyName': 'lauderdale', 'PhoneNumber': '2567688400', 'HospitalType': 'acute care hospitals', 'HospitalOwner': 'voluntary non-profit - other', 'EmergencyService': 'yes', 'Condition': 'heart attack', 'MeasureCode': 'ami-5', 'MeasureName': 'heart attack patients given beta blocker at discharge', 'Score': '96%', 'Sample': '227 patients', 'Stateavg': 'al_ami-5'}\n",
            "Preprocessed row: {'ProviderNumber': '10006', 'HospitalName': 'eliza coffee memorial hospital', 'Address1': '205 marengo street', 'Address2': '', 'Address3': '', 'City': 'florence', 'State': 'al', 'ZipCode': '35631', 'CountyName': 'lauderdale', 'PhoneNumber': '2567688400', 'HospitalType': 'acute care hospitals', 'HospitalOwner': 'voluntary non-profit - other', 'EmergencyService': 'yes', 'Condition': 'heart attack', 'MeasureCode': 'ami-5', 'MeasureName': 'heart attack patients given beta blocker at discharge', 'Score': '96%', 'Sample': '227 patients', 'Stateavg': 'al_ami-5'}\n",
            "Correct repair found at index 91\n",
            "Key: Sample\n",
            "Dirty row: {'ProviderNumber': '10006', 'HospitalName': 'eliza coffee memorial hospital', 'Address1': '205 marengo street', 'Address2': '', 'Address3': '', 'City': 'florence', 'State': 'al', 'ZipCode': '35631', 'CountyName': 'lauderdale', 'PhoneNumber': '2567688400', 'HospitalType': 'acute care hospitals', 'HospitalOwner': 'voluntary non-profit - other', 'EmergencyService': 'yes', 'Condition': 'surgical infection prevention', 'MeasureCode': 'scip-inf-6', 'MeasureName': 'surgery patients needing hair removed from the surgical area before surgery who had hair removed using a safer method (electric clippers or hair removal cream c not a razor)', 'Score': '100%', 'Sample': '619 paxienxs', 'Stateavg': 'al_scip-inf-6'}\n",
            "Clean row: {'ProviderNumber': '10006', 'HospitalName': 'eliza coffee memorial hospital', 'Address1': '205 marengo street', 'Address2': '', 'Address3': '', 'City': 'florence', 'State': 'al', 'ZipCode': '35631', 'CountyName': 'lauderdale', 'PhoneNumber': '2567688400', 'HospitalType': 'acute care hospitals', 'HospitalOwner': 'voluntary non-profit - other', 'EmergencyService': 'yes', 'Condition': 'surgical infection prevention', 'MeasureCode': 'scip-inf-6', 'MeasureName': 'surgery patients needing hair removed from the surgical area before surgery who had hair removed using a safer method (electric clippers or hair removal cream c not a razor)', 'Score': '100%', 'Sample': '619 patients', 'Stateavg': 'al_scip-inf-6'}\n",
            "Preprocessed row: {'ProviderNumber': '10006', 'HospitalName': 'eliza coffee memorial hospital', 'Address1': '205 marengo street', 'Address2': '', 'Address3': '', 'City': 'florence', 'State': 'al', 'ZipCode': '35631', 'CountyName': 'lauderdale', 'PhoneNumber': '2567688400', 'HospitalType': 'acute care hospitals', 'HospitalOwner': 'voluntary non-profit - other', 'EmergencyService': 'yes', 'Condition': 'surgical infection prevention', 'MeasureCode': 'scip-inf-6', 'MeasureName': 'surgery patients needing hair removed from the surgical area before surgery who had hair removed using a safer method (electric clippers or hair removal cream c not a razor)', 'Score': '100%', 'Sample': '619 patients'}\n",
            "Correct repair found at index 98\n",
            "Key: HospitalType\n",
            "Dirty row: {'ProviderNumber': '10007', 'HospitalName': 'mizell memorial hospital', 'Address1': '702 n main st', 'Address2': '', 'Address3': '', 'City': 'opp', 'State': 'xl', 'ZipCode': '36467', 'CountyName': 'covington', 'PhoneNumber': '3344933541', 'HospitalType': 'acute care hosxitals', 'HospitalOwner': 'voluntary non-profit - private', 'EmergencyService': 'no', 'Condition': 'heart attack', 'MeasureCode': 'ami-5', 'MeasureName': 'heart attack patients given beta blocker at discharge', 'Score': '100%', 'Sample': '2 patients', 'Stateavg': 'al_ami-5'}\n",
            "Clean row: {'ProviderNumber': '10007', 'HospitalName': 'mizell memorial hospital', 'Address1': '702 n main st', 'Address2': '', 'Address3': '', 'City': 'opp', 'State': 'al', 'ZipCode': '36467', 'CountyName': 'covington', 'PhoneNumber': '3344933541', 'HospitalType': 'acute care hospitals', 'HospitalOwner': 'voluntary non-profit - private', 'EmergencyService': 'no', 'Condition': 'heart attack', 'MeasureCode': 'ami-5', 'MeasureName': 'heart attack patients given beta blocker at discharge', 'Score': '100%', 'Sample': '2 patients', 'Stateavg': 'al_ami-5'}\n",
            "Preprocessed row: {'ProviderNumber': '10007', 'HospitalName': 'mizell memorial hospital', 'Address1': '702 n main st', 'Address2': '', 'Address3': '', 'City': 'opp', 'State': 'xl', 'ZipCode': '36467', 'CountyName': 'covington', 'PhoneNumber': '3344933541', 'HospitalType': 'acute care hospitals', 'HospitalOwner': 'voluntary non-profit - private', 'EmergencyService': 'no', 'Condition': 'heart attack', 'MeasureCode': 'ami-5', 'MeasureName': 'heart attack patients given beta blocker at discharge', 'Score': '100%', 'Sample': '2 patients', 'Stateavg': 'al_ami-5'}\n",
            "Correct repair found at index 115\n",
            "Key: Sample\n",
            "Dirty row: {'ProviderNumber': '10007', 'HospitalName': 'mizell memorial hospital', 'Address1': '702 n main st', 'Address2': '', 'Address3': '', 'City': 'opp', 'State': 'al', 'ZipCode': '36467', 'CountyName': 'covington', 'PhoneNumber': '3344933541', 'HospitalType': 'acute care hospitals', 'HospitalOwner': 'voluntary non-profit - private', 'EmergencyService': 'no', 'Condition': 'surgical infection prevention', 'MeasureCode': 'scip-inf-4', 'MeasureName': 'all heart surgery patients whose blood sugar (blood glucose) is kept under good control in the days right after surgery', 'Score': '', 'Sample': '0 patixnts', 'Stateavg': 'al_scip-inf-4'}\n",
            "Clean row: {'ProviderNumber': '10007', 'HospitalName': 'mizell memorial hospital', 'Address1': '702 n main st', 'Address2': '', 'Address3': '', 'City': 'opp', 'State': 'al', 'ZipCode': '36467', 'CountyName': 'covington', 'PhoneNumber': '3344933541', 'HospitalType': 'acute care hospitals', 'HospitalOwner': 'voluntary non-profit - private', 'EmergencyService': 'no', 'Condition': 'surgical infection prevention', 'MeasureCode': 'scip-inf-4', 'MeasureName': 'all heart surgery patients whose blood sugar (blood glucose) is kept under good control in the days right after surgery', 'Score': '', 'Sample': '0 patients', 'Stateavg': 'al_scip-inf-4'}\n",
            "Preprocessed row: {'ProviderNumber': '10007', 'HospitalName': 'mizell memorial hospital', 'Address1': '702 n main st', 'Address2': '', 'Address3': '', 'City': 'opp', 'State': 'al', 'ZipCode': '36467', 'CountyName': 'covington', 'PhoneNumber': '3344933541', 'HospitalType': 'acute care hospitals', 'HospitalOwner': 'voluntary non-profit - private', 'EmergencyService': 'no', 'Condition': 'surgical infection prevention', 'MeasureCode': 'scip-inf-4', 'MeasureName': 'all heart surgery patients whose blood sugar (blood glucose) is kept under good control in the days right after surgery', 'Score': '', 'Sample': '0 patients', 'StateAvg': 'al_scip-inf-4'}\n",
            "Correct repair found at index 119\n",
            "Key: MeasureName\n",
            "Dirty row: {'ProviderNumber': '10008', 'HospitalName': 'crenshaw community hospital', 'Address1': '101 hospital circle', 'Address2': '', 'Address3': '', 'City': 'luverne', 'State': 'ax', 'ZipCode': '36049', 'CountyName': 'crenshaw', 'PhoneNumber': '3343353374', 'HospitalType': 'acute care hospitals', 'HospitalOwner': 'government - federal', 'EmergencyService': 'yes', 'Condition': 'heart attack', 'MeasureCode': 'ami-1', 'MeasureName': 'heart attack patients given aspirin at arrivax', 'Score': '0%', 'Sample': '1 patients', 'Stateavg': 'al_ami-1'}\n",
            "Clean row: {'ProviderNumber': '10008', 'HospitalName': 'crenshaw community hospital', 'Address1': '101 hospital circle', 'Address2': '', 'Address3': '', 'City': 'luverne', 'State': 'al', 'ZipCode': '36049', 'CountyName': 'crenshaw', 'PhoneNumber': '3343353374', 'HospitalType': 'acute care hospitals', 'HospitalOwner': 'government - federal', 'EmergencyService': 'yes', 'Condition': 'heart attack', 'MeasureCode': 'ami-1', 'MeasureName': 'heart attack patients given aspirin at arrival', 'Score': '0%', 'Sample': '1 patients', 'Stateavg': 'al_ami-1'}\n",
            "Preprocessed row: {'ProviderNumber': '10008', 'HospitalName': 'crenshaw community hospital', 'Address1': '101 hospital circle', 'Address2': '', 'Address3': '', 'City': 'luverne', 'State': 'ax', 'ZipCode': '36049', 'CountyName': 'crenshaw', 'PhoneNumber': '3343353374', 'HospitalType': 'acute care hospitals', 'HospitalOwner': 'government - federal', 'EmergencyService': 'yes', 'Condition': 'heart attack', 'MeasureCode': 'ami-1', 'MeasureName': 'heart attack patients given aspirin at arrival', 'Score': '0%', 'Sample': '1 patient'}\n",
            "Correct repair found at index 127\n",
            "Key: Condition\n",
            "Dirty row: {'ProviderNumber': '10008', 'HospitalName': 'crenshaw community hospital', 'Address1': '101 hospital circle', 'Address2': '', 'Address3': '', 'City': 'luverne', 'State': 'al', 'ZipCode': '36049', 'CountyName': 'crenshaw', 'PhoneNumber': '3343353374', 'HospitalType': 'acute care hospitals', 'HospitalOwner': 'government - federal', 'EmergencyService': 'yes', 'Condition': 'heaxt failuxe', 'MeasureCode': 'hf-2', 'MeasureName': 'heart failure patients given an evaluation of left ventricular systolic (lvs) function', 'Score': '72%', 'Sample': '39 patients', 'Stateavg': 'al_hf-2'}\n",
            "Clean row: {'ProviderNumber': '10008', 'HospitalName': 'crenshaw community hospital', 'Address1': '101 hospital circle', 'Address2': '', 'Address3': '', 'City': 'luverne', 'State': 'al', 'ZipCode': '36049', 'CountyName': 'crenshaw', 'PhoneNumber': '3343353374', 'HospitalType': 'acute care hospitals', 'HospitalOwner': 'government - federal', 'EmergencyService': 'yes', 'Condition': 'heart failure', 'MeasureCode': 'hf-2', 'MeasureName': 'heart failure patients given an evaluation of left ventricular systolic (lvs) function', 'Score': '72%', 'Sample': '39 patients', 'Stateavg': 'al_hf-2'}\n",
            "Preprocessed row: {'ProviderNumber': '10008', 'HospitalName': 'crenshaw community hospital', 'Address1': '101 hospital circle', 'Address2': '', 'Address3': '', 'City': 'luverne', 'State': 'al', 'ZipCode': '36049', 'CountyName': 'crenshaw', 'PhoneNumber': '3343353374', 'HospitalType': 'acute care hospitals', 'HospitalOwner': 'government - federal', 'EmergencyService': 'yes', 'Condition': 'heart failure', 'MeasureCode': 'hf-2', 'MeasureName': 'heart failure patients given an evaluation of left ventricular systolic (lvs) function', 'Score': '72%', 'Sample': '39 patients', 'Stateavg': 'al_hf-2'}\n",
            "Correct repair found at index 131\n",
            "Key: HospitalName\n",
            "Dirty row: {'ProviderNumber': '10008', 'HospitalName': 'crenshaw cxmmunity hxspital', 'Address1': '101 hospital circle', 'Address2': '', 'Address3': '', 'City': 'luverne', 'State': 'al', 'ZipCode': '36049', 'CountyName': 'crenshaw', 'PhoneNumber': '3343353374', 'HospitalType': 'acute care hospitals', 'HospitalOwner': 'government - federal', 'EmergencyService': 'yes', 'Condition': 'pneumonia', 'MeasureCode': 'pn-3b', 'MeasureName': 'pneumonia patients whose initial emergency room blood culture was performed prior to the administration of the first hospital dose of antibiotics', 'Score': '93%', 'Sample': '15 patients', 'Stateavg': 'al_pn-3b'}\n",
            "Clean row: {'ProviderNumber': '10008', 'HospitalName': 'crenshaw community hospital', 'Address1': '101 hospital circle', 'Address2': '', 'Address3': '', 'City': 'luverne', 'State': 'al', 'ZipCode': '36049', 'CountyName': 'crenshaw', 'PhoneNumber': '3343353374', 'HospitalType': 'acute care hospitals', 'HospitalOwner': 'government - federal', 'EmergencyService': 'yes', 'Condition': 'pneumonia', 'MeasureCode': 'pn-3b', 'MeasureName': 'pneumonia patients whose initial emergency room blood culture was performed prior to the administration of the first hospital dose of antibiotics', 'Score': '93%', 'Sample': '15 patients', 'Stateavg': 'al_pn-3b'}\n",
            "Preprocessed row: {'ProviderNumber': '10008', 'HospitalName': 'crenshaw community hospital', 'Address1': '101 hospital circle', 'Address2': '', 'Address3': '', 'City': 'luverne', 'State': 'al', 'ZipCode': '36049', 'CountyName': 'crenshaw', 'PhoneNumber': '334-335-3374', 'HospitalType': 'acute care hospitals', 'HospitalOwner': 'government - federal', 'EmergencyService': 'yes', 'Condition': 'pneumonia', 'MeasureCode': 'pn-3b', 'MeasureName': 'pneumonia patients whose initial emergency room blood culture was performed prior to the administration of the first hospital dose of antibiotics', 'Score': '93%', 'Sample': '15 patients'}\n",
            "Correct repair found at index 145\n",
            "Key: MeasureName\n",
            "Dirty row: {'ProviderNumber': '10009', 'HospitalName': 'hartselle medical center', 'Address1': '201 pine street northwest', 'Address2': '', 'Address3': '', 'City': 'hartselle', 'State': 'al', 'ZipCode': '35640', 'CountyName': 'morgan', 'PhoneNumber': '2567736511', 'HospitalType': 'acute care hospitals', 'HospitalOwner': 'proprietary', 'EmergencyService': 'yes', 'Condition': 'heart attack', 'MeasureCode': 'ami-2', 'MeasureName': 'heart attaxk patients given aspirin at disxharge', 'Score': '100%', 'Sample': '1 patients', 'Stateavg': 'al_ami-2'}\n",
            "Clean row: {'ProviderNumber': '10009', 'HospitalName': 'hartselle medical center', 'Address1': '201 pine street northwest', 'Address2': '', 'Address3': '', 'City': 'hartselle', 'State': 'al', 'ZipCode': '35640', 'CountyName': 'morgan', 'PhoneNumber': '2567736511', 'HospitalType': 'acute care hospitals', 'HospitalOwner': 'proprietary', 'EmergencyService': 'yes', 'Condition': 'heart attack', 'MeasureCode': 'ami-2', 'MeasureName': 'heart attack patients given aspirin at discharge', 'Score': '100%', 'Sample': '1 patients', 'Stateavg': 'al_ami-2'}\n",
            "Preprocessed row: {'ProviderNumber': '10009', 'HospitalName': 'hartselle medical center', 'Address1': '201 pine street northwest', 'Address2': '', 'Address3': '', 'City': 'hartselle', 'State': 'al', 'ZipCode': '35640', 'CountyName': 'morgan', 'PhoneNumber': '2567736511', 'HospitalType': 'acute care hospitals', 'HospitalOwner': 'proprietary', 'EmergencyService': 'yes', 'Condition': 'heart attack', 'MeasureCode': 'ami-2', 'MeasureName': 'heart attack patients given aspirin at discharge', 'Score': '100%', 'Sample': '1 patient', 'StateAvg': 'al_ami-2'}\n",
            "Correct repair found at index 165\n",
            "Key: State\n",
            "Dirty row: {'ProviderNumber': '10009', 'HospitalName': 'hartselle medical center', 'Address1': '201 pine street northwest', 'Address2': '', 'Address3': '', 'City': 'hartselle', 'State': 'ax', 'ZipCode': '35640', 'CountyName': 'morgan', 'PhoneNumber': '2567736511', 'HospitalType': 'acute care hospitals', 'HospitalOwner': 'proprietary', 'EmergencyService': 'yes', 'Condition': 'surgical infection prevention', 'MeasureCode': 'scip-inf-4', 'MeasureName': 'all heart surgery patients whose blood sugar (blood glucose) is kept under good control in the days right after surgery', 'Score': '', 'Sample': '0 patients', 'Stateavg': 'al_scip-inf-4'}\n",
            "Clean row: {'ProviderNumber': '10009', 'HospitalName': 'hartselle medical center', 'Address1': '201 pine street northwest', 'Address2': '', 'Address3': '', 'City': 'hartselle', 'State': 'al', 'ZipCode': '35640', 'CountyName': 'morgan', 'PhoneNumber': '2567736511', 'HospitalType': 'acute care hospitals', 'HospitalOwner': 'proprietary', 'EmergencyService': 'yes', 'Condition': 'surgical infection prevention', 'MeasureCode': 'scip-inf-4', 'MeasureName': 'all heart surgery patients whose blood sugar (blood glucose) is kept under good control in the days right after surgery', 'Score': '', 'Sample': '0 patients', 'Stateavg': 'al_scip-inf-4'}\n",
            "Preprocessed row: {'ProviderNumber': '10009', 'HospitalName': 'hartselle medical center', 'Address1': '201 pine street northwest', 'Address2': '', 'Address3': '', 'City': 'hartselle', 'State': 'al', 'ZipCode': '35640', 'CountyName': 'morgan', 'PhoneNumber': '2567736511', 'HospitalType': 'acute care hospitals', 'HospitalOwner': 'proprietary', 'EmergencyService': 'yes', 'Condition': 'surgical infection prevention', 'MeasureCode': 'scip-inf-4', 'MeasureName': 'all heart surgery patients whose blood sugar (blood glucose) is kept under good control in the days right after surgery', 'Score': '', 'Sample': '0 patients', 'Stateavg': 'al_scip-inf-4'}\n",
            "Correct repair found at index 193\n",
            "Key: Stateavg\n",
            "Dirty row: {'ProviderNumber': '10010', 'HospitalName': 'marshall medical center north', 'Address1': '8000 alabama highway 69', 'Address2': '', 'Address3': '', 'City': 'guntersville', 'State': 'al', 'ZipCode': '35976', 'CountyName': 'marshall', 'PhoneNumber': '2565718000', 'HospitalType': 'acute care hospitals', 'HospitalOwner': 'government - hospital district or authority', 'EmergencyService': 'yes', 'Condition': 'surgical infection prevention', 'MeasureCode': 'scip-vte-2', 'MeasureName': 'patients who got treatment  at the right time (within 24 hours before or after their surgery) to help prevent blood clots after certain types of surgery', 'Score': '84%', 'Sample': '56 patients', 'Stateavg': 'al_scix-vte-2'}\n",
            "Clean row: {'ProviderNumber': '10010', 'HospitalName': 'marshall medical center north', 'Address1': '8000 alabama highway 69', 'Address2': '', 'Address3': '', 'City': 'guntersville', 'State': 'al', 'ZipCode': '35976', 'CountyName': 'marshall', 'PhoneNumber': '2565718000', 'HospitalType': 'acute care hospitals', 'HospitalOwner': 'government - hospital district or authority', 'EmergencyService': 'yes', 'Condition': 'surgical infection prevention', 'MeasureCode': 'scip-vte-2', 'MeasureName': 'patients who got treatment  at the right time (within 24 hours before or after their surgery) to help prevent blood clots after certain types of surgery', 'Score': '84%', 'Sample': '56 patients', 'Stateavg': 'al_scip-vte-2'}\n",
            "Preprocessed row: {'ProviderNumber': '10010', 'HospitalName': 'marshall medical center north', 'Address1': '8000 alabama highway 69', 'Address2': '', 'Address3': '', 'City': 'guntersville', 'State': 'al', 'ZipCode': '35976', 'CountyName': 'marshall', 'PhoneNumber': '2565718000', 'HospitalType': 'acute care hospitals', 'HospitalOwner': 'government - hospital district or authority', 'EmergencyService': 'yes', 'Condition': 'surgical infection prevention', 'MeasureCode': 'scip-vte-2', 'MeasureName': 'patients who got treatment at the right time (within 24 hours before or after their surgery) to help prevent blood clots after certain types of surgery', 'Score': '84%', 'Sample': '56 patients', 'Stateavg': 'al_scip-vte-2'}\n",
            "Correct repair found at index 199\n",
            "Key: Condition\n",
            "Dirty row: {'ProviderNumber': '10011', 'HospitalName': 'st vincents east', 'Address1': '50 medical park east drive', 'Address2': '', 'Address3': '', 'City': 'birmingham', 'State': 'al', 'ZipCode': '35235', 'CountyName': 'jefferson', 'PhoneNumber': '2058383122', 'HospitalType': 'acute care hosxitals', 'HospitalOwner': 'voluntary non-profit - private', 'EmergencyService': 'yes', 'Condition': 'heaxt attack', 'MeasureCode': 'ami-7a', 'MeasureName': 'heart attack patients given fibrinolytic medication within 30 minutes of arrival', 'Score': '', 'Sample': '0 patients', 'Stateavg': 'al_ami-7a'}\n",
            "Clean row: {'ProviderNumber': '10011', 'HospitalName': 'st vincents east', 'Address1': '50 medical park east drive', 'Address2': '', 'Address3': '', 'City': 'birmingham', 'State': 'al', 'ZipCode': '35235', 'CountyName': 'jefferson', 'PhoneNumber': '2058383122', 'HospitalType': 'acute care hospitals', 'HospitalOwner': 'voluntary non-profit - private', 'EmergencyService': 'yes', 'Condition': 'heart attack', 'MeasureCode': 'ami-7a', 'MeasureName': 'heart attack patients given fibrinolytic medication within 30 minutes of arrival', 'Score': '', 'Sample': '0 patients', 'Stateavg': 'al_ami-7a'}\n",
            "Preprocessed row: {'ProviderNumber': '10011', 'HospitalName': 'st vincents east', 'Address1': '50 medical park east drive', 'City': 'birmingham', 'State': 'al', 'ZipCode': '35235', 'CountyName': 'jefferson', 'PhoneNumber': '2058383122', 'HospitalType': 'acute care hosxitals', 'HospitalOwner': 'voluntary non-profit - private', 'EmergencyService': 'yes', 'Condition': 'heart attack', 'MeasureCode': 'ami-7a', 'MeasureName': 'heart attack patients given fibrinolytic medication within 30 minutes of arrival', 'Score': '0 patients', 'Stateavg': 'al_ami-7a'}\n",
            "Correct repair found at index 208\n",
            "Key: Score\n",
            "Dirty row: {'ProviderNumber': '10011', 'HospitalName': 'st vincents east', 'Address1': '50 medical park east drive', 'Address2': '', 'Address3': '', 'City': 'birmingham', 'State': 'al', 'ZipCode': '35235', 'CountyName': 'jefferson', 'PhoneNumber': '2058383122', 'HospitalType': 'acute care hospitals', 'HospitalOwner': 'voluntary non-profit - private', 'EmergencyService': 'yes', 'Condition': 'pneumonia', 'MeasureCode': 'pn-5c', 'MeasureName': 'pneumonia patients given initial antibiotic(s) within 6 hours after arrival', 'Score': 'x5%', 'Sample': '135 patients', 'Stateavg': 'al_pn-5c'}\n",
            "Clean row: {'ProviderNumber': '10011', 'HospitalName': 'st vincents east', 'Address1': '50 medical park east drive', 'Address2': '', 'Address3': '', 'City': 'birmingham', 'State': 'al', 'ZipCode': '35235', 'CountyName': 'jefferson', 'PhoneNumber': '2058383122', 'HospitalType': 'acute care hospitals', 'HospitalOwner': 'voluntary non-profit - private', 'EmergencyService': 'yes', 'Condition': 'pneumonia', 'MeasureCode': 'pn-5c', 'MeasureName': 'pneumonia patients given initial antibiotic(s) within 6 hours after arrival', 'Score': '95%', 'Sample': '135 patients', 'Stateavg': 'al_pn-5c'}\n",
            "Preprocessed row: {'ProviderNumber': '10011', 'HospitalName': 'st vincents east', 'Address1': '50 medical park east drive', 'City': 'birmingham', 'State': 'al', 'ZipCode': '35235', 'CountyName': 'jefferson', 'PhoneNumber': '205-383-1222', 'HospitalType': 'acute care hospitals', 'HospitalOwner': 'voluntary non-profit - private', 'EmergencyService': 'yes', 'MeasureCode': 'pn-5c', 'MeasureName': 'pneumonia patients given initial antibiotic(s) within 6 hours after arrival', 'Score': '95%', 'Sample': '135 patients'}\n",
            "Correct repair found at index 229\n",
            "Key: Condition\n",
            "Dirty row: {'ProviderNumber': '10012', 'HospitalName': 'dekalb regional medical center', 'Address1': '200 med center drive', 'Address2': '', 'Address3': '', 'City': 'fort payne', 'State': 'al', 'ZipCode': '35968', 'CountyName': 'de kalb', 'PhoneNumber': '2568453150', 'HospitalType': 'acute care hospitals', 'HospitalOwner': 'voluntary non-profit - church', 'EmergencyService': 'yes', 'Condition': 'heart faxlure', 'MeasureCode': 'hf-4', 'MeasureName': 'heart failure patients given smoking cessation advice/counseling', 'Score': '100%', 'Sample': '15 patients', 'Stateavg': 'al_hf-4'}\n",
            "Clean row: {'ProviderNumber': '10012', 'HospitalName': 'dekalb regional medical center', 'Address1': '200 med center drive', 'Address2': '', 'Address3': '', 'City': 'fort payne', 'State': 'al', 'ZipCode': '35968', 'CountyName': 'de kalb', 'PhoneNumber': '2568453150', 'HospitalType': 'acute care hospitals', 'HospitalOwner': 'voluntary non-profit - church', 'EmergencyService': 'yes', 'Condition': 'heart failure', 'MeasureCode': 'hf-4', 'MeasureName': 'heart failure patients given smoking cessation advice/counseling', 'Score': '100%', 'Sample': '15 patients', 'Stateavg': 'al_hf-4'}\n",
            "Preprocessed row: {'ProviderNumber': '10012', 'HospitalName': 'dekalb regional medical center', 'Address1': '200 med center drive', 'Address2': '', 'Address3': '', 'City': 'fort payne', 'State': 'al', 'ZipCode': '35968', 'CountyName': 'de kalb', 'PhoneNumber': '2568453150', 'HospitalType': 'acute care hospitals', 'HospitalOwner': 'voluntary non-profit - church', 'EmergencyService': 'yes', 'Condition': 'heart failure', 'MeasureCode': 'hf-4', 'MeasureName': 'heart failure patients given smoking cessation advice/counseling', 'Score': '100%', 'Sample': '15 patients', 'Stateavg': 'al_hf-4'}\n",
            "Correct repair found at index 236\n",
            "Key: Condition\n",
            "Dirty row: {'ProviderNumber': '10012', 'HospitalName': 'dekalb regional medical center', 'Address1': '200 med center drive', 'Address2': '', 'Address3': '', 'City': 'fort payne', 'State': 'al', 'ZipCode': '35968', 'CountyName': 'de kalb', 'PhoneNumber': '2568453150', 'HospitalType': 'acute care hospitals', 'HospitalOwner': 'voluntary non-profit - church', 'EmergencyService': 'yes', 'Condition': 'suxgical infection pxevention', 'MeasureCode': 'scip-card-2', 'MeasureName': 'surgery patients who were taking heart drugs called beta blockers before coming to the hospital who were kept on the beta blockers during the period just before and after their surgery', 'Score': '100%', 'Sample': '16 patients', 'Stateavg': 'al_scip-card-2'}\n",
            "Clean row: {'ProviderNumber': '10012', 'HospitalName': 'dekalb regional medical center', 'Address1': '200 med center drive', 'Address2': '', 'Address3': '', 'City': 'fort payne', 'State': 'al', 'ZipCode': '35968', 'CountyName': 'de kalb', 'PhoneNumber': '2568453150', 'HospitalType': 'acute care hospitals', 'HospitalOwner': 'voluntary non-profit - church', 'EmergencyService': 'yes', 'Condition': 'surgical infection prevention', 'MeasureCode': 'scip-card-2', 'MeasureName': 'surgery patients who were taking heart drugs called beta blockers before coming to the hospital who were kept on the beta blockers during the period just before and after their surgery', 'Score': '100%', 'Sample': '16 patients', 'Stateavg': 'al_scip-card-2'}\n",
            "Preprocessed row: {'ProviderNumber': '10012', 'HospitalName': 'dekalb regional medical center', 'Address1': '200 med center drive', 'Address2': '', 'Address3': '', 'City': 'fort payne', 'State': 'al', 'ZipCode': '35968', 'CountyName': 'de kalb', 'PhoneNumber': '2568453150', 'HospitalType': 'acute care hospitals', 'HospitalOwner': 'voluntary non-profit - church', 'EmergencyService': 'yes', 'Condition': 'surgical infection prevention', 'MeasureCode': 'scip-card-2', 'MeasureName': 'surgery patients who were taking heart drugs called beta blockers before coming to the hospital who were kept on the beta blockers during the period just before and after their surgery', 'Score': '100%', 'Sample': '16 patients'}\n",
            "Correct repair found at index 247\n",
            "Key: HospitalOwner\n",
            "Dirty row: {'ProviderNumber': '10015', 'HospitalName': 'southwest alabama medical center', 'Address1': '33700 highway 43', 'Address2': '', 'Address3': '', 'City': 'thomasville', 'State': 'al', 'ZipCode': '36784', 'CountyName': 'clarke', 'PhoneNumber': 'xx46x66221', 'HospitalType': 'acute care hospitals', 'HospitalOwner': 'governxent - federal', 'EmergencyService': 'yes', 'Condition': 'heart attack', 'MeasureCode': 'ami-4', 'MeasureName': 'heart attack patients given smoking cessation advice/counseling', 'Score': '', 'Sample': '0 patients', 'Stateavg': 'al_ami-4'}\n",
            "Clean row: {'ProviderNumber': '10015', 'HospitalName': 'southwest alabama medical center', 'Address1': '33700 highway 43', 'Address2': '', 'Address3': '', 'City': 'thomasville', 'State': 'al', 'ZipCode': '36784', 'CountyName': 'clarke', 'PhoneNumber': '3346366221', 'HospitalType': 'acute care hospitals', 'HospitalOwner': 'government - federal', 'EmergencyService': 'yes', 'Condition': 'heart attack', 'MeasureCode': 'ami-4', 'MeasureName': 'heart attack patients given smoking cessation advice/counseling', 'Score': '', 'Sample': '0 patients', 'Stateavg': 'al_ami-4'}\n",
            "Preprocessed row: {'ProviderNumber': '10015', 'HospitalName': 'southwest alabama medical center', 'Address1': '33700 highway 43', 'Address2': '', 'Address3': '', 'City': 'thomasville', 'State': 'al', 'ZipCode': '36784', 'CountyName': 'clarke', 'PhoneNumber': '46x66221', 'HospitalType': 'acute care hospitals', 'HospitalOwner': 'government - federal', 'EmergencyService': 'yes', 'Condition': 'heart attack', 'MeasureCode': 'ami-4', 'MeasureName': 'heart attack patients given smoking cessation advice/counseling', 'Score': '', 'Sample': '0 patients', 'Stateavg': 'al_ami-4'}\n",
            "Correct repair found at index 256\n",
            "Key: Condition\n",
            "Dirty row: {'ProviderNumber': '10015', 'HospitalName': 'southwest alabama medical center', 'Address1': '33700 highway 43', 'Address2': '', 'Address3': '', 'City': 'thomasville', 'State': 'al', 'ZipCode': '36784', 'CountyName': 'clarke', 'PhoneNumber': '3346366221', 'HospitalType': 'acute care hospitals', 'HospitalOwner': 'government - federal', 'EmergencyService': 'yes', 'Condition': 'xneumonia', 'MeasureCode': 'pn-3b', 'MeasureName': 'pneumonxa patxents whose inxtxal emergency room blood culture was performed prxor to the admxnxstratxon of the fxrst hospxtal dose of antxbxotxcs', 'Score': 'x6%', 'Sample': '24 patients', 'Stateavg': 'al_pn-3b'}\n",
            "Clean row: {'ProviderNumber': '10015', 'HospitalName': 'southwest alabama medical center', 'Address1': '33700 highway 43', 'Address2': '', 'Address3': '', 'City': 'thomasville', 'State': 'al', 'ZipCode': '36784', 'CountyName': 'clarke', 'PhoneNumber': '3346366221', 'HospitalType': 'acute care hospitals', 'HospitalOwner': 'government - federal', 'EmergencyService': 'yes', 'Condition': 'pneumonia', 'MeasureCode': 'pn-3b', 'MeasureName': 'pneumonia patients whose initial emergency room blood culture was performed prior to the administration of the first hospital dose of antibiotics', 'Score': '96%', 'Sample': '24 patients', 'Stateavg': 'al_pn-3b'}\n",
            "Preprocessed row: {'ProviderNumber': '10015', 'HospitalName': 'southwest alabama medical center', 'Address1': '33700 highway 43', 'Address2': '', 'Address3': '', 'City': 'thomasville', 'State': 'al', 'ZipCode': '36784', 'CountyName': 'clarke', 'PhoneNumber': '3346366221', 'HospitalType': 'acute care hospitals', 'HospitalOwner': 'government - federal', 'EmergencyService': 'yes', 'Condition': 'pneumonia', 'MeasureCode': 'pn-3b', 'Score': '6%', 'Sample': '24 patients'}\n",
            "Correct repair found at index 279\n",
            "Key: Condition\n",
            "Dirty row: {'ProviderNumber': '10016', 'HospitalName': 'shelby baptist medical center', 'Address1': '1000 first street north', 'Address2': '', 'Address3': '', 'City': 'alabaster', 'State': 'al', 'ZipCode': '35007', 'CountyName': 'shelby', 'PhoneNumber': '2056208100', 'HospitalType': 'acute care hospitals', 'HospitalOwner': 'voluntary non-profit - church', 'EmergencyService': 'yes', 'Condition': 'xeart failure', 'MeasureCode': 'hf-4', 'MeasureName': 'heart failure patients given smoking cessation advice/counseling', 'Score': '100%', 'Sample': '48 patients', 'Stateavg': 'al_hf-4'}\n",
            "Clean row: {'ProviderNumber': '10016', 'HospitalName': 'shelby baptist medical center', 'Address1': '1000 first street north', 'Address2': '', 'Address3': '', 'City': 'alabaster', 'State': 'al', 'ZipCode': '35007', 'CountyName': 'shelby', 'PhoneNumber': '2056208100', 'HospitalType': 'acute care hospitals', 'HospitalOwner': 'voluntary non-profit - church', 'EmergencyService': 'yes', 'Condition': 'heart failure', 'MeasureCode': 'hf-4', 'MeasureName': 'heart failure patients given smoking cessation advice/counseling', 'Score': '100%', 'Sample': '48 patients', 'Stateavg': 'al_hf-4'}\n",
            "Preprocessed row: {'ProviderNumber': '10016', 'HospitalName': 'shelby baptist medical center', 'Address1': '1000 first street north', 'Address2': '', 'Address3': '', 'City': 'alabaster', 'State': 'al', 'ZipCode': '35007', 'CountyName': 'shelby', 'PhoneNumber': '205-621-0800', 'HospitalType': 'acute care hospitals', 'HospitalOwner': 'voluntary non-profit - church', 'EmergencyService': 'yes', 'Condition': 'heart failure', 'MeasureCode': 'hf-4', 'MeasureName': 'heart failure patients given smoking cessation advice/counseling', 'Score': '100%', 'Sample': '48 patients', 'Stateavg': 'al_hf-4'}\n",
            "Correct repair found at index 295\n",
            "Key: Address1\n",
            "Dirty row: {'ProviderNumber': '10018', 'HospitalName': 'callahan eye foundation hospital', 'Address1': '1720 univxrsity blvd', 'Address2': '', 'Address3': '', 'City': 'birmingham', 'State': 'al', 'ZipCode': '35233', 'CountyName': 'jefferson', 'PhoneNumber': '2053258100', 'HospitalType': 'acute care hospitals', 'HospitalOwner': 'voluntary non-profit - private', 'EmergencyService': 'yes', 'Condition': 'heart attack', 'MeasureCode': 'ami-2', 'MeasureName': 'heart attack patients given aspirin at discharge', 'Score': '', 'Sample': '', 'Stateavg': 'al_ami-2'}\n",
            "Clean row: {'ProviderNumber': '10018', 'HospitalName': 'callahan eye foundation hospital', 'Address1': '1720 university blvd', 'Address2': '', 'Address3': '', 'City': 'birmingham', 'State': 'al', 'ZipCode': '35233', 'CountyName': 'jefferson', 'PhoneNumber': '2053258100', 'HospitalType': 'acute care hospitals', 'HospitalOwner': 'voluntary non-profit - private', 'EmergencyService': 'yes', 'Condition': 'heart attack', 'MeasureCode': 'ami-2', 'MeasureName': 'heart attack patients given aspirin at discharge', 'Score': '', 'Sample': '', 'Stateavg': 'al_ami-2'}\n",
            "Preprocessed row: {'ProviderNumber': '10018', 'HospitalName': 'callahan eye foundation hospital', 'Address1': '1720 university blvd', 'City': 'birmingham', 'State': 'al', 'ZipCode': '35233', 'CountyName': 'jefferson', 'PhoneNumber': '20532608100', 'HospitalType': 'acute care hospitals', 'HospitalOwner': 'voluntary non-profit - private', 'EmergencyService': 'yes', 'Condition': 'heart attack', 'MeasureCode': 'ami-2', 'MeasureName': 'heart attack patients given aspirin at discharge', 'Score': '', 'Stateavg': 'al_ami-2'}\n",
            "Correct repair found at index 332\n",
            "Key: HospitalOwner\n",
            "Dirty row: {'ProviderNumber': '10055', 'HospitalName': 'flowers hospital', 'Address1': '4370 west main street', 'Address2': '', 'Address3': '', 'City': 'dothan', 'State': 'al', 'ZipCode': '3x305', 'CountyName': 'houston', 'PhoneNumber': '3347935000', 'HospitalType': 'acute care hospitals', 'HospitalOwner': 'proxrietary', 'EmergencyService': 'yex', 'Condition': 'heart failure', 'MeasureCode': 'hf-3', 'MeasureName': 'heart failure patients given ace inhibitor or arb for left ventricular systolic dysfunction (lvsd)', 'Score': '100%', 'Sample': '94 patients', 'Stateavg': 'al_hf-3'}\n",
            "Clean row: {'ProviderNumber': '10055', 'HospitalName': 'flowers hospital', 'Address1': '4370 west main street', 'Address2': '', 'Address3': '', 'City': 'dothan', 'State': 'al', 'ZipCode': '36305', 'CountyName': 'houston', 'PhoneNumber': '3347935000', 'HospitalType': 'acute care hospitals', 'HospitalOwner': 'proprietary', 'EmergencyService': 'yes', 'Condition': 'heart failure', 'MeasureCode': 'hf-3', 'MeasureName': 'heart failure patients given ace inhibitor or arb for left ventricular systolic dysfunction (lvsd)', 'Score': '100%', 'Sample': '94 patients', 'Stateavg': 'al_hf-3'}\n",
            "Preprocessed row: {'ProviderNumber': '10055', 'HospitalName': 'flowers hospital', 'Address1': '4370 west main street', 'Address2': '', 'Address3': '', 'City': 'dothan', 'State': 'al', 'ZipCode': '3x305', 'CountyName': 'houston', 'PhoneNumber': '3347935000', 'HospitalType': 'acute care hospitals', 'HospitalOwner': 'proprietary', 'EmergencyService': 'yes', 'Condition': 'heart failure', 'MeasureCode': 'hf-3', 'MeasureName': 'heart failure patients given ace inhibitor or arb for left ventricular systolic dysfunction (lvsd)', 'Score': '100%', 'Sample': '94 patients', 'Stateavg': 'al_hf-3'}\n",
            "Correct repair found at index 332\n",
            "Key: EmergencyService\n",
            "Dirty row: {'ProviderNumber': '10055', 'HospitalName': 'flowers hospital', 'Address1': '4370 west main street', 'Address2': '', 'Address3': '', 'City': 'dothan', 'State': 'al', 'ZipCode': '3x305', 'CountyName': 'houston', 'PhoneNumber': '3347935000', 'HospitalType': 'acute care hospitals', 'HospitalOwner': 'proxrietary', 'EmergencyService': 'yex', 'Condition': 'heart failure', 'MeasureCode': 'hf-3', 'MeasureName': 'heart failure patients given ace inhibitor or arb for left ventricular systolic dysfunction (lvsd)', 'Score': '100%', 'Sample': '94 patients', 'Stateavg': 'al_hf-3'}\n",
            "Clean row: {'ProviderNumber': '10055', 'HospitalName': 'flowers hospital', 'Address1': '4370 west main street', 'Address2': '', 'Address3': '', 'City': 'dothan', 'State': 'al', 'ZipCode': '36305', 'CountyName': 'houston', 'PhoneNumber': '3347935000', 'HospitalType': 'acute care hospitals', 'HospitalOwner': 'proprietary', 'EmergencyService': 'yes', 'Condition': 'heart failure', 'MeasureCode': 'hf-3', 'MeasureName': 'heart failure patients given ace inhibitor or arb for left ventricular systolic dysfunction (lvsd)', 'Score': '100%', 'Sample': '94 patients', 'Stateavg': 'al_hf-3'}\n",
            "Preprocessed row: {'ProviderNumber': '10055', 'HospitalName': 'flowers hospital', 'Address1': '4370 west main street', 'Address2': '', 'Address3': '', 'City': 'dothan', 'State': 'al', 'ZipCode': '3x305', 'CountyName': 'houston', 'PhoneNumber': '3347935000', 'HospitalType': 'acute care hospitals', 'HospitalOwner': 'proprietary', 'EmergencyService': 'yes', 'Condition': 'heart failure', 'MeasureCode': 'hf-3', 'MeasureName': 'heart failure patients given ace inhibitor or arb for left ventricular systolic dysfunction (lvsd)', 'Score': '100%', 'Sample': '94 patients', 'Stateavg': 'al_hf-3'}\n",
            "Correct repair found at index 336\n",
            "Key: Score\n",
            "Dirty row: {'ProviderNumber': '10055', 'HospitalName': 'flowers hospital', 'Address1': '4370 west main street', 'Address2': '', 'Address3': '', 'City': 'dothan', 'State': 'al', 'ZipCode': '36305', 'CountyName': 'houston', 'PhoneNumber': '3347935000', 'HospitalType': 'acute care hospitals', 'HospitalOwner': 'proprietary', 'EmergencyService': 'yes', 'Condition': 'pneumonia', 'MeasureCode': 'pn-4', 'MeasureName': 'pneumonia patients given smoking cessation advice/counseling', 'Score': 'x00%', 'Sample': '77 patients', 'Stateavg': 'al_pn-4'}\n",
            "Clean row: {'ProviderNumber': '10055', 'HospitalName': 'flowers hospital', 'Address1': '4370 west main street', 'Address2': '', 'Address3': '', 'City': 'dothan', 'State': 'al', 'ZipCode': '36305', 'CountyName': 'houston', 'PhoneNumber': '3347935000', 'HospitalType': 'acute care hospitals', 'HospitalOwner': 'proprietary', 'EmergencyService': 'yes', 'Condition': 'pneumonia', 'MeasureCode': 'pn-4', 'MeasureName': 'pneumonia patients given smoking cessation advice/counseling', 'Score': '100%', 'Sample': '77 patients', 'Stateavg': 'al_pn-4'}\n",
            "Preprocessed row: {'ProviderNumber': '10055', 'HospitalName': 'flowers hospital', 'Address1': '4370 west main street', 'Address2': '', 'Address3': '', 'City': 'dothan', 'State': 'al', 'ZipCode': '36305', 'CountyName': 'houston', 'PhoneNumber': '3347935000', 'HospitalType': 'acute care hospitals', 'HospitalOwner': 'proprietary', 'EmergencyService': 'yes', 'Condition': 'pneumonia', 'MeasureCode': 'pn-4', 'MeasureName': 'pneumonia patients given smoking cessation advice/counseling', 'Score': '100%', 'Sample': '77 patients', 'Stateavg': 'al_pn-4'}\n",
            "Correct repair found at index 346\n",
            "Key: MeasureName\n",
            "Dirty row: {'ProviderNumber': '10055', 'HospitalName': 'flowers hospital', 'Address1': '4370 west main street', 'Address2': '', 'Address3': '', 'City': 'dothan', 'State': 'al', 'ZipCode': '36305', 'CountyName': 'housxon', 'PhoneNumber': '3347935000', 'HospitalType': 'acute care hospitals', 'HospitalOwner': 'proprietary', 'EmergencyService': 'yes', 'Condition': 'surgical infection prevention', 'MeasureCode': 'scip-vte-1', 'MeasureName': 'surgery pxtients whose doctors ordered trextments to prevent blood clots xfter certxin types of surgeries', 'Score': '100%', 'Sample': '497 patients', 'Stateavg': 'al_scip-vte-1'}\n",
            "Clean row: {'ProviderNumber': '10055', 'HospitalName': 'flowers hospital', 'Address1': '4370 west main street', 'Address2': '', 'Address3': '', 'City': 'dothan', 'State': 'al', 'ZipCode': '36305', 'CountyName': 'houston', 'PhoneNumber': '3347935000', 'HospitalType': 'acute care hospitals', 'HospitalOwner': 'proprietary', 'EmergencyService': 'yes', 'Condition': 'surgical infection prevention', 'MeasureCode': 'scip-vte-1', 'MeasureName': 'surgery patients whose doctors ordered treatments to prevent blood clots after certain types of surgeries', 'Score': '100%', 'Sample': '497 patients', 'Stateavg': 'al_scip-vte-1'}\n",
            "Preprocessed row: {'ProviderNumber': '10055', 'HospitalName': 'flowers hospital', 'Address1': '4370 west main street', 'Address2': '', 'Address3': '', 'City': 'dothan', 'State': 'al', 'ZipCode': '36305', 'CountyName': 'houseton', 'PhoneNumber': '3347935000', 'HospitalType': 'acute care hospitals', 'HospitalOwner': 'proprietary', 'EmergencyService': 'yes', 'Condition': 'surgical infection prevention', 'MeasureCode': 'scip-vte-1', 'MeasureName': 'surgery patients whose doctors ordered treatments to prevent blood clots after certain types of surgeries', 'Score': '100%', 'Sample': '497 patients', 'Stateavg': 'al_scip-vte-1'}\n",
            "Correct repair found at index 366\n",
            "Key: Condition\n",
            "Dirty row: {'ProviderNumber': '10086', 'HospitalName': 'northwest medical center', 'Address1': '1530 u s highway 43', 'Address2': '', 'Address3': '', 'City': 'winfield', 'State': 'al', 'ZipCode': '3xx94', 'CountyName': 'marion', 'PhoneNumber': '2054877736', 'HospitalType': 'acute care hospitals', 'HospitalOwner': 'proprietary', 'EmergencyService': 'yes', 'Condition': 'pnxumonia', 'MeasureCode': 'pn-3b', 'MeasureName': 'pneumonia patients whose initial emergency room blood culture was performed prior to the administration of the first hospital dose of antibiotics', 'Score': '98%', 'Sample': '59 patients', 'Stateavg': 'al_pn-3b'}\n",
            "Clean row: {'ProviderNumber': '10086', 'HospitalName': 'northwest medical center', 'Address1': '1530 u s highway 43', 'Address2': '', 'Address3': '', 'City': 'winfield', 'State': 'al', 'ZipCode': '35594', 'CountyName': 'marion', 'PhoneNumber': '2054877736', 'HospitalType': 'acute care hospitals', 'HospitalOwner': 'proprietary', 'EmergencyService': 'yes', 'Condition': 'pneumonia', 'MeasureCode': 'pn-3b', 'MeasureName': 'pneumonia patients whose initial emergency room blood culture was performed prior to the administration of the first hospital dose of antibiotics', 'Score': '98%', 'Sample': '59 patients', 'Stateavg': 'al_pn-3b'}\n",
            "Preprocessed row: {'ProviderNumber': '10086', 'HospitalName': 'northwest medical center', 'Address1': '1530 u s highway 43', 'Address2': '', 'Address3': '', 'City': 'winfield', 'State': 'al', 'ZipCode': '3xx94', 'CountyName': 'marion', 'PhoneNumber': '2054877736', 'HospitalType': 'acute care hospitals', 'HospitalOwner': 'proprietary', 'EmergencyService': 'yes', 'Condition': 'pneumonia', 'MeasureCode': 'pn-3b', 'MeasureName': 'pneumonia patients whose initial emergency room blood culture was performed prior to the administration of the first hospital dose of antibiotics', 'Score': '98%', 'Sample': '59 patients'}\n",
            "Correct repair found at index 367\n",
            "Key: City\n",
            "Dirty row: {'ProviderNumber': '10086', 'HospitalName': 'northwest medical center', 'Address1': '1530 u s highway 43', 'Address2': '', 'Address3': '', 'City': 'winfielx', 'State': 'al', 'ZipCode': '35594', 'CountyName': 'marion', 'PhoneNumber': '2054877736', 'HospitalType': 'acute care hospitals', 'HospitalOwner': 'proprietary', 'EmergencyService': 'yes', 'Condition': 'pneumonia', 'MeasureCode': 'pn-4', 'MeasureName': 'pneumonia patients given smoking cessation advice/counseling', 'Score': '98%', 'Sample': '40 patients', 'Stateavg': 'al_pn-4'}\n",
            "Clean row: {'ProviderNumber': '10086', 'HospitalName': 'northwest medical center', 'Address1': '1530 u s highway 43', 'Address2': '', 'Address3': '', 'City': 'winfield', 'State': 'al', 'ZipCode': '35594', 'CountyName': 'marion', 'PhoneNumber': '2054877736', 'HospitalType': 'acute care hospitals', 'HospitalOwner': 'proprietary', 'EmergencyService': 'yes', 'Condition': 'pneumonia', 'MeasureCode': 'pn-4', 'MeasureName': 'pneumonia patients given smoking cessation advice/counseling', 'Score': '98%', 'Sample': '40 patients', 'Stateavg': 'al_pn-4'}\n",
            "Preprocessed row: {'ProviderNumber': '10086', 'HospitalName': 'northwest medical center', 'Address1': '1530 u s highway 43', 'Address2': '', 'Address3': '', 'City': 'winfield', 'State': 'al', 'ZipCode': '35594', 'CountyName': 'marion', 'PhoneNumber': '2054877736', 'HospitalType': 'acute care hospitals', 'HospitalOwner': 'proprietary', 'EmergencyService': 'yes', 'Condition': 'pneumonia', 'MeasureCode': 'pn-4', 'MeasureName': 'pneumonia patients given smoking cessation advice/counseling', 'Score': '98%', 'Sample': '40 patients'}\n",
            "Correct repair found at index 369\n",
            "Key: Condition\n",
            "Dirty row: {'ProviderNumber': '10086', 'HospitalName': 'northwest medical center', 'Address1': '1530 u s highway 43', 'Address2': '', 'Address3': '', 'City': 'winfield', 'State': 'al', 'ZipCode': '35594', 'CountyName': 'marion', 'PhoneNumber': '2054877736', 'HospitalType': 'acute care hospitals', 'HospitalOwner': 'proprietary', 'EmergencyService': 'yes', 'Condition': 'pnexmonia', 'MeasureCode': 'pn-6', 'MeasureName': 'pneumonia patients given the most appropriate initial antibiotic(s)', 'Score': '100%', 'Sample': '62 patients', 'Stateavg': 'al_pn-6'}\n",
            "Clean row: {'ProviderNumber': '10086', 'HospitalName': 'northwest medical center', 'Address1': '1530 u s highway 43', 'Address2': '', 'Address3': '', 'City': 'winfield', 'State': 'al', 'ZipCode': '35594', 'CountyName': 'marion', 'PhoneNumber': '2054877736', 'HospitalType': 'acute care hospitals', 'HospitalOwner': 'proprietary', 'EmergencyService': 'yes', 'Condition': 'pneumonia', 'MeasureCode': 'pn-6', 'MeasureName': 'pneumonia patients given the most appropriate initial antibiotic(s)', 'Score': '100%', 'Sample': '62 patients', 'Stateavg': 'al_pn-6'}\n",
            "Preprocessed row: {'ProviderNumber': '10086', 'HospitalName': 'northwest medical center', 'Address1': '1530 u s highway 43', 'Address2': '', 'Address3': '', 'City': 'winfield', 'State': 'al', 'ZipCode': '35594', 'CountyName': 'marion', 'PhoneNumber': '2054877736', 'HospitalType': 'acute care hospitals', 'HospitalOwner': 'proprietary', 'EmergencyService': 'yes', 'Condition': 'pneumonia', 'MeasureCode': 'pn-6', 'MeasureName': 'pneumonia patients given the most appropriate initial antibiotic(s)', 'Score': '100%', 'Sample': '62 patients', 'Stateavg': 'al_pn-6'}\n",
            "Correct repair found at index 386\n",
            "Key: Condition\n",
            "Dirty row: {'ProviderNumber': '10087', 'HospitalName': 'univ of south alabama medical center', 'Address1': '2451 fillingim street', 'Address2': '', 'Address3': '', 'City': 'mobile', 'State': 'xl', 'ZipCode': '36617', 'CountyName': 'mobile', 'PhoneNumber': '25x47x7xx0', 'HospitalType': 'acute care hospitals', 'HospitalOwner': 'government - state', 'EmergencyService': 'yes', 'Condition': 'hxart failurx', 'MeasureCode': 'hf-1', 'MeasureName': 'heart failure patients given discharge instructions', 'Score': '83%', 'Sample': '146 patients', 'Stateavg': 'al_hf-1'}\n",
            "Clean row: {'ProviderNumber': '10087', 'HospitalName': 'univ of south alabama medical center', 'Address1': '2451 fillingim street', 'Address2': '', 'Address3': '', 'City': 'mobile', 'State': 'al', 'ZipCode': '36617', 'CountyName': 'mobile', 'PhoneNumber': '2514717110', 'HospitalType': 'acute care hospitals', 'HospitalOwner': 'government - state', 'EmergencyService': 'yes', 'Condition': 'heart failure', 'MeasureCode': 'hf-1', 'MeasureName': 'heart failure patients given discharge instructions', 'Score': '83%', 'Sample': '146 patients', 'Stateavg': 'al_hf-1'}\n",
            "Preprocessed row: {'ProviderNumber': '10087', 'HospitalName': 'univ of south alabama medical center', 'Address1': '2451 fillingim street', 'Address2': '', 'Address3': '', 'City': 'mobile', 'State': 'AL', 'ZipCode': '36617', 'CountyName': 'mobile', 'PhoneNumber': '25x47x7xx0', 'HospitalType': 'acute care hospitals', 'HospitalOwner': 'government - state', 'EmergencyService': 'yes', 'Condition': 'heart failure', 'MeasureCode': 'hf-1', 'MeasureName': 'heart failure patients given discharge instructions', 'Score': '83%', 'Sample': '146 patients', 'Stateavg': 'AL_hf-1'}\n",
            "Correct repair found at index 389\n",
            "Key: MeasureName\n",
            "Dirty row: {'ProviderNumber': '10087', 'HospitalName': 'univ of south alabama medical center', 'Address1': '2451 fillingim street', 'Address2': '', 'Address3': '', 'City': 'mobile', 'State': 'al', 'ZipCode': '36617', 'CountyName': 'mobile', 'PhoneNumber': '2514717110', 'HospitalType': 'acute care hospitals', 'HospitalOwner': 'government - state', 'EmergencyService': 'yxs', 'Condition': 'heart failure', 'MeasureCode': 'hf-4', 'MeasureName': 'heart xailure patients given smoking cessation advice/counseling', 'Score': '100%', 'Sample': '45 patients', 'Stateavg': 'al_hf-4'}\n",
            "Clean row: {'ProviderNumber': '10087', 'HospitalName': 'univ of south alabama medical center', 'Address1': '2451 fillingim street', 'Address2': '', 'Address3': '', 'City': 'mobile', 'State': 'al', 'ZipCode': '36617', 'CountyName': 'mobile', 'PhoneNumber': '2514717110', 'HospitalType': 'acute care hospitals', 'HospitalOwner': 'government - state', 'EmergencyService': 'yes', 'Condition': 'heart failure', 'MeasureCode': 'hf-4', 'MeasureName': 'heart failure patients given smoking cessation advice/counseling', 'Score': '100%', 'Sample': '45 patients', 'Stateavg': 'al_hf-4'}\n",
            "Preprocessed row: {'ProviderNumber': '10087', 'HospitalName': 'univ of south alabama medical center', 'Address1': '2451 fillingim street', 'Address2': '', 'Address3': '', 'City': 'mobile', 'State': 'al', 'ZipCode': '36617', 'CountyName': 'mobile', 'PhoneNumber': '2514717110', 'HospitalType': 'acute care hospitals', 'HospitalOwner': 'government - state', 'EmergencyService': 'yxs', 'Condition': 'heart failure', 'MeasureCode': 'hf-4', 'MeasureName': 'heart failure patients given smoking cessation advice/counseling', 'Score': '100%', 'Sample': '45 patients', 'Stateavg': 'al_hf-4'}\n",
            "Correct repair found at index 402\n",
            "Key: State\n",
            "Dirty row: {'ProviderNumber': '10108', 'HospitalName': 'prattville baptist hospital', 'Address1': '124 s memorial dr', 'Address2': '', 'Address3': '', 'City': 'prattville', 'State': 'ax', 'ZipCode': '36067', 'CountyName': 'autauga', 'PhoneNumber': '3343614267', 'HospitalType': 'acute care hospitals', 'HospitalOwner': 'voluntary non-profit - private', 'EmergencyService': 'yes', 'Condition': 'pneumonia', 'MeasureCode': 'pn-2', 'MeasureName': 'pneumonia patients assessed and given pneumococcal vaccination', 'Score': '94%', 'Sample': '116 patients', 'Stateavg': 'al_pn-2'}\n",
            "Clean row: {'ProviderNumber': '10108', 'HospitalName': 'prattville baptist hospital', 'Address1': '124 s memorial dr', 'Address2': '', 'Address3': '', 'City': 'prattville', 'State': 'al', 'ZipCode': '36067', 'CountyName': 'autauga', 'PhoneNumber': '3343614267', 'HospitalType': 'acute care hospitals', 'HospitalOwner': 'voluntary non-profit - private', 'EmergencyService': 'yes', 'Condition': 'pneumonia', 'MeasureCode': 'pn-2', 'MeasureName': 'pneumonia patients assessed and given pneumococcal vaccination', 'Score': '94%', 'Sample': '116 patients', 'Stateavg': 'al_pn-2'}\n",
            "Preprocessed row: {'ProviderNumber': '10108', 'HospitalName': 'prattville baptist hospital', 'Address1': '124 s memorial dr', 'Address2': '', 'Address3': '', 'City': 'prattville', 'State': 'al', 'ZipCode': '36067', 'CountyName': 'autauga', 'PhoneNumber': '3343614267', 'HospitalType': 'acute care hospitals', 'HospitalOwner': 'voluntary non-profit - private', 'EmergencyService': 'yes', 'Condition': 'pneumonia', 'MeasureCode': 'pn-2', 'MeasureName': 'pneumonia patients assessed and given pneumococcal vaccination', 'Score': '94%', 'Sample': '116 patients', 'Stateavg': 'al_pn-2'}\n",
            "Correct repair found at index 411\n",
            "Key: HospitalType\n",
            "Dirty row: {'ProviderNumber': '10108', 'HospitalName': 'prattville baptist hospital', 'Address1': '124 s mxmorial dr', 'Address2': '', 'Address3': '', 'City': 'prattville', 'State': 'al', 'ZipCode': '36067', 'CountyName': 'autauga', 'PhoneNumber': '3343614267', 'HospitalType': 'acute care hosxitals', 'HospitalOwner': 'voluntary non-profit - private', 'EmergencyService': 'yes', 'Condition': 'surgical infection prevention', 'MeasureCode': 'scip-inf-3', 'MeasureName': 'surgery patients whose preventive antibiotics were stopped at the right time (within 24 hours after surgery)', 'Score': '1xx%', 'Sample': '10 patients', 'Stateavg': 'al_scip-inf-3'}\n",
            "Clean row: {'ProviderNumber': '10108', 'HospitalName': 'prattville baptist hospital', 'Address1': '124 s memorial dr', 'Address2': '', 'Address3': '', 'City': 'prattville', 'State': 'al', 'ZipCode': '36067', 'CountyName': 'autauga', 'PhoneNumber': '3343614267', 'HospitalType': 'acute care hospitals', 'HospitalOwner': 'voluntary non-profit - private', 'EmergencyService': 'yes', 'Condition': 'surgical infection prevention', 'MeasureCode': 'scip-inf-3', 'MeasureName': 'surgery patients whose preventive antibiotics were stopped at the right time (within 24 hours after surgery)', 'Score': '100%', 'Sample': '10 patients', 'Stateavg': 'al_scip-inf-3'}\n",
            "Preprocessed row: {'ProviderNumber': '10108', 'HospitalName': 'prattville baptist hospital', 'Address1': '124 s mxmorial dr', 'Address2': '', 'Address3': '', 'City': 'prattville', 'State': 'al', 'ZipCode': '36067', 'CountyName': 'autauga', 'PhoneNumber': '3343614267', 'HospitalType': 'acute care hospitals', 'HospitalOwner': 'voluntary non-profit - private', 'EmergencyService': 'yes', 'Condition': 'surgical infection prevention', 'MeasureCode': 'scip-inf-3', 'MeasureName': 'surgery patients whose preventive antibiotics were stopped at the right time (within 24 hours after surgery)', 'Score': '1xx%', 'Sample': '10 patients', 'Stateavg': 'al_scip-inf-3'}\n",
            "Correct repair found at index 413\n",
            "Key: Sample\n",
            "Dirty row: {'ProviderNumber': '10158', 'HospitalName': 'russellville hospital', 'Address1': '15155 highway 43', 'Address2': '', 'Address3': '', 'City': 'russellville', 'State': 'al', 'ZipCode': '35653', 'CountyName': 'franklin', 'PhoneNumber': '2563321611', 'HospitalType': 'acuxe care hospixals', 'HospitalOwner': 'proprietary', 'EmergencyService': 'yes', 'Condition': 'surgical infection prevention', 'MeasureCode': 'scip-vte-2', 'MeasureName': 'patients who got treatment  at the right time (within 24 hours before or after their surgery) to help prevent blood clots after certain types of surgery', 'Score': '98%', 'Sample': '125 patixnts', 'Stateavg': 'al_scip-vte-2'}\n",
            "Clean row: {'ProviderNumber': '10158', 'HospitalName': 'russellville hospital', 'Address1': '15155 highway 43', 'Address2': '', 'Address3': '', 'City': 'russellville', 'State': 'al', 'ZipCode': '35653', 'CountyName': 'franklin', 'PhoneNumber': '2563321611', 'HospitalType': 'acute care hospitals', 'HospitalOwner': 'proprietary', 'EmergencyService': 'yes', 'Condition': 'surgical infection prevention', 'MeasureCode': 'scip-vte-2', 'MeasureName': 'patients who got treatment  at the right time (within 24 hours before or after their surgery) to help prevent blood clots after certain types of surgery', 'Score': '98%', 'Sample': '125 patients', 'Stateavg': 'al_scip-vte-2'}\n",
            "Preprocessed row: {'ProviderNumber': '10158', 'HospitalName': 'russellville hospital', 'Address1': '15155 highway 43', 'City': 'russellville', 'State': 'al', 'ZipCode': '35653', 'CountyName': 'franklin', 'PhoneNumber': '2563321611', 'HospitalType': 'acuxe care hospixals', 'HospitalOwner': 'proprietary', 'EmergencyService': 'yes', 'Condition': 'surgical infection prevention', 'MeasureCode': 'scip-vte-2', 'MeasureName': 'patients who got treatment  at the right time (within 24 hours before or after their surgery) to help prevent blood clots after certain types of surgery', 'Score': '98%', 'Sample': '125 patients'}\n",
            "Correct repair found at index 444\n",
            "Key: Sample\n",
            "Dirty row: {'ProviderNumber': '20017', 'HospitalName': 'alaska regional hospital', 'Address1': '2801 debarr road', 'Address2': '', 'Address3': '', 'City': 'anchorage', 'State': 'ak', 'ZipCode': '99508', 'CountyName': 'anchorage', 'PhoneNumber': '9072761131', 'HospitalType': 'acute care hospitals', 'HospitalOwner': 'proprietary', 'EmergencyService': 'yes', 'Condition': 'surgical infection prevention', 'MeasureCode': 'scip-inf-2', 'MeasureName': 'surgery patients who were given the  right kind  of antibiotic to help prevent infection', 'Score': '98%', 'Sample': '521 patiexts', 'Stateavg': 'ak_scip-inf-2'}\n",
            "Clean row: {'ProviderNumber': '20017', 'HospitalName': 'alaska regional hospital', 'Address1': '2801 debarr road', 'Address2': '', 'Address3': '', 'City': 'anchorage', 'State': 'ak', 'ZipCode': '99508', 'CountyName': 'anchorage', 'PhoneNumber': '9072761131', 'HospitalType': 'acute care hospitals', 'HospitalOwner': 'proprietary', 'EmergencyService': 'yes', 'Condition': 'surgical infection prevention', 'MeasureCode': 'scip-inf-2', 'MeasureName': 'surgery patients who were given the  right kind  of antibiotic to help prevent infection', 'Score': '98%', 'Sample': '521 patients', 'Stateavg': 'ak_scip-inf-2'}\n",
            "Preprocessed row: {'ProviderNumber': '20017', 'HospitalName': 'alaska regional hospital', 'Address1': '2801 debarr road', 'Address2': '', 'Address3': '', 'City': 'anchorage', 'State': 'ak', 'ZipCode': '99508', 'CountyName': 'anchorage', 'PhoneNumber': '9072761131', 'HospitalType': 'acute care hospitals', 'HospitalOwner': 'proprietary', 'EmergencyService': 'yes', 'Condition': 'surgical infection prevention', 'MeasureCode': 'scip-inf-2', 'MeasureName': 'surgery patients who were given the right kind of antibiotic to help prevent infection', 'Score': '98%', 'Sample': '521 patients'}\n",
            "Correct repair found at index 449\n",
            "Key: HospitalOwner\n",
            "Dirty row: {'ProviderNumber': '20017', 'HospitalName': 'alaska regional hospital', 'Address1': '2801 debarr road', 'Address2': '', 'Address3': '', 'City': 'anchorage', 'State': 'ak', 'ZipCode': '99508', 'CountyName': 'anchorage', 'PhoneNumber': '9072761131', 'HospitalType': 'acute care hospitals', 'HospitalOwner': 'proxrietary', 'EmergencyService': 'yes', 'Condition': 'surgical infection prevention', 'MeasureCode': 'scip-vte-2', 'MeasureName': 'patients who got treatment  at the right time (within 24 hours before or after their surgery) to help prevent blood clots after certain types of surgery', 'Score': '94%', 'Sample': '223 patients', 'Stateavg': 'ak_scip-vte-2'}\n",
            "Clean row: {'ProviderNumber': '20017', 'HospitalName': 'alaska regional hospital', 'Address1': '2801 debarr road', 'Address2': '', 'Address3': '', 'City': 'anchorage', 'State': 'ak', 'ZipCode': '99508', 'CountyName': 'anchorage', 'PhoneNumber': '9072761131', 'HospitalType': 'acute care hospitals', 'HospitalOwner': 'proprietary', 'EmergencyService': 'yes', 'Condition': 'surgical infection prevention', 'MeasureCode': 'scip-vte-2', 'MeasureName': 'patients who got treatment  at the right time (within 24 hours before or after their surgery) to help prevent blood clots after certain types of surgery', 'Score': '94%', 'Sample': '223 patients', 'Stateavg': 'ak_scip-vte-2'}\n",
            "Preprocessed row: {'ProviderNumber': '20017', 'HospitalName': 'alaska regional hospital', 'Address1': '2801 debarr road', 'City': 'anchorage', 'State': 'ak', 'ZipCode': '99508', 'CountyName': 'anchorage', 'PhoneNumber': '9072761131', 'HospitalType': 'acute care hospitals', 'HospitalOwner': 'proprietary', 'EmergencyService': 'yes', 'Condition': 'surgical infection prevention', 'MeasureCode': 'scip-vte-2', 'MeasureName': 'patients who got treatment at the right time (within 24 hours before or after their surgery) to help prevent blood clots after certain types of surgery', 'Score': '94%', 'Sample': '223 patients'}\n",
            "Correct repair found at index 473\n",
            "Key: MeasureName\n",
            "Dirty row: {'ProviderNumber': '10021', 'HospitalName': 'dale medical center', 'Address1': '126 hospital ave', 'Address2': '', 'Address3': '', 'City': 'ozark', 'State': 'al', 'ZipCode': '36360', 'CountyName': 'dale', 'PhoneNumber': '3347742601', 'HospitalType': 'acute care hospitals', 'HospitalOwner': 'government - hospital district or authority', 'EmergencyService': 'yes', 'Condition': 'heart failure', 'MeasureCode': 'hf-1', 'MeasureName': 'heaxt failuxe patients given dischaxge instxuctions', 'Score': '66%', 'Sample': '79 patients', 'Stateavg': 'al_hf-1'}\n",
            "Clean row: {'ProviderNumber': '10021', 'HospitalName': 'dale medical center', 'Address1': '126 hospital ave', 'Address2': '', 'Address3': '', 'City': 'ozark', 'State': 'al', 'ZipCode': '36360', 'CountyName': 'dale', 'PhoneNumber': '3347742601', 'HospitalType': 'acute care hospitals', 'HospitalOwner': 'government - hospital district or authority', 'EmergencyService': 'yes', 'Condition': 'heart failure', 'MeasureCode': 'hf-1', 'MeasureName': 'heart failure patients given discharge instructions', 'Score': '66%', 'Sample': '79 patients', 'Stateavg': 'al_hf-1'}\n",
            "Preprocessed row: {'ProviderNumber': '10021', 'HospitalName': 'dale medical center', 'Address1': '126 hospital ave', 'Address2': '', 'Address3': '', 'City': 'ozark', 'State': 'al', 'ZipCode': '36360', 'CountyName': 'dale', 'PhoneNumber': '3347742601', 'HospitalType': 'acute care hospitals', 'HospitalOwner': 'government - hospital district or authority', 'EmergencyService': 'yes', 'Condition': 'heart failure', 'MeasureCode': 'hf-1', 'MeasureName': 'heart failure patients given discharge instructions', 'Score': '66%', 'Sample': '79 patients', 'Stateavg': 'al_hf-1'}\n",
            "Correct repair found at index 490\n",
            "Key: HospitalType\n",
            "Dirty row: {'ProviderNumber': '10021', 'HospitalName': 'dale medical center', 'Address1': '126 hospital ave', 'Address2': '', 'Address3': '', 'City': 'ozark', 'State': 'al', 'ZipCode': 'x6x60', 'CountyName': 'dale', 'PhoneNumber': '3347742601', 'HospitalType': 'acute caxe hospitals', 'HospitalOwner': 'government - hospital district or authority', 'EmergencyService': 'yes', 'Condition': 'surgical infection prevention', 'MeasureCode': 'scip-vte-2', 'MeasureName': 'patients who got treatment  at the right time (within 24 hours before or after their surgery) to help prevent blood clots after certain types of surgery', 'Score': '68%', 'Sample': '50 patients', 'Stateavg': 'al_scip-vte-2'}\n",
            "Clean row: {'ProviderNumber': '10021', 'HospitalName': 'dale medical center', 'Address1': '126 hospital ave', 'Address2': '', 'Address3': '', 'City': 'ozark', 'State': 'al', 'ZipCode': '36360', 'CountyName': 'dale', 'PhoneNumber': '3347742601', 'HospitalType': 'acute care hospitals', 'HospitalOwner': 'government - hospital district or authority', 'EmergencyService': 'yes', 'Condition': 'surgical infection prevention', 'MeasureCode': 'scip-vte-2', 'MeasureName': 'patients who got treatment  at the right time (within 24 hours before or after their surgery) to help prevent blood clots after certain types of surgery', 'Score': '68%', 'Sample': '50 patients', 'Stateavg': 'al_scip-vte-2'}\n",
            "Preprocessed row: {'ProviderNumber': '10021', 'HospitalName': 'dale medical center', 'Address1': '126 hospital ave', 'Address2': '', 'Address3': '', 'City': 'ozark', 'State': 'al', 'ZipCode': 'x6x60', 'CountyName': 'dale', 'PhoneNumber': '3347742601', 'HospitalType': 'acute care hospitals', 'HospitalOwner': 'government - hospital district or authority', 'EmergencyService': 'yes', 'Condition': 'surgical infection prevention', 'MeasureCode': 'scip-vte-2', 'MeasureName': 'patients who got treatment at the right time (within 24 hours before or after their surgery) to help prevent blood clots after certain types of surgery', 'Score': '68%', 'Sample': '50 patients'}\n",
            "Correct repair found at index 496\n",
            "Key: Sample\n",
            "Dirty row: {'ProviderNumber': '10022', 'HospitalName': 'cherokee medical center', 'Address1': '400 northwood dr', 'Address2': '', 'Address3': '', 'City': 'centre', 'State': 'al', 'ZipCode': '35960', 'CountyName': 'cherokee', 'PhoneNumber': '2569275531', 'HospitalType': 'acute care hospitals', 'HospitalOwner': 'voluntary non-profit - private', 'EmergencyService': 'yes', 'Condition': 'heart attack', 'MeasureCode': 'ami-7a', 'MeasureName': 'heart attack patients given fibrinolytic medication within 30 minutes of arrival', 'Score': '', 'Sample': '0 patxents', 'Stateavg': 'al_ami-7a'}\n",
            "Clean row: {'ProviderNumber': '10022', 'HospitalName': 'cherokee medical center', 'Address1': '400 northwood dr', 'Address2': '', 'Address3': '', 'City': 'centre', 'State': 'al', 'ZipCode': '35960', 'CountyName': 'cherokee', 'PhoneNumber': '2569275531', 'HospitalType': 'acute care hospitals', 'HospitalOwner': 'voluntary non-profit - private', 'EmergencyService': 'yes', 'Condition': 'heart attack', 'MeasureCode': 'ami-7a', 'MeasureName': 'heart attack patients given fibrinolytic medication within 30 minutes of arrival', 'Score': '', 'Sample': '0 patients', 'Stateavg': 'al_ami-7a'}\n",
            "Preprocessed row: {'ProviderNumber': '10022', 'HospitalName': 'cherokee medical center', 'Address1': '400 northwood dr', 'Address2': '', 'Address3': '', 'City': 'centre', 'State': 'al', 'ZipCode': '35960', 'CountyName': 'cherokee', 'PhoneNumber': '2569275531', 'HospitalType': 'acute care hospitals', 'HospitalOwner': 'voluntary non-profit - private', 'EmergencyService': 'yes', 'Condition': 'heart attack', 'MeasureCode': 'ami-7a', 'MeasureName': 'heart attack patients given fibrinolytic medication within 30 minutes of arrival', 'Score': '', 'Sample': '0 patients', 'Stateavg': 'al_ami-7a'}\n",
            "Correct repair found at index 502\n",
            "Key: Sample\n",
            "Dirty row: {'ProviderNumber': '10022', 'HospitalName': 'cherokee medical center', 'Address1': '400 northwood dr', 'Address2': '', 'Address3': '', 'City': 'centre', 'State': 'al', 'ZipCode': '35960', 'CountyName': 'chxrokxx', 'PhoneNumber': '2569275531', 'HospitalType': 'acute care hospitals', 'HospitalOwner': 'voluntary non-profit - private', 'EmergencyService': 'yes', 'Condition': 'pneumonia', 'MeasureCode': 'pn-2', 'MeasureName': 'pneumonia patients assessed and given pneumococcal vaccination', 'Score': '93%', 'Sample': '44 paxienxs', 'Stateavg': 'al_pn-2'}\n",
            "Clean row: {'ProviderNumber': '10022', 'HospitalName': 'cherokee medical center', 'Address1': '400 northwood dr', 'Address2': '', 'Address3': '', 'City': 'centre', 'State': 'al', 'ZipCode': '35960', 'CountyName': 'cherokee', 'PhoneNumber': '2569275531', 'HospitalType': 'acute care hospitals', 'HospitalOwner': 'voluntary non-profit - private', 'EmergencyService': 'yes', 'Condition': 'pneumonia', 'MeasureCode': 'pn-2', 'MeasureName': 'pneumonia patients assessed and given pneumococcal vaccination', 'Score': '93%', 'Sample': '44 patients', 'Stateavg': 'al_pn-2'}\n",
            "Preprocessed row: {'ProviderNumber': '10022', 'HospitalName': 'cherokee medical center', 'Address1': '400 northwood dr', 'City': 'centre', 'State': 'al', 'ZipCode': '35960', 'CountyName': 'chxrokxx', 'PhoneNumber': '2569275531', 'HospitalType': 'acute care hospitals', 'HospitalOwner': 'voluntary non-profit - private', 'EmergencyService': 'yes', 'Condition': 'pneumonia', 'MeasureCode': 'pn-2', 'MeasureName': 'pneumonia patients assessed and given pneumococcal vaccination', 'Score': '93%', 'Sample': '44 patients', 'Stateavg': 'al_pn-2'}\n",
            "Correct repair found at index 517\n",
            "Key: City\n",
            "Dirty row: {'ProviderNumber': '10023', 'HospitalName': 'baptist medical center south', 'Address1': '2105 east south boulevard', 'Address2': '', 'Address3': '', 'City': 'montxomery', 'State': 'al', 'ZipCode': '36116', 'CountyName': 'montgomery', 'PhoneNumber': '3342882100', 'HospitalType': 'acute care hospitals', 'HospitalOwner': 'voluntary non-profit - church', 'EmergencyService': 'yes', 'Condition': 'heart attack', 'MeasureCode': 'ami-2', 'MeasureName': 'heart attack patients given aspirin at discharge', 'Score': '100%', 'Sample': '282 patients', 'Stateavg': 'al_ami-2'}\n",
            "Clean row: {'ProviderNumber': '10023', 'HospitalName': 'baptist medical center south', 'Address1': '2105 east south boulevard', 'Address2': '', 'Address3': '', 'City': 'montgomery', 'State': 'al', 'ZipCode': '36116', 'CountyName': 'montgomery', 'PhoneNumber': '3342882100', 'HospitalType': 'acute care hospitals', 'HospitalOwner': 'voluntary non-profit - church', 'EmergencyService': 'yes', 'Condition': 'heart attack', 'MeasureCode': 'ami-2', 'MeasureName': 'heart attack patients given aspirin at discharge', 'Score': '100%', 'Sample': '282 patients', 'Stateavg': 'al_ami-2'}\n",
            "Preprocessed row: {'ProviderNumber': '10023', 'HospitalName': 'baptist medical center south', 'Address1': '2105 east south boulevard', 'Address2': '', 'Address3': '', 'City': 'montgomery', 'State': 'al', 'ZipCode': '36116', 'CountyName': 'montgomery', 'PhoneNumber': '334-2882-100', 'HospitalType': 'acute care hospitals', 'HospitalOwner': 'voluntary non-profit - church', 'EmergencyService': 'yes', 'Condition': 'heart attack', 'MeasureCode': 'ami-2', 'MeasureName': 'heart attack patients given aspirin at discharge', 'Score': '100%', 'Sample': '282 patients'}\n",
            "Correct repair found at index 527\n",
            "Key: CountyName\n",
            "Dirty row: {'ProviderNumber': '10023', 'HospitalName': 'baptist medical center south', 'Address1': '2105 east south boulevard', 'Address2': '', 'Address3': '', 'City': 'montgomery', 'State': 'al', 'ZipCode': '36116', 'CountyName': 'monxgomery', 'PhoneNumber': '3342882100', 'HospitalType': 'acute care hospitals', 'HospitalOwner': 'voluntary non-profit - church', 'EmergencyService': 'yes', 'Condition': 'pneumonia', 'MeasureCode': 'pn-2', 'MeasureName': 'pneumonia patients assessed and given pneumococcal vaccination', 'Score': '94%', 'Sample': '99 patients', 'Stateavg': 'al_pn-2'}\n",
            "Clean row: {'ProviderNumber': '10023', 'HospitalName': 'baptist medical center south', 'Address1': '2105 east south boulevard', 'Address2': '', 'Address3': '', 'City': 'montgomery', 'State': 'al', 'ZipCode': '36116', 'CountyName': 'montgomery', 'PhoneNumber': '3342882100', 'HospitalType': 'acute care hospitals', 'HospitalOwner': 'voluntary non-profit - church', 'EmergencyService': 'yes', 'Condition': 'pneumonia', 'MeasureCode': 'pn-2', 'MeasureName': 'pneumonia patients assessed and given pneumococcal vaccination', 'Score': '94%', 'Sample': '99 patients', 'Stateavg': 'al_pn-2'}\n",
            "Preprocessed row: {'ProviderNumber': '10023', 'HospitalName': 'baptist medical center south', 'Address1': '2105 east south boulevard', 'Address2': '', 'Address3': '', 'City': 'montgomery', 'State': 'al', 'ZipCode': '36116', 'CountyName': 'montgomery', 'PhoneNumber': '3342882100', 'HospitalType': 'acute care hospitals', 'HospitalOwner': 'voluntary non-profit - church', 'EmergencyService': 'yes', 'Condition': 'pneumonia', 'MeasureCode': 'pn-2', 'MeasureName': 'pneumonia patients assessed and given pneumococcal vaccination', 'Score': '94', 'Sample': '99 patients', 'Stateavg': 'al_pn-2'}\n",
            "Correct repair found at index 532\n",
            "Key: HospitalType\n",
            "Dirty row: {'ProviderNumber': '10023', 'HospitalName': 'baptist medical cexter south', 'Address1': '2105 east south boulevard', 'Address2': '', 'Address3': '', 'City': 'montgomery', 'State': 'al', 'ZipCode': '36116', 'CountyName': 'montgomery', 'PhoneNumber': '3342882100', 'HospitalType': 'acute care hosxitals', 'HospitalOwner': 'voluntary non-profit - church', 'EmergencyService': 'yes', 'Condition': 'pneumonia', 'MeasureCode': 'pn-7', 'MeasureName': 'pxeumoxia patiexts assessed axd givex ixfluexza vaccixatiox', 'Score': '92%', 'Sample': '87 patientx', 'Stateavg': 'al_pn-7'}\n",
            "Clean row: {'ProviderNumber': '10023', 'HospitalName': 'baptist medical center south', 'Address1': '2105 east south boulevard', 'Address2': '', 'Address3': '', 'City': 'montgomery', 'State': 'al', 'ZipCode': '36116', 'CountyName': 'montgomery', 'PhoneNumber': '3342882100', 'HospitalType': 'acute care hospitals', 'HospitalOwner': 'voluntary non-profit - church', 'EmergencyService': 'yes', 'Condition': 'pneumonia', 'MeasureCode': 'pn-7', 'MeasureName': 'pneumonia patients assessed and given influenza vaccination', 'Score': '92%', 'Sample': '87 patients', 'Stateavg': 'al_pn-7'}\n",
            "Preprocessed row: {'ProviderNumber': '10023', 'HospitalName': 'baptist medical cexter south', 'Address1': '2105 east south boulevard', 'Address2': '', 'Address3': '', 'City': 'montgomery', 'State': 'al', 'ZipCode': '36116', 'CountyName': 'montgomery', 'PhoneNumber': '3342882100', 'HospitalType': 'acute care hospitals', 'HospitalOwner': 'voluntary non-profit - church', 'EmergencyService': 'yes', 'Condition': 'pneumonia', 'MeasureCode': 'pn-7', 'MeasureName': 'Pneumonia Patients Treated', 'Score': '92%', 'Sample': '87 patient', 'Stateavg': 'al_pn-7'}\n",
            "Correct repair found at index 551\n",
            "Key: CountyName\n",
            "Dirty row: {'ProviderNumber': '10024', 'HospitalName': 'jackson hospital & clinic inc', 'Address1': '1725 pine street', 'Address2': '', 'Address3': '', 'City': 'montgomery', 'State': 'al', 'ZipCode': '36106', 'CountyName': 'monxgomery', 'PhoneNumber': '3342938000', 'HospitalType': 'acute care hospitals', 'HospitalOwner': 'voluntary non-profit - private', 'EmergencyService': 'yes', 'Condition': 'heart failure', 'MeasureCode': 'hf-4', 'MeasureName': 'heart failure patients given smoking cessation advice/counseling', 'Score': '99%', 'Sample': '93 patients', 'Stateavg': 'al_hf-4'}\n",
            "Clean row: {'ProviderNumber': '10024', 'HospitalName': 'jackson hospital & clinic inc', 'Address1': '1725 pine street', 'Address2': '', 'Address3': '', 'City': 'montgomery', 'State': 'al', 'ZipCode': '36106', 'CountyName': 'montgomery', 'PhoneNumber': '3342938000', 'HospitalType': 'acute care hospitals', 'HospitalOwner': 'voluntary non-profit - private', 'EmergencyService': 'yes', 'Condition': 'heart failure', 'MeasureCode': 'hf-4', 'MeasureName': 'heart failure patients given smoking cessation advice/counseling', 'Score': '99%', 'Sample': '93 patients', 'Stateavg': 'al_hf-4'}\n",
            "Preprocessed row: {'ProviderNumber': '10024', 'HospitalName': 'jackson hospital & clinic inc', 'Address1': '1725 pine street', 'Address2': '', 'Address3': '', 'City': 'montgomery', 'State': 'al', 'ZipCode': '36106', 'CountyName': 'montgomery', 'PhoneNumber': '334-938-3000', 'HospitalType': 'acute care hospitals', 'HospitalOwner': 'voluntary non-profit - private', 'EmergencyService': 'yes', 'Condition': 'heart failure', 'MeasureCode': 'hf-4', 'MeasureName': 'heart failure patients given smoking cessation advice/counseling', 'Score': '99%', 'Sample': '93 patients', 'Stateavg': 'al_hf-4'}\n",
            "Correct repair found at index 554\n",
            "Key: Sample\n",
            "Dirty row: {'ProviderNumber': '10024', 'HospitalName': 'jackson hospital & clinic inc', 'Address1': '1725 pine street', 'Address2': '', 'Address3': '', 'City': 'montgomery', 'State': 'al', 'ZipCode': '36106', 'CountyName': 'montgomery', 'PhoneNumber': '3342938000', 'HospitalType': 'acute care hospitals', 'HospitalOwner': 'voluntary non-profit - private', 'EmergencyService': 'yes', 'Condition': 'pneumonia', 'MeasureCode': 'pn-4', 'MeasureName': 'pneumonia patients given smoking cessation advice/counseling', 'Score': '91%', 'Sample': '74 patxents', 'Stateavg': 'al_pn-4'}\n",
            "Clean row: {'ProviderNumber': '10024', 'HospitalName': 'jackson hospital & clinic inc', 'Address1': '1725 pine street', 'Address2': '', 'Address3': '', 'City': 'montgomery', 'State': 'al', 'ZipCode': '36106', 'CountyName': 'montgomery', 'PhoneNumber': '3342938000', 'HospitalType': 'acute care hospitals', 'HospitalOwner': 'voluntary non-profit - private', 'EmergencyService': 'yes', 'Condition': 'pneumonia', 'MeasureCode': 'pn-4', 'MeasureName': 'pneumonia patients given smoking cessation advice/counseling', 'Score': '91%', 'Sample': '74 patients', 'Stateavg': 'al_pn-4'}\n",
            "Preprocessed row: {'ProviderNumber': '10024', 'HospitalName': 'jackson hospital & clinic inc', 'Address1': '1725 pine street', 'City': 'montgomery', 'State': 'al', 'ZipCode': '36106', 'CountyName': 'montgomery', 'PhoneNumber': '3342938000', 'HospitalType': 'acute care hospitals', 'HospitalOwner': 'voluntary non-profit - private', 'EmergencyService': 'yes', 'Condition': 'pneumonia', 'MeasureCode': 'pn-4', 'MeasureName': 'pneumonia patients given smoking cessation advice/counseling', 'Score': '91%', 'Sample': '74 patients'}\n",
            "Correct repair found at index 572\n",
            "Key: State\n",
            "Dirty row: {'ProviderNumber': '10025', 'HospitalName': 'g h lanier memorial hospital', 'Address1': '4800 48th st', 'Address2': '', 'Address3': '', 'City': 'valley', 'State': 'ax', 'ZipCode': '36854', 'CountyName': 'chambers', 'PhoneNumber': '334x561400', 'HospitalType': 'acute care hospitals', 'HospitalOwner': 'voluntary non-profit - otxer', 'EmergencyService': 'yes', 'Condition': 'heart attack', 'MeasureCode': 'ami-8a', 'MeasureName': 'heart attack patients given pci within 90 minutes of arrival', 'Score': '', 'Sample': '0 patients', 'Stateavg': 'al_ami-8a'}\n",
            "Clean row: {'ProviderNumber': '10025', 'HospitalName': 'g h lanier memorial hospital', 'Address1': '4800 48th st', 'Address2': '', 'Address3': '', 'City': 'valley', 'State': 'al', 'ZipCode': '36854', 'CountyName': 'chambers', 'PhoneNumber': '3347561400', 'HospitalType': 'acute care hospitals', 'HospitalOwner': 'voluntary non-profit - other', 'EmergencyService': 'yes', 'Condition': 'heart attack', 'MeasureCode': 'ami-8a', 'MeasureName': 'heart attack patients given pci within 90 minutes of arrival', 'Score': '', 'Sample': '0 patients', 'Stateavg': 'al_ami-8a'}\n",
            "Preprocessed row: {'ProviderNumber': '10025', 'HospitalName': 'g h lanier memorial hospital', 'Address1': '4800 48th st', 'City': 'valley', 'State': 'al', 'ZipCode': '36854', 'CountyName': 'chambers', 'PhoneNumber': '334x561400', 'HospitalType': 'acute care hospitals', 'HospitalOwner': 'voluntary non-profit - otxer', 'EmergencyService': 'yes', 'Condition': 'heart attack', 'MeasureCode': 'ami-8a', 'Score': '', 'Sample': '0 patients'}\n",
            "Correct repair found at index 588\n",
            "Key: Sample\n",
            "Dirty row: {'ProviderNumber': '10025', 'HospitalName': 'g h lanier memorial hospital', 'Address1': '4800 48th st', 'Address2': '', 'Address3': '', 'City': 'valley', 'State': 'al', 'ZipCode': '36854', 'CountyName': 'chambers', 'PhoneNumber': '3347561400', 'HospitalType': 'acuxe care hospixals', 'HospitalOwner': 'voluntary non-profit - other', 'EmergencyService': 'yes', 'Condition': 'surgical infection prevention', 'MeasureCode': 'scip-inf-6', 'MeasureName': 'surgery patients needing hair removed from the surgical area before surgery who had hair removed using a safer method (electric clippers or hair removal cream c not a razor)', 'Score': '96%', 'Sample': '172 patxents', 'Stateavg': 'al_scip-inf-6'}\n",
            "Clean row: {'ProviderNumber': '10025', 'HospitalName': 'g h lanier memorial hospital', 'Address1': '4800 48th st', 'Address2': '', 'Address3': '', 'City': 'valley', 'State': 'al', 'ZipCode': '36854', 'CountyName': 'chambers', 'PhoneNumber': '3347561400', 'HospitalType': 'acute care hospitals', 'HospitalOwner': 'voluntary non-profit - other', 'EmergencyService': 'yes', 'Condition': 'surgical infection prevention', 'MeasureCode': 'scip-inf-6', 'MeasureName': 'surgery patients needing hair removed from the surgical area before surgery who had hair removed using a safer method (electric clippers or hair removal cream c not a razor)', 'Score': '96%', 'Sample': '172 patients', 'Stateavg': 'al_scip-inf-6'}\n",
            "Preprocessed row: {'ProviderNumber': '10025', 'HospitalName': 'g h lanier memorial hospital', 'Address1': '4800 48th st', 'Address2': '', 'Address3': '', 'City': 'valley', 'State': 'al', 'ZipCode': '36854', 'CountyName': 'chambers', 'PhoneNumber': '3347561400', 'HospitalType': 'acuxe care hospixals', 'HospitalOwner': 'voluntary non-profit - other', 'EmergencyService': 'yes', 'Condition': 'surgical infection prevention', 'MeasureCode': 'scip-inf-6', 'MeasureName': 'surgery patients needing hair removed from the surgical area before surgery who had hair removed using a safer method (electric clippers or hair removal cream c not a razor)', 'Score': '96%', 'Sample': '172 patients'}\n",
            "Correct repair found at index 599\n",
            "Key: Condition\n",
            "Dirty row: {'ProviderNumber': '10027', 'HospitalName': 'elba general hospital', 'Address1': '987 drayton street', 'Address2': '', 'Address3': '', 'City': 'elba', 'State': 'al', 'ZipCode': '36323', 'CountyName': 'coffee', 'PhoneNumber': '3348972257', 'HospitalType': 'acute care hospitals', 'HospitalOwner': 'voluntary non-profit - other', 'EmergencyService': 'yes', 'Condition': 'heart faixure', 'MeasureCode': 'hf-2', 'MeasureName': 'heart failure patients given an evaluation of left ventricular systolic (lvs) function', 'Score': '100%', 'Sample': '3 patients', 'Stateavg': 'al_hf-2'}\n",
            "Clean row: {'ProviderNumber': '10027', 'HospitalName': 'elba general hospital', 'Address1': '987 drayton street', 'Address2': '', 'Address3': '', 'City': 'elba', 'State': 'al', 'ZipCode': '36323', 'CountyName': 'coffee', 'PhoneNumber': '3348972257', 'HospitalType': 'acute care hospitals', 'HospitalOwner': 'voluntary non-profit - other', 'EmergencyService': 'yes', 'Condition': 'heart failure', 'MeasureCode': 'hf-2', 'MeasureName': 'heart failure patients given an evaluation of left ventricular systolic (lvs) function', 'Score': '100%', 'Sample': '3 patients', 'Stateavg': 'al_hf-2'}\n",
            "Preprocessed row: {'ProviderNumber': '10027', 'HospitalName': 'elba general hospital', 'Address1': '987 drayton street', 'Address2': '', 'Address3': '', 'City': 'elba', 'State': 'al', 'ZipCode': '36323', 'CountyName': 'coffee', 'PhoneNumber': '3348972257', 'HospitalType': 'acute care hospitals', 'HospitalOwner': 'voluntary non-profit - other', 'EmergencyService': 'yes', 'Condition': 'heart failure', 'MeasureCode': 'hf-2', 'MeasureName': 'heart failure patients given an evaluation of left ventricular systolic (lvs) function', 'Score': '100%', 'Sample': '3 patients'}\n",
            "Correct repair found at index 668\n",
            "Key: Sample\n",
            "Dirty row: {'ProviderNumber': '10033', 'HospitalName': 'university of alabama hospital', 'Address1': '619 south 19th street', 'Address2': '', 'Address3': '', 'City': 'birmingham', 'State': 'al', 'ZipCode': '35233', 'CountyName': 'jefferson', 'PhoneNumber': '2059344011', 'HospitalType': 'acute care hospitals', 'HospitalOwner': 'government - state', 'EmergencyService': 'yes', 'Condition': 'heart attack', 'MeasureCode': 'ami-3', 'MeasureName': 'heart attack patients given ace inhibitor or arb for left ventricular systolic dysfunction (lvsd)', 'Score': '91%', 'Sample': '87 paxienxs', 'Stateavg': 'al_ami-3'}\n",
            "Clean row: {'ProviderNumber': '10033', 'HospitalName': 'university of alabama hospital', 'Address1': '619 south 19th street', 'Address2': '', 'Address3': '', 'City': 'birmingham', 'State': 'al', 'ZipCode': '35233', 'CountyName': 'jefferson', 'PhoneNumber': '2059344011', 'HospitalType': 'acute care hospitals', 'HospitalOwner': 'government - state', 'EmergencyService': 'yes', 'Condition': 'heart attack', 'MeasureCode': 'ami-3', 'MeasureName': 'heart attack patients given ace inhibitor or arb for left ventricular systolic dysfunction (lvsd)', 'Score': '91%', 'Sample': '87 patients', 'Stateavg': 'al_ami-3'}\n",
            "Preprocessed row: {'ProviderNumber': '10033', 'HospitalName': 'university of alabama hospital', 'Address1': '619 south 19th street', 'Address2': '', 'Address3': '', 'City': 'birmingham', 'State': 'al', 'ZipCode': '35233', 'CountyName': 'jefferson', 'PhoneNumber': '205-934-4411', 'HospitalType': 'acute care hospitals', 'HospitalOwner': 'government - state', 'EmergencyService': 'yes', 'Condition': 'heart attack', 'MeasureCode': 'ami-3', 'MeasureName': 'heart attack patients given ace inhibitor or arb for left ventricular systolic dysfunction (lvsd)', 'Score': '91%', 'Sample': '87 patients', 'Stateavg': 'al_ami-3'}\n",
            "Correct repair found at index 695\n",
            "Key: Condition\n",
            "Dirty row: {'ProviderNumber': '10034', 'HospitalName': 'community hospital inc', 'Address1': '805 friendship road', 'Address2': '', 'Address3': '', 'City': 'tallassee', 'State': 'al', 'ZipCode': '36078', 'CountyName': 'elmore', 'PhoneNumber': '3342836541', 'HospitalType': 'acute cxre hospitxls', 'HospitalOwner': 'voluntary non-profit - private', 'EmergencyService': 'no', 'Condition': 'heart attaxk', 'MeasureCode': 'ami-5', 'MeasureName': 'heart attack patients given beta blocker at discharge', 'Score': '75%', 'Sample': '4 patients', 'Stateavg': 'al_ami-5'}\n",
            "Clean row: {'ProviderNumber': '10034', 'HospitalName': 'community hospital inc', 'Address1': '805 friendship road', 'Address2': '', 'Address3': '', 'City': 'tallassee', 'State': 'al', 'ZipCode': '36078', 'CountyName': 'elmore', 'PhoneNumber': '3342836541', 'HospitalType': 'acute care hospitals', 'HospitalOwner': 'voluntary non-profit - private', 'EmergencyService': 'no', 'Condition': 'heart attack', 'MeasureCode': 'ami-5', 'MeasureName': 'heart attack patients given beta blocker at discharge', 'Score': '75%', 'Sample': '4 patients', 'Stateavg': 'al_ami-5'}\n",
            "Preprocessed row: {'ProviderNumber': '10034', 'HospitalName': 'community hospital inc', 'Address1': '805 friendship road', 'City': 'tallassee', 'State': 'al', 'ZipCode': '36078', 'CountyName': 'elmore', 'PhoneNumber': '3342836541', 'HospitalType': 'acute cxre hospitxls', 'HospitalOwner': 'voluntary non-profit - private', 'EmergencyService': 'no', 'Condition': 'heart attack', 'MeasureCode': 'ami-5', 'MeasureName': 'heart attack patients given beta blocker at discharge', 'Score': '75%', 'Sample': '4 patients'}\n",
            "Correct repair found at index 698\n",
            "Key: Condition\n",
            "Dirty row: {'ProviderNumber': '10034', 'HospitalName': 'community hospital inc', 'Address1': '805 friendship road', 'Address2': '', 'Address3': '', 'City': 'tallassee', 'State': 'al', 'ZipCode': '36078', 'CountyName': 'elxore', 'PhoneNumber': '3342836541', 'HospitalType': 'acute care hospitals', 'HospitalOwner': 'voluntary non-profit - private', 'EmergencyService': 'no', 'Condition': 'hexrt fxilure', 'MeasureCode': 'hf-1', 'MeasureName': 'heart failure patients given discharge instructions', 'Score': 'xx%', 'Sample': '65 patients', 'Stateavg': 'al_hf-1'}\n",
            "Clean row: {'ProviderNumber': '10034', 'HospitalName': 'community hospital inc', 'Address1': '805 friendship road', 'Address2': '', 'Address3': '', 'City': 'tallassee', 'State': 'al', 'ZipCode': '36078', 'CountyName': 'elmore', 'PhoneNumber': '3342836541', 'HospitalType': 'acute care hospitals', 'HospitalOwner': 'voluntary non-profit - private', 'EmergencyService': 'no', 'Condition': 'heart failure', 'MeasureCode': 'hf-1', 'MeasureName': 'heart failure patients given discharge instructions', 'Score': '88%', 'Sample': '65 patients', 'Stateavg': 'al_hf-1'}\n",
            "Preprocessed row: {'ProviderNumber': '10034', 'HospitalName': 'community hospital inc', 'Address1': '805 friendship road', 'City': 'tallassee', 'State': 'al', 'ZipCode': '36078', 'CountyName': 'elxore', 'PhoneNumber': '3342836541', 'HospitalType': 'acute care hospitals', 'HospitalOwner': 'voluntary non-profit - private', 'EmergencyService': 'no', 'Condition': 'heart failure', 'MeasureCode': 'hf-1', 'MeasureName': 'heart failure patients given discharge instructions', 'Score': 'xx%', 'Sample': '65 patients'}\n",
            "Correct repair found at index 712\n",
            "Key: Condition\n",
            "Dirty row: {'ProviderNumber': '10034', 'HospitalName': 'community hospital inc', 'Address1': '805 friendship road', 'Address2': '', 'Address3': '', 'City': 'tallassee', 'State': 'al', 'ZipCode': '36078', 'CountyName': 'elmore', 'PhoneNumber': '3342836541', 'HospitalType': 'acute care hospitals', 'HospitalOwner': 'voluntary non-profit - private', 'EmergencyService': 'no', 'Condition': 'surgical infection xrevention', 'MeasureCode': 'scip-inf-4', 'MeasureName': 'all heart surgery patients whose blood sugar (blood glucose) is kept under good control in the days right after surgery', 'Score': '', 'Sample': '0 patients', 'Stateavg': 'al_scip-inf-4'}\n",
            "Clean row: {'ProviderNumber': '10034', 'HospitalName': 'community hospital inc', 'Address1': '805 friendship road', 'Address2': '', 'Address3': '', 'City': 'tallassee', 'State': 'al', 'ZipCode': '36078', 'CountyName': 'elmore', 'PhoneNumber': '3342836541', 'HospitalType': 'acute care hospitals', 'HospitalOwner': 'voluntary non-profit - private', 'EmergencyService': 'no', 'Condition': 'surgical infection prevention', 'MeasureCode': 'scip-inf-4', 'MeasureName': 'all heart surgery patients whose blood sugar (blood glucose) is kept under good control in the days right after surgery', 'Score': '', 'Sample': '0 patients', 'Stateavg': 'al_scip-inf-4'}\n",
            "Preprocessed row: {'ProviderNumber': '10034', 'HospitalName': 'community hospital inc', 'Address1': '805 friendship road', 'Address2': '', 'Address3': '', 'City': 'tallassee', 'State': 'al', 'ZipCode': '36078', 'CountyName': 'elmore', 'PhoneNumber': '3342836541', 'HospitalType': 'acute care hospitals', 'HospitalOwner': 'voluntary non-profit - private', 'EmergencyService': 'no', 'Condition': 'surgical infection prevention', 'MeasureCode': 'scip-inf-4', 'MeasureName': 'all heart surgery patients whose blood sugar (blood glucose) is kept under good control in the days right after surgery', 'Score': '', 'Sample': '0 patients', 'Stateavg': 'al_scip-inf-4'}\n",
            "Correct repair found at index 722\n",
            "Key: CountyName\n",
            "Dirty row: {'ProviderNumber': '10035', 'HospitalName': 'cullman regional medical center', 'Address1': '1912 alabama highway 157', 'Address2': '', 'Address3': '', 'City': 'cullman', 'State': 'al', 'ZipCode': '35058', 'CountyName': 'cxllman', 'PhoneNumber': '2567372000', 'HospitalType': 'acute care hospitals', 'HospitalOwner': 'government - hospital district or authority', 'EmergencyService': 'yes', 'Condition': 'heart attack', 'MeasureCode': 'ami-8a', 'MeasureName': 'heart attack patients given pci within 90 minutes of arrival', 'Score': '', 'Sample': '0 patients', 'Stateavg': 'al_ami-8a'}\n",
            "Clean row: {'ProviderNumber': '10035', 'HospitalName': 'cullman regional medical center', 'Address1': '1912 alabama highway 157', 'Address2': '', 'Address3': '', 'City': 'cullman', 'State': 'al', 'ZipCode': '35058', 'CountyName': 'cullman', 'PhoneNumber': '2567372000', 'HospitalType': 'acute care hospitals', 'HospitalOwner': 'government - hospital district or authority', 'EmergencyService': 'yes', 'Condition': 'heart attack', 'MeasureCode': 'ami-8a', 'MeasureName': 'heart attack patients given pci within 90 minutes of arrival', 'Score': '', 'Sample': '0 patients', 'Stateavg': 'al_ami-8a'}\n",
            "Preprocessed row: {'ProviderNumber': '10035', 'HospitalName': 'cullman regional medical center', 'Address1': '1912 alabama highway 157', 'City': 'cullman', 'State': 'al', 'ZipCode': '35058', 'CountyName': 'cullman', 'PhoneNumber': '2567372000', 'HospitalType': 'acute care hospitals', 'HospitalOwner': 'government - hospital district or authority', 'EmergencyService': 'yes', 'Condition': 'heart attack', 'MeasureCode': 'ami-8a', 'MeasureName': 'heart attack patients given pci within 90 minutes of arrival', 'Score': '0 patients', 'Stateavg': 'al_ami-8a'}\n",
            "Correct repair found at index 736\n",
            "Key: City\n",
            "Dirty row: {'ProviderNumber': '10035', 'HospitalName': 'cullman regional medical center', 'Address1': '1912xalabamaxhighwayx157', 'Address2': '', 'Address3': '', 'City': 'cuxxman', 'State': 'al', 'ZipCode': '35058', 'CountyName': 'cullman', 'PhoneNumber': '2567372000', 'HospitalType': 'acute care hospitals', 'HospitalOwner': 'government - hospital district or authority', 'EmergencyService': 'yes', 'Condition': 'surgical infection prevention', 'MeasureCode': 'scip-inf-3', 'MeasureName': 'surgery patients whose preventive antibiotics were stopped at the right time (within 24 hours after surgery)', 'Score': '98%', 'Sample': '405 patients', 'Stateavg': 'al_scip-inf-3'}\n",
            "Clean row: {'ProviderNumber': '10035', 'HospitalName': 'cullman regional medical center', 'Address1': '1912 alabama highway 157', 'Address2': '', 'Address3': '', 'City': 'cullman', 'State': 'al', 'ZipCode': '35058', 'CountyName': 'cullman', 'PhoneNumber': '2567372000', 'HospitalType': 'acute care hospitals', 'HospitalOwner': 'government - hospital district or authority', 'EmergencyService': 'yes', 'Condition': 'surgical infection prevention', 'MeasureCode': 'scip-inf-3', 'MeasureName': 'surgery patients whose preventive antibiotics were stopped at the right time (within 24 hours after surgery)', 'Score': '98%', 'Sample': '405 patients', 'Stateavg': 'al_scip-inf-3'}\n",
            "Preprocessed row: {'ProviderNumber': '10035', 'HospitalName': 'cullman regional medical center', 'Address1': '1912xalabamahighwayx157', 'Address2': '', 'Address3': '', 'City': 'cullman', 'State': 'al', 'ZipCode': '35058', 'CountyName': 'cullman', 'PhoneNumber': '2567372000', 'HospitalType': 'acute care hospitals', 'HospitalOwner': 'government - hospital district or authority', 'EmergencyService': 'yes', 'Condition': 'surgical infection prevention', 'MeasureCode': 'scip-inf-3', 'MeasureName': 'surgery patients whose preventive antibiotics were stopped at the right time (within 24 hours after surgery)', 'Score': '98%', 'Sample': '405 patients'}\n",
            "Correct repair found at index 772\n",
            "Key: City\n",
            "Dirty row: {'ProviderNumber': '10038', 'HospitalName': 'stringfellow memorial hospital', 'Address1': '301 east 18th st', 'Address2': '', 'Address3': '', 'City': 'annxston', 'State': 'al', 'ZipCode': '36201', 'CountyName': 'calhoun', 'PhoneNumber': '2562358900', 'HospitalType': 'acute care hospitals', 'HospitalOwner': 'proprietary', 'EmergencyService': 'yes', 'Condition': 'surgical infection prevention', 'MeasureCode': 'scip-vte-1', 'MeasureName': 'surgery patients whose doctors ordered treatments to prevent blood clots after certain types of surgeries', 'Score': '90%', 'Sample': '117 patients', 'Stateavg': 'al_scip-vte-1'}\n",
            "Clean row: {'ProviderNumber': '10038', 'HospitalName': 'stringfellow memorial hospital', 'Address1': '301 east 18th st', 'Address2': '', 'Address3': '', 'City': 'anniston', 'State': 'al', 'ZipCode': '36201', 'CountyName': 'calhoun', 'PhoneNumber': '2562358900', 'HospitalType': 'acute care hospitals', 'HospitalOwner': 'proprietary', 'EmergencyService': 'yes', 'Condition': 'surgical infection prevention', 'MeasureCode': 'scip-vte-1', 'MeasureName': 'surgery patients whose doctors ordered treatments to prevent blood clots after certain types of surgeries', 'Score': '90%', 'Sample': '117 patients', 'Stateavg': 'al_scip-vte-1'}\n",
            "Preprocessed row: {'ProviderNumber': '10038', 'HospitalName': 'stringfellow memorial hospital', 'Address1': '301 east 18th st', 'Address2': '', 'Address3': '', 'City': 'anniston', 'State': 'al', 'ZipCode': '36201', 'CountyName': 'calhoun', 'PhoneNumber': '2562358900', 'HospitalType': 'acute care hospitals', 'HospitalOwner': 'proprietary', 'EmergencyService': 'yes', 'Condition': 'surgical infection prevention', 'MeasureCode': 'scip-vte-1', 'MeasureName': 'surgery patients whose doctors ordered treatments to prevent blood clots after certain types of surgeries', 'Score': '90%', 'Sample': '117 patients', 'Stateavg': 'al_scip-vte-1'}\n",
            "Correct repair found at index 776\n",
            "Key: Sample\n",
            "Dirty row: {'ProviderNumber': '10039', 'HospitalName': 'huntsville hospital', 'Address1': '101 sivley rd', 'Address2': '', 'Address3': '', 'City': 'huntsville', 'State': 'al', 'ZipCode': '35801', 'CountyName': 'madison', 'PhoneNumber': '2562651000', 'HospitalType': 'acute care hospitals', 'HospitalOwner': 'government - hospital district or authority', 'EmergencyService': 'yes', 'Condition': 'children s asthma care', 'MeasureCode': 'cac-3', 'MeasureName': 'children and their caregivers who received a home management plan of care document while hospitalized for asthma', 'Score': '14%', 'Sample': '193 paxienxs', 'Stateavg': 'al_cac-3'}\n",
            "Clean row: {'ProviderNumber': '10039', 'HospitalName': 'huntsville hospital', 'Address1': '101 sivley rd', 'Address2': '', 'Address3': '', 'City': 'huntsville', 'State': 'al', 'ZipCode': '35801', 'CountyName': 'madison', 'PhoneNumber': '2562651000', 'HospitalType': 'acute care hospitals', 'HospitalOwner': 'government - hospital district or authority', 'EmergencyService': 'yes', 'Condition': 'children s asthma care', 'MeasureCode': 'cac-3', 'MeasureName': 'children and their caregivers who received a home management plan of care document while hospitalized for asthma', 'Score': '14%', 'Sample': '193 patients', 'Stateavg': 'al_cac-3'}\n",
            "Preprocessed row: {'ProviderNumber': '10039', 'HospitalName': 'huntsville hospital', 'Address1': '101 sivley rd', 'Address2': '', 'Address3': '', 'City': 'huntsville', 'State': 'al', 'ZipCode': '35801', 'CountyName': 'madison', 'PhoneNumber': '2562651000', 'HospitalType': 'acute care hospitals', 'HospitalOwner': 'government - hospital district or authority', 'EmergencyService': 'yes', 'Condition': 'children s asthma care', 'MeasureCode': 'cac-3', 'MeasureName': 'children and their caregivers who received a home management plan of care document while hospitalized for asthma', 'Score': '14%', 'Sample': '193 patients'}\n",
            "Correct repair found at index 780\n",
            "Key: Condition\n",
            "Dirty row: {'ProviderNumber': '1003x', 'HospitalName': 'huntsville hospital', 'Address1': '101 sivley rd', 'Address2': '', 'Address3': '', 'City': 'huntsville', 'State': 'al', 'ZipCode': '35801', 'CountyName': 'madison', 'PhoneNumber': '2562651000', 'HospitalType': 'acute care hospitals', 'HospitalOwner': 'government - hospital district or authority', 'EmergencyService': 'yes', 'Condition': 'heart attaxk', 'MeasureCode': 'ami-4', 'MeasureName': 'heart attack patients given smoking cessation advice/counseling', 'Score': '100%', 'Sample': '135 patients', 'Stateavg': 'al_ami-4'}\n",
            "Clean row: {'ProviderNumber': '10039', 'HospitalName': 'huntsville hospital', 'Address1': '101 sivley rd', 'Address2': '', 'Address3': '', 'City': 'huntsville', 'State': 'al', 'ZipCode': '35801', 'CountyName': 'madison', 'PhoneNumber': '2562651000', 'HospitalType': 'acute care hospitals', 'HospitalOwner': 'government - hospital district or authority', 'EmergencyService': 'yes', 'Condition': 'heart attack', 'MeasureCode': 'ami-4', 'MeasureName': 'heart attack patients given smoking cessation advice/counseling', 'Score': '100%', 'Sample': '135 patients', 'Stateavg': 'al_ami-4'}\n",
            "Preprocessed row: {'ProviderNumber': '1003x', 'HospitalName': 'huntsville hospital', 'Address1': '101 sivley rd', 'Address2': '', 'Address3': '', 'City': 'huntsville', 'State': 'al', 'ZipCode': '35801', 'CountyName': 'madison', 'PhoneNumber': '2562651000', 'HospitalType': 'acute care hospitals', 'HospitalOwner': 'government - hospital district or authority', 'EmergencyService': 'yes', 'Condition': 'heart attack', 'MeasureCode': 'ami-4', 'MeasureName': 'heart attack patients given smoking cessation advice/counseling', 'Score': '100%', 'Sample': '135 patients', 'Stateavg': 'al_ami-4'}\n",
            "Correct repair found at index 787\n",
            "Key: Stateavg\n",
            "Dirty row: {'ProviderNumber': '10039', 'HospitalName': 'huntsville hospital', 'Address1': '101 sivley rd', 'Address2': '', 'Address3': '', 'City': 'huntsville', 'State': 'al', 'ZipCode': '35801', 'CountyName': 'madison', 'PhoneNumber': '2562651000', 'HospitalType': 'acute care hospitals', 'HospitalOwner': 'government - hospital district or authority', 'EmergencyService': 'yes', 'Condition': 'heart failure', 'MeasureCode': 'hf-4', 'MeasureName': 'heart failure patients given smoking cessation advice/counseling', 'Score': '100%', 'Sample': '51 patients', 'Stateavg': 'al_hf-x'}\n",
            "Clean row: {'ProviderNumber': '10039', 'HospitalName': 'huntsville hospital', 'Address1': '101 sivley rd', 'Address2': '', 'Address3': '', 'City': 'huntsville', 'State': 'al', 'ZipCode': '35801', 'CountyName': 'madison', 'PhoneNumber': '2562651000', 'HospitalType': 'acute care hospitals', 'HospitalOwner': 'government - hospital district or authority', 'EmergencyService': 'yes', 'Condition': 'heart failure', 'MeasureCode': 'hf-4', 'MeasureName': 'heart failure patients given smoking cessation advice/counseling', 'Score': '100%', 'Sample': '51 patients', 'Stateavg': 'al_hf-4'}\n",
            "Preprocessed row: {'ProviderNumber': '10039', 'HospitalName': 'huntsville hospital', 'Address1': '101 sivley rd', 'City': 'huntsville', 'State': 'al', 'ZipCode': '35801', 'CountyName': 'madison', 'PhoneNumber': '2562651000', 'HospitalType': 'acute care hospitals', 'HospitalOwner': 'government - hospital district or authority', 'EmergencyService': 'yes', 'MeasureCode': 'hf-4', 'MeasureName': 'heart failure patients given smoking cessation advice/counseling', 'Score': '100%', 'Sample': '51 patients', 'Stateavg': 'al_hf-4'}\n",
            "Correct repair found at index 802\n",
            "Key: MeasureName\n",
            "Dirty row: {'ProviderNumber': '10040', 'HospitalName': 'gadsden regional medical center', 'Address1': '1007 goodyear avenue', 'Address2': '', 'Address3': '', 'City': 'gadsden', 'State': 'al', 'ZipCode': '35903', 'CountyName': 'etowah', 'PhoneNumber': '2564944000', 'HospitalType': 'acute care hospitals', 'HospitalOwner': 'proprietary', 'EmergencyService': 'yes', 'Condition': 'heart attack', 'MeasureCode': 'ami-1', 'MeasureName': 'heart attack patxents gxven aspxrxn at arrxval', 'Score': '94%', 'Sample': '123 patients', 'Stateavg': 'al_ami-1'}\n",
            "Clean row: {'ProviderNumber': '10040', 'HospitalName': 'gadsden regional medical center', 'Address1': '1007 goodyear avenue', 'Address2': '', 'Address3': '', 'City': 'gadsden', 'State': 'al', 'ZipCode': '35903', 'CountyName': 'etowah', 'PhoneNumber': '2564944000', 'HospitalType': 'acute care hospitals', 'HospitalOwner': 'proprietary', 'EmergencyService': 'yes', 'Condition': 'heart attack', 'MeasureCode': 'ami-1', 'MeasureName': 'heart attack patients given aspirin at arrival', 'Score': '94%', 'Sample': '123 patients', 'Stateavg': 'al_ami-1'}\n",
            "Preprocessed row: {'ProviderNumber': '10040', 'HospitalName': 'gadsden regional medical center', 'Address1': '1007 goodyear avenue', 'Address2': '', 'Address3': '', 'City': 'gadsden', 'State': 'al', 'ZipCode': '35903', 'CountyName': 'etowah', 'PhoneNumber': '2564944000', 'HospitalType': 'acute care hospitals', 'HospitalOwner': 'proprietary', 'EmergencyService': 'yes', 'Condition': 'heart attack', 'MeasureCode': 'ami-1', 'MeasureName': 'heart attack patients given aspirin at arrival', 'Score': '94%', 'Sample': '123 patients', 'Stateavg': 'al_ami-1'}\n",
            "Correct repair found at index 814\n",
            "Key: HospitalType\n",
            "Dirty row: {'ProviderNumber': '10040', 'HospitalName': 'gadsden regional medical center', 'Address1': '1007 goodyear avenue', 'Address2': '', 'Address3': '', 'City': 'gadsden', 'State': 'al', 'ZipCode': '35903', 'CountyName': 'etowah', 'PhoneNumber': '2564944000', 'HospitalType': 'axute care hospitals', 'HospitalOwner': 'proprietary', 'EmergencyService': 'yes', 'Condition': 'pneumonia', 'MeasureCode': 'pn-3b', 'MeasureName': 'pneumonia patients whose initial emergency room blood culture was performed prior to the administration of the first hospital dose of antibiotics', 'Score': '96%', 'Sample': '187 patients', 'Stateavg': 'al_pn-3b'}\n",
            "Clean row: {'ProviderNumber': '10040', 'HospitalName': 'gadsden regional medical center', 'Address1': '1007 goodyear avenue', 'Address2': '', 'Address3': '', 'City': 'gadsden', 'State': 'al', 'ZipCode': '35903', 'CountyName': 'etowah', 'PhoneNumber': '2564944000', 'HospitalType': 'acute care hospitals', 'HospitalOwner': 'proprietary', 'EmergencyService': 'yes', 'Condition': 'pneumonia', 'MeasureCode': 'pn-3b', 'MeasureName': 'pneumonia patients whose initial emergency room blood culture was performed prior to the administration of the first hospital dose of antibiotics', 'Score': '96%', 'Sample': '187 patients', 'Stateavg': 'al_pn-3b'}\n",
            "Preprocessed row: {'ProviderNumber': '10040', 'HospitalName': 'gadsden regional medical center', 'Address1': '1007 goodyear avenue', 'Address2': '', 'Address3': '', 'City': 'gadsden', 'State': 'al', 'ZipCode': '35903', 'CountyName': 'etowah', 'PhoneNumber': '2564944000', 'HospitalType': 'acute care hospitals', 'HospitalOwner': 'government', 'EmergencyService': 'yes', 'Condition': 'pneumonia', 'MeasureCode': 'pn-3b', 'MeasureName': 'pneumonia patients whose initial emergency room blood culture was performed prior to the administration of the first hospital dose of antibiotics', 'Score': '96%', 'Sample': '187 patients'}\n",
            "Correct repair found at index 821\n",
            "Key: City\n",
            "Dirty row: {'ProviderNumber': '10040', 'HospitalName': 'gadsden regional medical center', 'Address1': '1007 goodyear avenue', 'Address2': '', 'Address3': '', 'City': 'gxdsden', 'State': 'al', 'ZipCode': '35903', 'CountyName': 'etowah', 'PhoneNumber': '2564944000', 'HospitalType': 'acute care hospitals', 'HospitalOwner': 'proprietary', 'EmergencyService': 'yes', 'Condition': 'surgical infection prevention', 'MeasureCode': 'scip-inf-2', 'MeasureName': 'surgery patients who were given the  right kind  of antibiotic to help prevent infection', 'Score': '97%', 'Sample': '564 patients', 'Stateavg': 'al_scip-inf-2'}\n",
            "Clean row: {'ProviderNumber': '10040', 'HospitalName': 'gadsden regional medical center', 'Address1': '1007 goodyear avenue', 'Address2': '', 'Address3': '', 'City': 'gadsden', 'State': 'al', 'ZipCode': '35903', 'CountyName': 'etowah', 'PhoneNumber': '2564944000', 'HospitalType': 'acute care hospitals', 'HospitalOwner': 'proprietary', 'EmergencyService': 'yes', 'Condition': 'surgical infection prevention', 'MeasureCode': 'scip-inf-2', 'MeasureName': 'surgery patients who were given the  right kind  of antibiotic to help prevent infection', 'Score': '97%', 'Sample': '564 patients', 'Stateavg': 'al_scip-inf-2'}\n",
            "Preprocessed row: {'ProviderNumber': '10040', 'HospitalName': 'gadsden regional medical center', 'Address1': '1007 goodyear avenue', 'Address2': '', 'Address3': '', 'City': 'gadsden', 'State': 'al', 'ZipCode': '35903', 'CountyName': 'etowah', 'PhoneNumber': '2564944000', 'HospitalType': 'acute care hospitals', 'HospitalOwner': 'proprietary', 'EmergencyService': 'yes', 'Condition': 'surgical infection prevention', 'MeasureCode': 'scip-inf-2', 'MeasureName': 'surgery patients who were given the right kind of antibiotic to help prevent infection', 'Score': '97%', 'Sample': '564 patients'}\n",
            "Correct repair found at index 845\n",
            "Key: Sample\n",
            "Dirty row: {'ProviderNumber': '10043', 'HospitalName': 'chilton medical center', 'Address1': '1010 lay dam road', 'Address2': '', 'Address3': '', 'City': 'clanton', 'State': 'al', 'ZipCode': '35045', 'CountyName': 'chilton', 'PhoneNumber': '2057552500', 'HospitalType': 'acute care hospitals', 'HospitalOwner': 'voluntary non-profit - private', 'EmergencyService': 'yes', 'Condition': 'surgical infection prevention', 'MeasureCode': 'scip-inf-1', 'MeasureName': 'surgery patients who were given an antibiotic at the right time (within one hour before surgery) to help prevent infection', 'Score': '100%', 'Sample': '4 patiexts', 'Stateavg': 'al_scip-inf-1'}\n",
            "Clean row: {'ProviderNumber': '10043', 'HospitalName': 'chilton medical center', 'Address1': '1010 lay dam road', 'Address2': '', 'Address3': '', 'City': 'clanton', 'State': 'al', 'ZipCode': '35045', 'CountyName': 'chilton', 'PhoneNumber': '2057552500', 'HospitalType': 'acute care hospitals', 'HospitalOwner': 'voluntary non-profit - private', 'EmergencyService': 'yes', 'Condition': 'surgical infection prevention', 'MeasureCode': 'scip-inf-1', 'MeasureName': 'surgery patients who were given an antibiotic at the right time (within one hour before surgery) to help prevent infection', 'Score': '100%', 'Sample': '4 patients', 'Stateavg': 'al_scip-inf-1'}\n",
            "Preprocessed row: {'ProviderNumber': '10043', 'HospitalName': 'chilton medical center', 'Address1': '1010 lay dam road', 'Address2': '', 'Address3': '', 'City': 'clanton', 'State': 'al', 'ZipCode': '35045', 'CountyName': 'chilton', 'PhoneNumber': '2057552500', 'HospitalType': 'acute care hospitals', 'HospitalOwner': 'voluntary non-profit - private', 'EmergencyService': 'yes', 'Condition': 'surgical infection prevention', 'MeasureCode': 'scip-inf-1', 'MeasureName': 'surgery patients who were given an antibiotic at the right time (within one hour before surgery) to help prevent infection', 'Score': '100', 'Sample': '4 patients', 'Stateavg': 'al_scip-inf-1'}\n",
            "Correct repair found at index 848\n",
            "Key: HospitalType\n",
            "Dirty row: {'ProviderNumber': '10043', 'HospitalName': 'chilton medical center', 'Address1': '1010 lay dam road', 'Address2': '', 'Address3': '', 'City': 'clanton', 'State': 'al', 'ZipCode': '35045', 'CountyName': 'chilton', 'PhoneNumber': '2057552500', 'HospitalType': 'acute caxe hospitals', 'HospitalOwner': 'voluntary non-profit - private', 'EmergencyService': 'yes', 'Condition': 'surgical infection prevention', 'MeasureCode': 'scip-inf-4', 'MeasureName': 'all heart surgery patients whose blood sugar (blood glucose) is kept under good control in the days right after surgery', 'Score': '', 'Sample': '0 patients', 'Stateavg': 'al_scip-inf-4'}\n",
            "Clean row: {'ProviderNumber': '10043', 'HospitalName': 'chilton medical center', 'Address1': '1010 lay dam road', 'Address2': '', 'Address3': '', 'City': 'clanton', 'State': 'al', 'ZipCode': '35045', 'CountyName': 'chilton', 'PhoneNumber': '2057552500', 'HospitalType': 'acute care hospitals', 'HospitalOwner': 'voluntary non-profit - private', 'EmergencyService': 'yes', 'Condition': 'surgical infection prevention', 'MeasureCode': 'scip-inf-4', 'MeasureName': 'all heart surgery patients whose blood sugar (blood glucose) is kept under good control in the days right after surgery', 'Score': '', 'Sample': '0 patients', 'Stateavg': 'al_scip-inf-4'}\n",
            "Preprocessed row: {'ProviderNumber': '10043', 'HospitalName': 'chilton medical center', 'Address1': '1010 lay dam road', 'Address2': '', 'Address3': '', 'City': 'clanton', 'State': 'al', 'ZipCode': '35045', 'CountyName': 'chilton', 'PhoneNumber': '2057552500', 'HospitalType': 'acute care hospitals', 'HospitalOwner': 'voluntary non-profit - private', 'EmergencyService': 'yes', 'Condition': 'surgical infection prevention', 'MeasureCode': 'scip-inf-4', 'MeasureName': 'all heart surgery patients whose blood sugar (blood glucose) is kept under good control in the days right after surgery', 'Score': '', 'Sample': '0 patients', 'Stateavg': 'al_scip-inf-4'}\n",
            "Correct repair found at index 851\n",
            "Key: Condition\n",
            "Dirty row: {'ProviderNumber': '10043', 'HospitalName': 'chilton medical center', 'Address1': '1010 lay dam road', 'Address2': '', 'Address3': '', 'City': 'clanton', 'State': 'al', 'ZipCode': '35045', 'CountyName': 'chilton', 'PhoneNumber': '2057552500', 'HospitalType': 'acute care hospitals', 'HospitalOwner': 'voluntary non-profit - private', 'EmergencyService': 'yes', 'Condition': 'surgical infxction prxvxntion', 'MeasureCode': 'scip-vte-2', 'MeasureName': 'patients who got treatment  at the right time (within 24 hours before or after their surgery) to help prevent blood clots after certain types of surgery', 'Score': '', 'Sample': '0 patients', 'Stateavg': 'al_scip-vte-2'}\n",
            "Clean row: {'ProviderNumber': '10043', 'HospitalName': 'chilton medical center', 'Address1': '1010 lay dam road', 'Address2': '', 'Address3': '', 'City': 'clanton', 'State': 'al', 'ZipCode': '35045', 'CountyName': 'chilton', 'PhoneNumber': '2057552500', 'HospitalType': 'acute care hospitals', 'HospitalOwner': 'voluntary non-profit - private', 'EmergencyService': 'yes', 'Condition': 'surgical infection prevention', 'MeasureCode': 'scip-vte-2', 'MeasureName': 'patients who got treatment  at the right time (within 24 hours before or after their surgery) to help prevent blood clots after certain types of surgery', 'Score': '', 'Sample': '0 patients', 'Stateavg': 'al_scip-vte-2'}\n",
            "Preprocessed row: {'ProviderNumber': '10043', 'HospitalName': 'chilton medical center', 'Address1': '1010 lay dam road', 'Address2': '', 'Address3': '', 'City': 'clanton', 'State': 'al', 'ZipCode': '35045', 'CountyName': 'chilton', 'PhoneNumber': '2057552500', 'HospitalType': 'acute care hospitals', 'HospitalOwner': 'voluntary non-profit - private', 'EmergencyService': 'yes', 'Condition': 'surgical infection prevention', 'MeasureCode': 'scip-vte-2', 'MeasureName': 'patients who got treatment at the right time (within 24 hours before or after their surgery) to help prevent blood clots after certain types of surgery', 'Score': '', 'Sample': '0 patients', 'Stateavg': 'al_scip-vte-2'}\n",
            "Correct repair found at index 866\n",
            "Key: Sample\n",
            "Dirty row: {'ProviderNumber': '10044', 'HospitalName': 'marion regional medical center', 'Address1': '1256 military street south', 'Address2': '', 'Address3': '', 'City': 'hamilton', 'State': 'al', 'ZipCode': '35570', 'CountyName': 'marion', 'PhoneNumber': '2059216200', 'HospitalType': 'acute care hospitals', 'HospitalOwner': 'voluntary non-profit - private', 'EmergencyService': 'yxs', 'Condition': 'pneumonia', 'MeasureCode': 'pn-5c', 'MeasureName': 'pneumonia patients given initial antibiotic(s) within 6 hours after arrival', 'Score': '98%', 'Sample': '121 patiexts', 'Stateavg': 'al_pn-5c'}\n",
            "Clean row: {'ProviderNumber': '10044', 'HospitalName': 'marion regional medical center', 'Address1': '1256 military street south', 'Address2': '', 'Address3': '', 'City': 'hamilton', 'State': 'al', 'ZipCode': '35570', 'CountyName': 'marion', 'PhoneNumber': '2059216200', 'HospitalType': 'acute care hospitals', 'HospitalOwner': 'voluntary non-profit - private', 'EmergencyService': 'yes', 'Condition': 'pneumonia', 'MeasureCode': 'pn-5c', 'MeasureName': 'pneumonia patients given initial antibiotic(s) within 6 hours after arrival', 'Score': '98%', 'Sample': '121 patients', 'Stateavg': 'al_pn-5c'}\n",
            "Preprocessed row: {'ProviderNumber': '10044', 'HospitalName': 'marion regional medical center', 'Address1': '1256 military street south', 'Address2': '', 'Address3': '', 'City': 'hamilton', 'State': 'al', 'ZipCode': '35570', 'CountyName': 'marion', 'PhoneNumber': '2059216200', 'HospitalType': 'acute care hospitals', 'HospitalOwner': 'voluntary non-profit - private', 'EmergencyService': 'yxs', 'Condition': 'pneumonia', 'MeasureCode': 'pn-5c', 'MeasureName': 'pneumonia patients given initial antibiotic(s) within 6 hours after arrival', 'Score': '98%', 'Sample': '121 patients'}\n",
            "Correct repair found at index 872\n",
            "Key: Sample\n",
            "Dirty row: {'ProviderNumber': '10044', 'HospitalName': 'marion regional medical center', 'Address1': '1256 military street south', 'Address2': '', 'Address3': '', 'City': 'hamilton', 'State': 'al', 'ZipCode': '35570', 'CountyName': 'marion', 'PhoneNumber': '2059216200', 'HospitalType': 'acute care hospitals', 'HospitalOwner': 'voluntaxy non-pxofit - pxivate', 'EmergencyService': 'yes', 'Condition': 'surgical infection prevention', 'MeasureCode': 'scip-inf-3', 'MeasureName': 'surgery patients whose preventive antibiotics were stopped at the right time (within 24 hours after surgery)', 'Score': '87%', 'Sample': '15 patiexts', 'Stateavg': 'al_scip-inf-3'}\n",
            "Clean row: {'ProviderNumber': '10044', 'HospitalName': 'marion regional medical center', 'Address1': '1256 military street south', 'Address2': '', 'Address3': '', 'City': 'hamilton', 'State': 'al', 'ZipCode': '35570', 'CountyName': 'marion', 'PhoneNumber': '2059216200', 'HospitalType': 'acute care hospitals', 'HospitalOwner': 'voluntary non-profit - private', 'EmergencyService': 'yes', 'Condition': 'surgical infection prevention', 'MeasureCode': 'scip-inf-3', 'MeasureName': 'surgery patients whose preventive antibiotics were stopped at the right time (within 24 hours after surgery)', 'Score': '87%', 'Sample': '15 patients', 'Stateavg': 'al_scip-inf-3'}\n",
            "Preprocessed row: {'ProviderNumber': '10044', 'HospitalName': 'marion regional medical center', 'Address1': '1256 military street south', 'City': 'hamilton', 'State': 'al', 'ZipCode': '35570', 'CountyName': 'marion', 'PhoneNumber': '2059216200', 'HospitalType': 'acute care hospitals', 'HospitalOwner': 'voluntaxy non-pxofit - pxivate', 'EmergencyService': 'yes', 'Condition': 'surgical infection prevention', 'MeasureCode': 'scip-inf-3', 'MeasureName': 'surgery patients whose preventive antibiotics were stopped at the right time (within 24 hours after surgery)', 'Score': '87%', 'Sample': '15 patients'}\n",
            "Correct repair found at index 905\n",
            "Key: Sample\n",
            "Dirty row: {'ProviderNumber': '10046', 'HospitalName': 'riverview regional medical center', 'Address1': '600 south third street', 'Address2': '', 'Address3': '', 'City': 'gadsden', 'State': 'al', 'ZipCode': '35901', 'CountyName': 'etowah', 'PhoneNumber': '2565435200', 'HospitalType': 'acute care hospitals', 'HospitalOwner': 'proprietary', 'EmergencyService': 'yes', 'Condition': 'heart attack', 'MeasureCode': 'ami-1', 'MeasureName': 'heart attack patients given aspirin at arrival', 'Score': '100%', 'Sample': '126 patxents', 'Stateavg': 'al_ami-1'}\n",
            "Clean row: {'ProviderNumber': '10046', 'HospitalName': 'riverview regional medical center', 'Address1': '600 south third street', 'Address2': '', 'Address3': '', 'City': 'gadsden', 'State': 'al', 'ZipCode': '35901', 'CountyName': 'etowah', 'PhoneNumber': '2565435200', 'HospitalType': 'acute care hospitals', 'HospitalOwner': 'proprietary', 'EmergencyService': 'yes', 'Condition': 'heart attack', 'MeasureCode': 'ami-1', 'MeasureName': 'heart attack patients given aspirin at arrival', 'Score': '100%', 'Sample': '126 patients', 'Stateavg': 'al_ami-1'}\n",
            "Preprocessed row: {'ProviderNumber': '10046', 'HospitalName': 'riverview regional medical center', 'Address1': '600 south third street', 'Address2': '', 'Address3': '', 'City': 'gadsden', 'State': 'al', 'ZipCode': '35901', 'CountyName': 'etowah', 'PhoneNumber': '2565435200', 'HospitalType': 'acute care hospitals', 'HospitalOwner': 'proprietary', 'EmergencyService': 'yes', 'Condition': 'heart attack', 'MeasureCode': 'ami-1', 'MeasureName': 'heart attack patients given aspirin at arrival', 'Score': '100%', 'Sample': '126 patients', 'Stateavg': 'al_ami-1'}\n",
            "Correct repair found at index 923\n",
            "Key: ZipCode\n",
            "Dirty row: {'ProviderNumber': '10046', 'HospitalName': 'riverview regional medical center', 'Address1': '600 south third street', 'Address2': '', 'Address3': '', 'City': 'gadsden', 'State': 'al', 'ZipCode': '3590x', 'CountyName': 'etowah', 'PhoneNumber': '2565435200', 'HospitalType': 'acute care hospitals', 'HospitalOwner': 'proprietary', 'EmergencyService': 'yes', 'Condition': 'surgical infection prevention', 'MeasureCode': 'scip-inf-1', 'MeasureName': 'surgery patients who were given an antibiotic at the right time (within one hour before surgery) to help prevent infection', 'Score': '95%', 'Sample': '402 patients', 'Stateavg': 'al_scip-inf-1'}\n",
            "Clean row: {'ProviderNumber': '10046', 'HospitalName': 'riverview regional medical center', 'Address1': '600 south third street', 'Address2': '', 'Address3': '', 'City': 'gadsden', 'State': 'al', 'ZipCode': '35901', 'CountyName': 'etowah', 'PhoneNumber': '2565435200', 'HospitalType': 'acute care hospitals', 'HospitalOwner': 'proprietary', 'EmergencyService': 'yes', 'Condition': 'surgical infection prevention', 'MeasureCode': 'scip-inf-1', 'MeasureName': 'surgery patients who were given an antibiotic at the right time (within one hour before surgery) to help prevent infection', 'Score': '95%', 'Sample': '402 patients', 'Stateavg': 'al_scip-inf-1'}\n",
            "Preprocessed row: {'ProviderNumber': '10046', 'HospitalName': 'riverview regional medical center', 'Address1': '600 south third street', 'City': 'gadsden', 'State': 'al', 'ZipCode': '35901', 'CountyName': 'etowah', 'PhoneNumber': '2565435200', 'HospitalType': 'acute care hospitals', 'HospitalOwner': 'proprietary', 'EmergencyService': 'yes', 'Condition': 'surgical infection prevention', 'MeasureCode': 'scip-inf-1', 'MeasureName': 'surgery patients who were given an antibiotic at the right time (within one hour before surgery) to help prevent infection', 'Score': '95%', 'Sample': '402 patients', 'Stateavg': 'al_scip-inf-1'}\n",
            "Correct repair found at index 949\n",
            "Key: HospitalType\n",
            "Dirty row: {'ProviderNumber': '10047', 'HospitalName': 'georgiana hospital', 'Address1': '515 miranda st', 'Address2': '', 'Address3': '', 'City': 'geoxgiana', 'State': 'al', 'ZipCode': '36033', 'CountyName': 'butler', 'PhoneNumber': '3343762205', 'HospitalType': 'acute care hosxitals', 'HospitalOwner': 'voluntary non-profit - private', 'EmergencyService': 'no', 'Condition': 'surgical infection prevention', 'MeasureCode': 'scip-inf-2', 'MeasureName': 'surgery patients who were given the  right kind  of antibiotic to help prevent infection', 'Score': '', 'Sample': '', 'Stateavg': 'al_scip-inf-2'}\n",
            "Clean row: {'ProviderNumber': '10047', 'HospitalName': 'georgiana hospital', 'Address1': '515 miranda st', 'Address2': '', 'Address3': '', 'City': 'georgiana', 'State': 'al', 'ZipCode': '36033', 'CountyName': 'butler', 'PhoneNumber': '3343762205', 'HospitalType': 'acute care hospitals', 'HospitalOwner': 'voluntary non-profit - private', 'EmergencyService': 'no', 'Condition': 'surgical infection prevention', 'MeasureCode': 'scip-inf-2', 'MeasureName': 'surgery patients who were given the  right kind  of antibiotic to help prevent infection', 'Score': '', 'Sample': '', 'Stateavg': 'al_scip-inf-2'}\n",
            "Preprocessed row: {'ProviderNumber': '10047', 'HospitalName': 'georgiana hospital', 'Address1': '515 miranda st', 'City': 'geoxgiana', 'State': 'al', 'ZipCode': '36033', 'CountyName': 'butler', 'PhoneNumber': '3343762205', 'HospitalType': 'acute care hospitals', 'HospitalOwner': 'voluntary non-profit - private', 'EmergencyService': 'no', 'Condition': 'surgical infection prevention', 'MeasureCode': 'scip-inf-2', 'Score': '', 'Sample': ''}\n",
            "Correct repair found at index 955\n",
            "Key: Condition\n",
            "Dirty row: {'ProviderNumber': '1004x', 'HospitalName': 'medical center enterprise', 'Address1': '400 n edwards street', 'Address2': '', 'Address3': '', 'City': 'enterprise', 'State': 'al', 'ZipCode': '36330', 'CountyName': 'coffee', 'PhoneNumber': '3343470584', 'HospitalType': 'acute care hospitals', 'HospitalOwner': 'proprietary', 'EmergencyService': 'yes', 'Condition': 'hexrt attxck', 'MeasureCode': 'ami-1', 'MeasureName': 'heart attack patients given aspirin at arrival', 'Score': '100%', 'Sample': '4 patients', 'Stateavg': 'al_ami-1'}\n",
            "Clean row: {'ProviderNumber': '10049', 'HospitalName': 'medical center enterprise', 'Address1': '400 n edwards street', 'Address2': '', 'Address3': '', 'City': 'enterprise', 'State': 'al', 'ZipCode': '36330', 'CountyName': 'coffee', 'PhoneNumber': '3343470584', 'HospitalType': 'acute care hospitals', 'HospitalOwner': 'proprietary', 'EmergencyService': 'yes', 'Condition': 'heart attack', 'MeasureCode': 'ami-1', 'MeasureName': 'heart attack patients given aspirin at arrival', 'Score': '100%', 'Sample': '4 patients', 'Stateavg': 'al_ami-1'}\n",
            "Preprocessed row: {'ProviderNumber': '1004x', 'HospitalName': 'medical center enterprise', 'Address1': '400 n edwards street', 'Address2': '', 'Address3': '', 'City': 'enterprise', 'State': 'al', 'ZipCode': '36330', 'CountyName': 'coffee', 'PhoneNumber': '3343470584', 'HospitalType': 'acute care hospitals', 'HospitalOwner': 'proprietary', 'EmergencyService': 'yes', 'Condition': 'heart attack', 'MeasureCode': 'ami-1', 'MeasureName': 'heart attack patients given aspirin at arrival', 'Score': '100%', 'Sample': '4 patients'}\n",
            "Correct repair found at index 972\n",
            "Key: Sample\n",
            "Dirty row: {'ProviderNumber': '10049', 'HospitalName': 'medical center enterprise', 'Address1': '400 n edwards street', 'Address2': '', 'Address3': '', 'City': 'enterprise', 'State': 'al', 'ZipCode': '36330', 'CountyName': 'coffee', 'PhoneNumber': '3343470584', 'HospitalType': 'acute care hospitals', 'HospitalOwner': 'proprietary', 'EmergencyService': 'yes', 'Condition': 'surgical infection prevention', 'MeasureCode': 'scip-card-2', 'MeasureName': 'surgery patients who were taking heart drugs called beta blockers before coming to the hospital who were kept on the beta blockers during the period just before and after their surgery', 'Score': '100%', 'Sample': '27 paxienxs', 'Stateavg': 'al_scip-card-2'}\n",
            "Clean row: {'ProviderNumber': '10049', 'HospitalName': 'medical center enterprise', 'Address1': '400 n edwards street', 'Address2': '', 'Address3': '', 'City': 'enterprise', 'State': 'al', 'ZipCode': '36330', 'CountyName': 'coffee', 'PhoneNumber': '3343470584', 'HospitalType': 'acute care hospitals', 'HospitalOwner': 'proprietary', 'EmergencyService': 'yes', 'Condition': 'surgical infection prevention', 'MeasureCode': 'scip-card-2', 'MeasureName': 'surgery patients who were taking heart drugs called beta blockers before coming to the hospital who were kept on the beta blockers during the period just before and after their surgery', 'Score': '100%', 'Sample': '27 patients', 'Stateavg': 'al_scip-card-2'}\n",
            "Preprocessed row: {'ProviderNumber': '10049', 'HospitalName': 'medical center enterprise', 'Address1': '400 n edwards street', 'Address2': '', 'Address3': '', 'City': 'enterprise', 'State': 'al', 'ZipCode': '36330', 'CountyName': 'coffee', 'PhoneNumber': '3343470584', 'HospitalType': 'acute care hospitals', 'HospitalOwner': 'proprietary', 'EmergencyService': 'yes', 'Condition': 'surgical infection prevention', 'MeasureCode': 'scip-card-2', 'Score': '100%', 'Sample': '27 patients'}\n",
            "Correct repair found at index 974\n",
            "Key: Condition\n",
            "Dirty row: {'ProviderNumber': '10049', 'HospitalName': 'medical center enterprise', 'Address1': '400 n edwards street', 'Address2': '', 'Address3': '', 'City': 'enterprise', 'State': 'al', 'ZipCode': '36330', 'CountyName': 'coffee', 'PhoneNumber': '3343470584', 'HospitalType': 'acute care hospitals', 'HospitalOwner': 'proprietary', 'EmergencyService': 'yes', 'Condition': 'surgical xnfection prevention', 'MeasureCode': 'scip-inf-2', 'MeasureName': 'surgery patients who were given the  right kind  of antibiotic to help prevent infection', 'Score': '100%', 'Sample': '399 patients', 'Stateavg': 'al_scip-inf-2'}\n",
            "Clean row: {'ProviderNumber': '10049', 'HospitalName': 'medical center enterprise', 'Address1': '400 n edwards street', 'Address2': '', 'Address3': '', 'City': 'enterprise', 'State': 'al', 'ZipCode': '36330', 'CountyName': 'coffee', 'PhoneNumber': '3343470584', 'HospitalType': 'acute care hospitals', 'HospitalOwner': 'proprietary', 'EmergencyService': 'yes', 'Condition': 'surgical infection prevention', 'MeasureCode': 'scip-inf-2', 'MeasureName': 'surgery patients who were given the  right kind  of antibiotic to help prevent infection', 'Score': '100%', 'Sample': '399 patients', 'Stateavg': 'al_scip-inf-2'}\n",
            "Preprocessed row: {'ProviderNumber': '10049', 'HospitalName': 'medical center enterprise', 'Address1': '400 n edwards street', 'Address2': '', 'Address3': '', 'City': 'enterprise', 'State': 'al', 'ZipCode': '36330', 'CountyName': 'coffee', 'PhoneNumber': '3343470584', 'HospitalType': 'acute care hospitals', 'HospitalOwner': 'proprietary', 'EmergencyService': 'yes', 'Condition': 'surgical infection prevention', 'MeasureCode': 'scip-inf-2', 'MeasureName': 'surgery patients who were given the right kind of antibiotic to help prevent infection', 'Score': '100%', 'Sample': '399 patients', 'Stateavg': 'al_scip-inf-2'}\n",
            "Number of errors: 509\n",
            "Repairs performed: 1184\n",
            "Correct repairs: 71\n",
            "Detected errors: 168\n",
            "Precision: 0.059966216216216214\n",
            "Recall: 0.13948919449901767\n",
            "Percentage of errors detected: 0.3300589390962672\n",
            "F1 Score: 0.08387477849970466\n"
          ]
        }
      ],
      "source": [
        "evaluate(dirty_dict, clean_dict, preprocessed_dict)"
      ]
    },
    {
      "cell_type": "code",
      "execution_count": null,
      "metadata": {
        "id": "3xoWNJ9dOFGz"
      },
      "outputs": [],
      "source": [
        "np.save('/content/hospital_preprocessed_dict.npy', preprocessed_dict)"
      ]
    },
    {
      "cell_type": "markdown",
      "metadata": {
        "id": "wDzcTlTpDjsV"
      },
      "source": [
        "## Hospital (Few-shot on City)"
      ]
    },
    {
      "cell_type": "code",
      "execution_count": null,
      "metadata": {
        "id": "YjFy7a8sHdEd"
      },
      "outputs": [],
      "source": [
        "# Only use this code block if you are using Google Colab.\n",
        "# If you are using Jupyter Notebook, please ignore this code block. You can directly upload the file to your Jupyter Notebook file systems.\n",
        "from google.colab import files\n",
        "\n",
        "## It will prompt you to select a local file. Click on “Choose Files” then select and upload the file.\n",
        "## Wait for the file to be 100% uploaded. You should see the name of the file once Colab has uploaded it.\n",
        "\n",
        "# Upload hospital_preprocessed_dict.npy if you need to.\n",
        "uploaded = files.upload()"
      ]
    },
    {
      "cell_type": "code",
      "execution_count": null,
      "metadata": {
        "colab": {
          "base_uri": "https://localhost:8080/"
        },
        "id": "SJa7ssWKDqC1",
        "outputId": "1f71751c-398a-4a3d-c531-3283c6a81e6d"
      },
      "outputs": [
        {
          "name": "stdout",
          "output_type": "stream",
          "text": [
            "2024-04-29 04:10:57.766952-05:00\n"
          ]
        }
      ],
      "source": [
        "print(datetime.now(timezone(current_timezone)))"
      ]
    },
    {
      "cell_type": "code",
      "execution_count": null,
      "metadata": {
        "id": "m2I9AmOmDru7"
      },
      "outputs": [],
      "source": [
        "dirty_dict = transfer_csv_to_dict('/content/data_clean_datasets/datasets/hospital/hospital_dirty.csv')\n",
        "clean_dict = transfer_csv_to_dict('/content/data_clean_datasets/datasets/hospital/hospital_clean_rows.csv')\n",
        "preprocessed_dict_selected = []\n",
        "selected_keys = ['HospitalName', 'Address1', 'City', 'State', 'ZipCode', 'CountyName']\n",
        "attribute_name = 'City'"
      ]
    },
    {
      "cell_type": "code",
      "execution_count": null,
      "metadata": {
        "colab": {
          "base_uri": "https://localhost:8080/"
        },
        "id": "wUsVHcwfDtzE",
        "outputId": "9fd5d37c-37c1-406d-bd86-8463641ff900"
      },
      "outputs": [
        {
          "name": "stdout",
          "output_type": "stream",
          "text": [
            "0 2024-04-29 04:11:16.270671-05:00\n",
            "50 2024-04-29 04:25:14.275911-05:00\n",
            "100 2024-04-29 04:38:47.655431-05:00\n",
            "150 2024-04-29 04:50:37.647026-05:00\n",
            "200 2024-04-29 05:03:58.340658-05:00\n",
            "250 2024-04-29 05:17:59.213628-05:00\n",
            "300 2024-04-29 05:31:53.756526-05:00\n",
            "350 2024-04-29 05:43:38.269615-05:00\n",
            "400 2024-04-29 05:57:33.012667-05:00\n",
            "450 2024-04-29 06:11:24.825664-05:00\n",
            "500 2024-04-29 06:23:30.671584-05:00\n",
            "550 2024-04-29 06:36:20.159043-05:00\n",
            "600 2024-04-29 06:48:50.288443-05:00\n",
            "650 2024-04-29 07:01:00.729594-05:00\n",
            "700 2024-04-29 07:13:19.464592-05:00\n",
            "750 2024-04-29 07:25:19.760747-05:00\n",
            "800 2024-04-29 07:38:39.895862-05:00\n",
            "850 2024-04-29 07:50:52.507701-05:00\n",
            "900 2024-04-29 08:03:16.993523-05:00\n",
            "950 2024-04-29 08:16:12.745019-05:00\n"
          ]
        }
      ],
      "source": [
        "for i in range(len(dirty_dict)):\n",
        "  preprocessed_dict_selected.append(preprocessing_few_shot('Hospital', dirty_dict[i], selected_keys, attribute_name, i))\n",
        "  if i % 50 == 0:\n",
        "    print(i, datetime.now(timezone(current_timezone)))"
      ]
    },
    {
      "cell_type": "code",
      "execution_count": null,
      "metadata": {
        "colab": {
          "base_uri": "https://localhost:8080/"
        },
        "id": "EpKqTu8lElhp",
        "outputId": "3d715adc-07a0-4f14-cb8e-2f9a6e91e32f"
      },
      "outputs": [
        {
          "name": "stdout",
          "output_type": "stream",
          "text": [
            "2024-04-29 08:28:18.495951-05:00\n"
          ]
        }
      ],
      "source": [
        "print(datetime.now(timezone(current_timezone)))"
      ]
    },
    {
      "cell_type": "code",
      "execution_count": null,
      "metadata": {
        "id": "k3Imw9QdE-Nt"
      },
      "outputs": [],
      "source": [
        "preprocessed_dict = np.load('/content/hospital_preprocessed_dict.npy', allow_pickle=True).tolist()\n",
        "for i in range(len(preprocessed_dict)):\n",
        "  if 'City' in preprocessed_dict_selected[i]:\n",
        "    preprocessed_dict[i]['City'] = preprocessed_dict_selected[i]['City']"
      ]
    },
    {
      "cell_type": "code",
      "execution_count": null,
      "metadata": {
        "colab": {
          "base_uri": "https://localhost:8080/"
        },
        "id": "39fKRJ9NEl1j",
        "outputId": "d84be68e-79e7-4709-c521-ee6a63e0fadd"
      },
      "outputs": [
        {
          "name": "stdout",
          "output_type": "stream",
          "text": [
            "Wrong repair found at index 0\n",
            "Key: PhoneNumber\n",
            "Dirty row: {'ProviderNumber': '10018', 'HospitalName': 'callahan eye foundation hospital', 'Address1': '1720 university blvd', 'Address2': '', 'Address3': '', 'City': 'birmingham', 'State': 'al', 'ZipCode': '35233', 'CountyName': 'jefferson', 'PhoneNumber': '2053258100', 'HospitalType': 'acute care hospitals', 'HospitalOwner': 'voluntary non-profit - private', 'EmergencyService': 'yes', 'Condition': 'surgical infection prevention', 'MeasureCode': 'scip-card-2', 'MeasureName': 'surgery patients who were taking heart drugs caxxed beta bxockers before coming to the hospitax who were kept on the beta bxockers during the period just before and after their surgery', 'Score': '', 'Sample': '', 'Stateavg': 'al_scip-card-2'}\n",
            "Clean row: {'ProviderNumber': '10018', 'HospitalName': 'callahan eye foundation hospital', 'Address1': '1720 university blvd', 'Address2': '', 'Address3': '', 'City': 'birmingham', 'State': 'al', 'ZipCode': '35233', 'CountyName': 'jefferson', 'PhoneNumber': '2053258100', 'HospitalType': 'acute care hospitals', 'HospitalOwner': 'voluntary non-profit - private', 'EmergencyService': 'yes', 'Condition': 'surgical infection prevention', 'MeasureCode': 'scip-card-2', 'MeasureName': 'surgery patients who were taking heart drugs called beta blockers before coming to the hospital who were kept on the beta blockers during the period just before and after their surgery', 'Score': '', 'Sample': '', 'Stateavg': 'al_scip-card-2'}\n",
            "Preprocessed row: {'ProviderNumber': '10018', 'HospitalName': 'callahan eye foundation hospital', 'Address1': '1720 university blvd', 'Address2': '', 'Address3': '', 'City': 'birmingham', 'State': 'al', 'ZipCode': '35233', 'CountyName': 'jefferson', 'PhoneNumber': '20532608100', 'HospitalType': 'acute care hospitals', 'HospitalOwner': 'voluntary non-profit - private', 'EmergencyService': 'yes', 'Condition': 'surgical infection prevention', 'MeasureCode': 'scip-card-2', 'MeasureName': 'surgery patients who were taking heart drugs caxxed beta bxockers before coming to the hospital and were kept on the beta bxockers during the period just before and after their surgery', 'Score': '', 'Sample': ''}\n",
            "Not performed repair found at index 3\n",
            "Key: City\n",
            "Dirty row: {'ProviderNumber': '10018', 'HospitalName': 'callahan eye foundation hospital', 'Address1': '1720 university blvd', 'Address2': '', 'Address3': '', 'City': 'birminghxm', 'State': 'al', 'ZipCode': '35233', 'CountyName': 'jefferson', 'PhoneNumber': '2053258100', 'HospitalType': 'acute care hospitals', 'HospitalOwner': 'voluntary non-profit - private', 'EmergencyService': 'yes', 'Condition': 'surgical infection prevention', 'MeasureCode': 'scip-inf-3', 'MeasureName': 'surgery patients whose preventive antibiotics were stopped at the right time (within 24 hours after surgery)', 'Score': '', 'Sample': '', 'Stateavg': 'al_scip-inf-3'}\n",
            "Clean row: {'ProviderNumber': '10018', 'HospitalName': 'callahan eye foundation hospital', 'Address1': '1720 university blvd', 'Address2': '', 'Address3': '', 'City': 'birmingham', 'State': 'al', 'ZipCode': '35233', 'CountyName': 'jefferson', 'PhoneNumber': '2053258100', 'HospitalType': 'acute care hospitals', 'HospitalOwner': 'voluntary non-profit - private', 'EmergencyService': 'yes', 'Condition': 'surgical infection prevention', 'MeasureCode': 'scip-inf-3', 'MeasureName': 'surgery patients whose preventive antibiotics were stopped at the right time (within 24 hours after surgery)', 'Score': '', 'Sample': '', 'Stateavg': 'al_scip-inf-3'}\n",
            "Preprocessed row: {'ProviderNumber': '10018', 'HospitalName': 'callahan eye foundation hospital', 'Address1': '1720 university blvd', 'Address2': '', 'Address3': '', 'City': 'birminghxm', 'State': 'al', 'ZipCode': '35233', 'CountyName': 'jefferson', 'PhoneNumber': '20532608000', 'HospitalType': 'acute care hospitals', 'HospitalOwner': 'voluntary non-profit - private', 'EmergencyService': 'yes', 'Condition': 'surgical infection prevention', 'MeasureCode': 'scip-inf-3', 'MeasureName': 'surgery patients whose preventive antibiotics were stopped at the right time (within 24 hours after surgery)', 'Score': '', 'Sample': '', 'Stateavg': 'al_scip-inf-3'}\n",
            "Correct repair found at index 7\n",
            "Key: City\n",
            "Dirty row: {'ProviderNumber': '10018', 'HospitalName': 'callahan eye foundation hospital', 'Address1': '1720 university blvd', 'Address2': '', 'Address3': '', 'City': 'birmingxam', 'State': 'al', 'ZipCode': '35233', 'CountyName': 'jefferson', 'PhoneNumber': '2053258100', 'HospitalType': 'acute care hospitals', 'HospitalOwner': 'voluntary non-profit - private', 'EmergencyService': 'yes', 'Condition': 'surgical infection prevention', 'MeasureCode': 'scip-vte-2', 'MeasureName': 'patients who got treatment  at the right time (within 24 hours before or after their surgery) to help prevent blood clots after certain types of surgery', 'Score': '', 'Sample': '', 'Stateavg': 'al_scip-vte-2'}\n",
            "Clean row: {'ProviderNumber': '10018', 'HospitalName': 'callahan eye foundation hospital', 'Address1': '1720 university blvd', 'Address2': '', 'Address3': '', 'City': 'birmingham', 'State': 'al', 'ZipCode': '35233', 'CountyName': 'jefferson', 'PhoneNumber': '2053258100', 'HospitalType': 'acute care hospitals', 'HospitalOwner': 'voluntary non-profit - private', 'EmergencyService': 'yes', 'Condition': 'surgical infection prevention', 'MeasureCode': 'scip-vte-2', 'MeasureName': 'patients who got treatment  at the right time (within 24 hours before or after their surgery) to help prevent blood clots after certain types of surgery', 'Score': '', 'Sample': '', 'Stateavg': 'al_scip-vte-2'}\n",
            "Preprocessed row: {'ProviderNumber': '10018', 'HospitalName': 'Callahan Eye Foundation Hospital', 'Address1': '1720 University Blvd', 'Address2': '', 'Address3': '', 'City': 'birmingham', 'State': 'AL', 'ZipCode': '35233', 'CountyName': 'Jefferson', 'PhoneNumber': '20532608100', 'HospitalType': 'Acute Care Hospitals', 'HospitalOwner': 'Voluntary Non-Profit - Private', 'EmergencyService': 'Yes', 'Condition': 'Surgical Infection Prevention', 'MeasureCode': 'scip-vte-2', 'MeasureName': 'Patients who got treatment at the right time (within 24 hours before or after their surgery) to help prevent blood clots after certain types of surgery', 'Score': '', 'Sample': '', 'Stateavg': 'AL_scip-vte-2'}\n",
            "Correct repair found at index 10\n",
            "Key: City\n",
            "Dirty row: {'ProviderNumber': '10019', 'HospitalName': 'helen keller memorial hospital', 'Address1': '1300 south montgomery avenue', 'Address2': '', 'Address3': '', 'City': 'sheffxeld', 'State': 'al', 'ZipCode': '35660', 'CountyName': 'jefferson', 'PhoneNumber': '2563864556', 'HospitalType': 'acute care hospitals', 'HospitalOwner': 'government - hospital district or authority', 'EmergencyService': 'yes', 'Condition': 'heart attack', 'MeasureCode': 'ami-3', 'MeasureName': 'heart attack patients given ace inhibitor or arb for left ventricular systolic dysfunction (lvsd)', 'Score': '75%', 'Sample': '4 patients', 'Stateavg': 'al_ami-3'}\n",
            "Clean row: {'ProviderNumber': '10019', 'HospitalName': 'helen keller memorial hospital', 'Address1': '1300 south montgomery avenue', 'Address2': '', 'Address3': '', 'City': 'sheffield', 'State': 'al', 'ZipCode': '35660', 'CountyName': 'jefferson', 'PhoneNumber': '2563864556', 'HospitalType': 'acute care hospitals', 'HospitalOwner': 'government - hospital district or authority', 'EmergencyService': 'yes', 'Condition': 'heart attack', 'MeasureCode': 'ami-3', 'MeasureName': 'heart attack patients given ace inhibitor or arb for left ventricular systolic dysfunction (lvsd)', 'Score': '75%', 'Sample': '4 patients', 'Stateavg': 'al_ami-3'}\n",
            "Preprocessed row: {'ProviderNumber': '10019', 'HospitalName': 'helen keller memorial hospital', 'Address1': '1300 south montgomery avenue', 'Address2': '', 'Address3': '', 'City': 'sheffield', 'State': 'al', 'ZipCode': '35660', 'CountyName': 'jefferson', 'PhoneNumber': '2563864556', 'HospitalType': 'acute care hospitals', 'HospitalOwner': 'government - hospital district or authority', 'EmergencyService': 'yes', 'Condition': 'heart attack', 'MeasureCode': 'ami-3', 'MeasureName': 'heart attack patients given ace inhibitor or arb for left ventricular systolic dysfunction (lvsd)', 'Score': '75%', 'Sample': '4 patients', 'Stateavg': 'al_ami-3'}\n",
            "Correct repair found at index 21\n",
            "Key: Condition\n",
            "Dirty row: {'ProviderNumber': '10001', 'HospitalName': 'southeast alabama medical center', 'Address1': '1108 ross clark circle', 'Address2': '', 'Address3': '', 'City': 'dothan', 'State': 'al', 'ZipCode': '36302', 'CountyName': 'houston', 'PhoneNumber': '3347938701', 'HospitalType': 'acute care hospitals', 'HospitalOwner': 'government - hospital district or authority', 'EmergencyService': 'yes', 'Condition': 'heart attaxk', 'MeasureCode': 'ami-3', 'MeasureName': 'heart attack patients given ace inhibitor or arb for left ventricular systolic dysfunction (lvsd)', 'Score': '96%', 'Sample': '71 patients', 'Stateavg': 'al_ami-3'}\n",
            "Clean row: {'ProviderNumber': '10001', 'HospitalName': 'southeast alabama medical center', 'Address1': '1108 ross clark circle', 'Address2': '', 'Address3': '', 'City': 'dothan', 'State': 'al', 'ZipCode': '36302', 'CountyName': 'houston', 'PhoneNumber': '3347938701', 'HospitalType': 'acute care hospitals', 'HospitalOwner': 'government - hospital district or authority', 'EmergencyService': 'yes', 'Condition': 'heart attack', 'MeasureCode': 'ami-3', 'MeasureName': 'heart attack patients given ace inhibitor or arb for left ventricular systolic dysfunction (lvsd)', 'Score': '96%', 'Sample': '71 patients', 'Stateavg': 'al_ami-3'}\n",
            "Preprocessed row: {'ProviderNumber': '10001', 'HospitalName': 'southeast alabama medical center', 'Address1': '1108 ross clark circle', 'City': 'dothan', 'State': 'al', 'ZipCode': '36302', 'CountyName': 'houston', 'PhoneNumber': '3347938701', 'HospitalType': 'acute care hospitals', 'HospitalOwner': 'government - hospital district or authority', 'EmergencyService': 'yes', 'Condition': 'heart attack', 'MeasureCode': 'ami-3', 'MeasureName': 'heart attack patients given ace inhibitor or arb for left ventricular systolic dysfunction (lvsd)', 'Score': '96%', 'Sample': '71 patients'}\n",
            "Correct repair found at index 39\n",
            "Key: HospitalType\n",
            "Dirty row: {'ProviderNumber': '10001', 'HospitalName': 'southeast alabama medical center', 'Address1': '1108 ross clark circle', 'Address2': '', 'Address3': '', 'City': 'dothan', 'State': 'al', 'ZipCode': '36302', 'CountyName': 'houston', 'PhoneNumber': '3347938701', 'HospitalType': 'acxte care hospitals', 'HospitalOwner': 'government - hospital district or authority', 'EmergencyService': 'yes', 'Condition': 'surgical infection prevention', 'MeasureCode': 'scip-inf-3', 'MeasureName': 'surgery patients whose preventive antibiotics were stopped at the right time (within 24 hours after surgery)', 'Score': '88%', 'Sample': '385 patients', 'Stateavg': 'al_scip-inf-3'}\n",
            "Clean row: {'ProviderNumber': '10001', 'HospitalName': 'southeast alabama medical center', 'Address1': '1108 ross clark circle', 'Address2': '', 'Address3': '', 'City': 'dothan', 'State': 'al', 'ZipCode': '36302', 'CountyName': 'houston', 'PhoneNumber': '3347938701', 'HospitalType': 'acute care hospitals', 'HospitalOwner': 'government - hospital district or authority', 'EmergencyService': 'yes', 'Condition': 'surgical infection prevention', 'MeasureCode': 'scip-inf-3', 'MeasureName': 'surgery patients whose preventive antibiotics were stopped at the right time (within 24 hours after surgery)', 'Score': '88%', 'Sample': '385 patients', 'Stateavg': 'al_scip-inf-3'}\n",
            "Preprocessed row: {'ProviderNumber': '10001', 'HospitalName': 'southeast alabama medical center', 'Address1': '1108 ross clark circle', 'Address2': '', 'Address3': '', 'City': 'dothan', 'State': 'al', 'ZipCode': '36302', 'CountyName': 'houston', 'PhoneNumber': '3347938701', 'HospitalType': 'acute care hospitals', 'HospitalOwner': 'government - hospital district or authority', 'EmergencyService': 'yes', 'Condition': 'surgical infection prevention', 'MeasureCode': 'scip-inf-3', 'MeasureName': 'surgery patients whose preventive antibiotics were stopped at the right time (within 24 hours after surgery)', 'Score': '88%', 'Sample': '385 patients', 'Stateavg': 'al_scip-inf-3'}\n",
            "Correct repair found at index 73\n",
            "Key: Condition\n",
            "Dirty row: {'ProviderNumber': '10006', 'HospitalName': 'eliza coffee memorial hospital', 'Address1': '205 marengo street', 'Address2': '', 'Address3': '', 'City': 'florence', 'State': 'al', 'ZipCode': '35631', 'CountyName': 'lauderdale', 'PhoneNumber': '2567688400', 'HospitalType': 'acute care hospitals', 'HospitalOwner': 'voluntary non-profit - other', 'EmergencyService': 'yes', 'Condition': 'hearx axxack', 'MeasureCode': 'ami-5', 'MeasureName': 'heart attack patients given beta blocker at discharge', 'Score': '96%', 'Sample': '227 patients', 'Stateavg': 'al_ami-5'}\n",
            "Clean row: {'ProviderNumber': '10006', 'HospitalName': 'eliza coffee memorial hospital', 'Address1': '205 marengo street', 'Address2': '', 'Address3': '', 'City': 'florence', 'State': 'al', 'ZipCode': '35631', 'CountyName': 'lauderdale', 'PhoneNumber': '2567688400', 'HospitalType': 'acute care hospitals', 'HospitalOwner': 'voluntary non-profit - other', 'EmergencyService': 'yes', 'Condition': 'heart attack', 'MeasureCode': 'ami-5', 'MeasureName': 'heart attack patients given beta blocker at discharge', 'Score': '96%', 'Sample': '227 patients', 'Stateavg': 'al_ami-5'}\n",
            "Preprocessed row: {'ProviderNumber': '10006', 'HospitalName': 'eliza coffee memorial hospital', 'Address1': '205 marengo street', 'Address2': '', 'Address3': '', 'City': 'florence', 'State': 'al', 'ZipCode': '35631', 'CountyName': 'lauderdale', 'PhoneNumber': '2567688400', 'HospitalType': 'acute care hospitals', 'HospitalOwner': 'voluntary non-profit - other', 'EmergencyService': 'yes', 'Condition': 'heart attack', 'MeasureCode': 'ami-5', 'MeasureName': 'heart attack patients given beta blocker at discharge', 'Score': '96%', 'Sample': '227 patients', 'Stateavg': 'al_ami-5'}\n",
            "Correct repair found at index 91\n",
            "Key: Sample\n",
            "Dirty row: {'ProviderNumber': '10006', 'HospitalName': 'eliza coffee memorial hospital', 'Address1': '205 marengo street', 'Address2': '', 'Address3': '', 'City': 'florence', 'State': 'al', 'ZipCode': '35631', 'CountyName': 'lauderdale', 'PhoneNumber': '2567688400', 'HospitalType': 'acute care hospitals', 'HospitalOwner': 'voluntary non-profit - other', 'EmergencyService': 'yes', 'Condition': 'surgical infection prevention', 'MeasureCode': 'scip-inf-6', 'MeasureName': 'surgery patients needing hair removed from the surgical area before surgery who had hair removed using a safer method (electric clippers or hair removal cream c not a razor)', 'Score': '100%', 'Sample': '619 paxienxs', 'Stateavg': 'al_scip-inf-6'}\n",
            "Clean row: {'ProviderNumber': '10006', 'HospitalName': 'eliza coffee memorial hospital', 'Address1': '205 marengo street', 'Address2': '', 'Address3': '', 'City': 'florence', 'State': 'al', 'ZipCode': '35631', 'CountyName': 'lauderdale', 'PhoneNumber': '2567688400', 'HospitalType': 'acute care hospitals', 'HospitalOwner': 'voluntary non-profit - other', 'EmergencyService': 'yes', 'Condition': 'surgical infection prevention', 'MeasureCode': 'scip-inf-6', 'MeasureName': 'surgery patients needing hair removed from the surgical area before surgery who had hair removed using a safer method (electric clippers or hair removal cream c not a razor)', 'Score': '100%', 'Sample': '619 patients', 'Stateavg': 'al_scip-inf-6'}\n",
            "Preprocessed row: {'ProviderNumber': '10006', 'HospitalName': 'eliza coffee memorial hospital', 'Address1': '205 marengo street', 'Address2': '', 'Address3': '', 'City': 'florence', 'State': 'al', 'ZipCode': '35631', 'CountyName': 'lauderdale', 'PhoneNumber': '2567688400', 'HospitalType': 'acute care hospitals', 'HospitalOwner': 'voluntary non-profit - other', 'EmergencyService': 'yes', 'Condition': 'surgical infection prevention', 'MeasureCode': 'scip-inf-6', 'MeasureName': 'surgery patients needing hair removed from the surgical area before surgery who had hair removed using a safer method (electric clippers or hair removal cream c not a razor)', 'Score': '100%', 'Sample': '619 patients'}\n",
            "Correct repair found at index 98\n",
            "Key: HospitalType\n",
            "Dirty row: {'ProviderNumber': '10007', 'HospitalName': 'mizell memorial hospital', 'Address1': '702 n main st', 'Address2': '', 'Address3': '', 'City': 'opp', 'State': 'xl', 'ZipCode': '36467', 'CountyName': 'covington', 'PhoneNumber': '3344933541', 'HospitalType': 'acute care hosxitals', 'HospitalOwner': 'voluntary non-profit - private', 'EmergencyService': 'no', 'Condition': 'heart attack', 'MeasureCode': 'ami-5', 'MeasureName': 'heart attack patients given beta blocker at discharge', 'Score': '100%', 'Sample': '2 patients', 'Stateavg': 'al_ami-5'}\n",
            "Clean row: {'ProviderNumber': '10007', 'HospitalName': 'mizell memorial hospital', 'Address1': '702 n main st', 'Address2': '', 'Address3': '', 'City': 'opp', 'State': 'al', 'ZipCode': '36467', 'CountyName': 'covington', 'PhoneNumber': '3344933541', 'HospitalType': 'acute care hospitals', 'HospitalOwner': 'voluntary non-profit - private', 'EmergencyService': 'no', 'Condition': 'heart attack', 'MeasureCode': 'ami-5', 'MeasureName': 'heart attack patients given beta blocker at discharge', 'Score': '100%', 'Sample': '2 patients', 'Stateavg': 'al_ami-5'}\n",
            "Preprocessed row: {'ProviderNumber': '10007', 'HospitalName': 'mizell memorial hospital', 'Address1': '702 n main st', 'Address2': '', 'Address3': '', 'City': 'opp', 'State': 'xl', 'ZipCode': '36467', 'CountyName': 'covington', 'PhoneNumber': '3344933541', 'HospitalType': 'acute care hospitals', 'HospitalOwner': 'voluntary non-profit - private', 'EmergencyService': 'no', 'Condition': 'heart attack', 'MeasureCode': 'ami-5', 'MeasureName': 'heart attack patients given beta blocker at discharge', 'Score': '100%', 'Sample': '2 patients', 'Stateavg': 'al_ami-5'}\n",
            "Correct repair found at index 115\n",
            "Key: Sample\n",
            "Dirty row: {'ProviderNumber': '10007', 'HospitalName': 'mizell memorial hospital', 'Address1': '702 n main st', 'Address2': '', 'Address3': '', 'City': 'opp', 'State': 'al', 'ZipCode': '36467', 'CountyName': 'covington', 'PhoneNumber': '3344933541', 'HospitalType': 'acute care hospitals', 'HospitalOwner': 'voluntary non-profit - private', 'EmergencyService': 'no', 'Condition': 'surgical infection prevention', 'MeasureCode': 'scip-inf-4', 'MeasureName': 'all heart surgery patients whose blood sugar (blood glucose) is kept under good control in the days right after surgery', 'Score': '', 'Sample': '0 patixnts', 'Stateavg': 'al_scip-inf-4'}\n",
            "Clean row: {'ProviderNumber': '10007', 'HospitalName': 'mizell memorial hospital', 'Address1': '702 n main st', 'Address2': '', 'Address3': '', 'City': 'opp', 'State': 'al', 'ZipCode': '36467', 'CountyName': 'covington', 'PhoneNumber': '3344933541', 'HospitalType': 'acute care hospitals', 'HospitalOwner': 'voluntary non-profit - private', 'EmergencyService': 'no', 'Condition': 'surgical infection prevention', 'MeasureCode': 'scip-inf-4', 'MeasureName': 'all heart surgery patients whose blood sugar (blood glucose) is kept under good control in the days right after surgery', 'Score': '', 'Sample': '0 patients', 'Stateavg': 'al_scip-inf-4'}\n",
            "Preprocessed row: {'ProviderNumber': '10007', 'HospitalName': 'mizell memorial hospital', 'Address1': '702 n main st', 'Address2': '', 'Address3': '', 'City': 'opp', 'State': 'al', 'ZipCode': '36467', 'CountyName': 'covington', 'PhoneNumber': '3344933541', 'HospitalType': 'acute care hospitals', 'HospitalOwner': 'voluntary non-profit - private', 'EmergencyService': 'no', 'Condition': 'surgical infection prevention', 'MeasureCode': 'scip-inf-4', 'MeasureName': 'all heart surgery patients whose blood sugar (blood glucose) is kept under good control in the days right after surgery', 'Score': '', 'Sample': '0 patients', 'StateAvg': 'al_scip-inf-4'}\n",
            "Correct repair found at index 119\n",
            "Key: MeasureName\n",
            "Dirty row: {'ProviderNumber': '10008', 'HospitalName': 'crenshaw community hospital', 'Address1': '101 hospital circle', 'Address2': '', 'Address3': '', 'City': 'luverne', 'State': 'ax', 'ZipCode': '36049', 'CountyName': 'crenshaw', 'PhoneNumber': '3343353374', 'HospitalType': 'acute care hospitals', 'HospitalOwner': 'government - federal', 'EmergencyService': 'yes', 'Condition': 'heart attack', 'MeasureCode': 'ami-1', 'MeasureName': 'heart attack patients given aspirin at arrivax', 'Score': '0%', 'Sample': '1 patients', 'Stateavg': 'al_ami-1'}\n",
            "Clean row: {'ProviderNumber': '10008', 'HospitalName': 'crenshaw community hospital', 'Address1': '101 hospital circle', 'Address2': '', 'Address3': '', 'City': 'luverne', 'State': 'al', 'ZipCode': '36049', 'CountyName': 'crenshaw', 'PhoneNumber': '3343353374', 'HospitalType': 'acute care hospitals', 'HospitalOwner': 'government - federal', 'EmergencyService': 'yes', 'Condition': 'heart attack', 'MeasureCode': 'ami-1', 'MeasureName': 'heart attack patients given aspirin at arrival', 'Score': '0%', 'Sample': '1 patients', 'Stateavg': 'al_ami-1'}\n",
            "Preprocessed row: {'ProviderNumber': '10008', 'HospitalName': 'crenshaw community hospital', 'Address1': '101 hospital circle', 'Address2': '', 'Address3': '', 'City': 'luverne', 'State': 'ax', 'ZipCode': '36049', 'CountyName': 'crenshaw', 'PhoneNumber': '3343353374', 'HospitalType': 'acute care hospitals', 'HospitalOwner': 'government - federal', 'EmergencyService': 'yes', 'Condition': 'heart attack', 'MeasureCode': 'ami-1', 'MeasureName': 'heart attack patients given aspirin at arrival', 'Score': '0%', 'Sample': '1 patient'}\n",
            "Correct repair found at index 127\n",
            "Key: Condition\n",
            "Dirty row: {'ProviderNumber': '10008', 'HospitalName': 'crenshaw community hospital', 'Address1': '101 hospital circle', 'Address2': '', 'Address3': '', 'City': 'luverne', 'State': 'al', 'ZipCode': '36049', 'CountyName': 'crenshaw', 'PhoneNumber': '3343353374', 'HospitalType': 'acute care hospitals', 'HospitalOwner': 'government - federal', 'EmergencyService': 'yes', 'Condition': 'heaxt failuxe', 'MeasureCode': 'hf-2', 'MeasureName': 'heart failure patients given an evaluation of left ventricular systolic (lvs) function', 'Score': '72%', 'Sample': '39 patients', 'Stateavg': 'al_hf-2'}\n",
            "Clean row: {'ProviderNumber': '10008', 'HospitalName': 'crenshaw community hospital', 'Address1': '101 hospital circle', 'Address2': '', 'Address3': '', 'City': 'luverne', 'State': 'al', 'ZipCode': '36049', 'CountyName': 'crenshaw', 'PhoneNumber': '3343353374', 'HospitalType': 'acute care hospitals', 'HospitalOwner': 'government - federal', 'EmergencyService': 'yes', 'Condition': 'heart failure', 'MeasureCode': 'hf-2', 'MeasureName': 'heart failure patients given an evaluation of left ventricular systolic (lvs) function', 'Score': '72%', 'Sample': '39 patients', 'Stateavg': 'al_hf-2'}\n",
            "Preprocessed row: {'ProviderNumber': '10008', 'HospitalName': 'crenshaw community hospital', 'Address1': '101 hospital circle', 'Address2': '', 'Address3': '', 'City': 'luverne', 'State': 'al', 'ZipCode': '36049', 'CountyName': 'crenshaw', 'PhoneNumber': '3343353374', 'HospitalType': 'acute care hospitals', 'HospitalOwner': 'government - federal', 'EmergencyService': 'yes', 'Condition': 'heart failure', 'MeasureCode': 'hf-2', 'MeasureName': 'heart failure patients given an evaluation of left ventricular systolic (lvs) function', 'Score': '72%', 'Sample': '39 patients', 'Stateavg': 'al_hf-2'}\n",
            "Correct repair found at index 131\n",
            "Key: HospitalName\n",
            "Dirty row: {'ProviderNumber': '10008', 'HospitalName': 'crenshaw cxmmunity hxspital', 'Address1': '101 hospital circle', 'Address2': '', 'Address3': '', 'City': 'luverne', 'State': 'al', 'ZipCode': '36049', 'CountyName': 'crenshaw', 'PhoneNumber': '3343353374', 'HospitalType': 'acute care hospitals', 'HospitalOwner': 'government - federal', 'EmergencyService': 'yes', 'Condition': 'pneumonia', 'MeasureCode': 'pn-3b', 'MeasureName': 'pneumonia patients whose initial emergency room blood culture was performed prior to the administration of the first hospital dose of antibiotics', 'Score': '93%', 'Sample': '15 patients', 'Stateavg': 'al_pn-3b'}\n",
            "Clean row: {'ProviderNumber': '10008', 'HospitalName': 'crenshaw community hospital', 'Address1': '101 hospital circle', 'Address2': '', 'Address3': '', 'City': 'luverne', 'State': 'al', 'ZipCode': '36049', 'CountyName': 'crenshaw', 'PhoneNumber': '3343353374', 'HospitalType': 'acute care hospitals', 'HospitalOwner': 'government - federal', 'EmergencyService': 'yes', 'Condition': 'pneumonia', 'MeasureCode': 'pn-3b', 'MeasureName': 'pneumonia patients whose initial emergency room blood culture was performed prior to the administration of the first hospital dose of antibiotics', 'Score': '93%', 'Sample': '15 patients', 'Stateavg': 'al_pn-3b'}\n",
            "Preprocessed row: {'ProviderNumber': '10008', 'HospitalName': 'crenshaw community hospital', 'Address1': '101 hospital circle', 'Address2': '', 'Address3': '', 'City': 'Luverne', 'State': 'al', 'ZipCode': '36049', 'CountyName': 'crenshaw', 'PhoneNumber': '334-335-3374', 'HospitalType': 'acute care hospitals', 'HospitalOwner': 'government - federal', 'EmergencyService': 'yes', 'Condition': 'pneumonia', 'MeasureCode': 'pn-3b', 'MeasureName': 'pneumonia patients whose initial emergency room blood culture was performed prior to the administration of the first hospital dose of antibiotics', 'Score': '93%', 'Sample': '15 patients'}\n",
            "Correct repair found at index 145\n",
            "Key: MeasureName\n",
            "Dirty row: {'ProviderNumber': '10009', 'HospitalName': 'hartselle medical center', 'Address1': '201 pine street northwest', 'Address2': '', 'Address3': '', 'City': 'hartselle', 'State': 'al', 'ZipCode': '35640', 'CountyName': 'morgan', 'PhoneNumber': '2567736511', 'HospitalType': 'acute care hospitals', 'HospitalOwner': 'proprietary', 'EmergencyService': 'yes', 'Condition': 'heart attack', 'MeasureCode': 'ami-2', 'MeasureName': 'heart attaxk patients given aspirin at disxharge', 'Score': '100%', 'Sample': '1 patients', 'Stateavg': 'al_ami-2'}\n",
            "Clean row: {'ProviderNumber': '10009', 'HospitalName': 'hartselle medical center', 'Address1': '201 pine street northwest', 'Address2': '', 'Address3': '', 'City': 'hartselle', 'State': 'al', 'ZipCode': '35640', 'CountyName': 'morgan', 'PhoneNumber': '2567736511', 'HospitalType': 'acute care hospitals', 'HospitalOwner': 'proprietary', 'EmergencyService': 'yes', 'Condition': 'heart attack', 'MeasureCode': 'ami-2', 'MeasureName': 'heart attack patients given aspirin at discharge', 'Score': '100%', 'Sample': '1 patients', 'Stateavg': 'al_ami-2'}\n",
            "Preprocessed row: {'ProviderNumber': '10009', 'HospitalName': 'hartselle medical center', 'Address1': '201 pine street northwest', 'Address2': '', 'Address3': '', 'City': 'hartselle', 'State': 'al', 'ZipCode': '35640', 'CountyName': 'morgan', 'PhoneNumber': '2567736511', 'HospitalType': 'acute care hospitals', 'HospitalOwner': 'proprietary', 'EmergencyService': 'yes', 'Condition': 'heart attack', 'MeasureCode': 'ami-2', 'MeasureName': 'heart attack patients given aspirin at discharge', 'Score': '100%', 'Sample': '1 patient', 'StateAvg': 'al_ami-2'}\n",
            "Correct repair found at index 165\n",
            "Key: State\n",
            "Dirty row: {'ProviderNumber': '10009', 'HospitalName': 'hartselle medical center', 'Address1': '201 pine street northwest', 'Address2': '', 'Address3': '', 'City': 'hartselle', 'State': 'ax', 'ZipCode': '35640', 'CountyName': 'morgan', 'PhoneNumber': '2567736511', 'HospitalType': 'acute care hospitals', 'HospitalOwner': 'proprietary', 'EmergencyService': 'yes', 'Condition': 'surgical infection prevention', 'MeasureCode': 'scip-inf-4', 'MeasureName': 'all heart surgery patients whose blood sugar (blood glucose) is kept under good control in the days right after surgery', 'Score': '', 'Sample': '0 patients', 'Stateavg': 'al_scip-inf-4'}\n",
            "Clean row: {'ProviderNumber': '10009', 'HospitalName': 'hartselle medical center', 'Address1': '201 pine street northwest', 'Address2': '', 'Address3': '', 'City': 'hartselle', 'State': 'al', 'ZipCode': '35640', 'CountyName': 'morgan', 'PhoneNumber': '2567736511', 'HospitalType': 'acute care hospitals', 'HospitalOwner': 'proprietary', 'EmergencyService': 'yes', 'Condition': 'surgical infection prevention', 'MeasureCode': 'scip-inf-4', 'MeasureName': 'all heart surgery patients whose blood sugar (blood glucose) is kept under good control in the days right after surgery', 'Score': '', 'Sample': '0 patients', 'Stateavg': 'al_scip-inf-4'}\n",
            "Preprocessed row: {'ProviderNumber': '10009', 'HospitalName': 'hartselle medical center', 'Address1': '201 pine street northwest', 'Address2': '', 'Address3': '', 'City': 'hartselle', 'State': 'al', 'ZipCode': '35640', 'CountyName': 'morgan', 'PhoneNumber': '2567736511', 'HospitalType': 'acute care hospitals', 'HospitalOwner': 'proprietary', 'EmergencyService': 'yes', 'Condition': 'surgical infection prevention', 'MeasureCode': 'scip-inf-4', 'MeasureName': 'all heart surgery patients whose blood sugar (blood glucose) is kept under good control in the days right after surgery', 'Score': '', 'Sample': '0 patients', 'Stateavg': 'al_scip-inf-4'}\n",
            "Correct repair found at index 193\n",
            "Key: Stateavg\n",
            "Dirty row: {'ProviderNumber': '10010', 'HospitalName': 'marshall medical center north', 'Address1': '8000 alabama highway 69', 'Address2': '', 'Address3': '', 'City': 'guntersville', 'State': 'al', 'ZipCode': '35976', 'CountyName': 'marshall', 'PhoneNumber': '2565718000', 'HospitalType': 'acute care hospitals', 'HospitalOwner': 'government - hospital district or authority', 'EmergencyService': 'yes', 'Condition': 'surgical infection prevention', 'MeasureCode': 'scip-vte-2', 'MeasureName': 'patients who got treatment  at the right time (within 24 hours before or after their surgery) to help prevent blood clots after certain types of surgery', 'Score': '84%', 'Sample': '56 patients', 'Stateavg': 'al_scix-vte-2'}\n",
            "Clean row: {'ProviderNumber': '10010', 'HospitalName': 'marshall medical center north', 'Address1': '8000 alabama highway 69', 'Address2': '', 'Address3': '', 'City': 'guntersville', 'State': 'al', 'ZipCode': '35976', 'CountyName': 'marshall', 'PhoneNumber': '2565718000', 'HospitalType': 'acute care hospitals', 'HospitalOwner': 'government - hospital district or authority', 'EmergencyService': 'yes', 'Condition': 'surgical infection prevention', 'MeasureCode': 'scip-vte-2', 'MeasureName': 'patients who got treatment  at the right time (within 24 hours before or after their surgery) to help prevent blood clots after certain types of surgery', 'Score': '84%', 'Sample': '56 patients', 'Stateavg': 'al_scip-vte-2'}\n",
            "Preprocessed row: {'ProviderNumber': '10010', 'HospitalName': 'marshall medical center north', 'Address1': '8000 alabama highway 69', 'Address2': '', 'Address3': '', 'City': 'guntersville', 'State': 'al', 'ZipCode': '35976', 'CountyName': 'marshall', 'PhoneNumber': '2565718000', 'HospitalType': 'acute care hospitals', 'HospitalOwner': 'government - hospital district or authority', 'EmergencyService': 'yes', 'Condition': 'surgical infection prevention', 'MeasureCode': 'scip-vte-2', 'MeasureName': 'patients who got treatment at the right time (within 24 hours before or after their surgery) to help prevent blood clots after certain types of surgery', 'Score': '84%', 'Sample': '56 patients', 'Stateavg': 'al_scip-vte-2'}\n",
            "Correct repair found at index 199\n",
            "Key: Condition\n",
            "Dirty row: {'ProviderNumber': '10011', 'HospitalName': 'st vincents east', 'Address1': '50 medical park east drive', 'Address2': '', 'Address3': '', 'City': 'birmingham', 'State': 'al', 'ZipCode': '35235', 'CountyName': 'jefferson', 'PhoneNumber': '2058383122', 'HospitalType': 'acute care hosxitals', 'HospitalOwner': 'voluntary non-profit - private', 'EmergencyService': 'yes', 'Condition': 'heaxt attack', 'MeasureCode': 'ami-7a', 'MeasureName': 'heart attack patients given fibrinolytic medication within 30 minutes of arrival', 'Score': '', 'Sample': '0 patients', 'Stateavg': 'al_ami-7a'}\n",
            "Clean row: {'ProviderNumber': '10011', 'HospitalName': 'st vincents east', 'Address1': '50 medical park east drive', 'Address2': '', 'Address3': '', 'City': 'birmingham', 'State': 'al', 'ZipCode': '35235', 'CountyName': 'jefferson', 'PhoneNumber': '2058383122', 'HospitalType': 'acute care hospitals', 'HospitalOwner': 'voluntary non-profit - private', 'EmergencyService': 'yes', 'Condition': 'heart attack', 'MeasureCode': 'ami-7a', 'MeasureName': 'heart attack patients given fibrinolytic medication within 30 minutes of arrival', 'Score': '', 'Sample': '0 patients', 'Stateavg': 'al_ami-7a'}\n",
            "Preprocessed row: {'ProviderNumber': '10011', 'HospitalName': 'st vincents east', 'Address1': '50 medical park east drive', 'City': 'birmingham', 'State': 'al', 'ZipCode': '35235', 'CountyName': 'jefferson', 'PhoneNumber': '2058383122', 'HospitalType': 'acute care hosxitals', 'HospitalOwner': 'voluntary non-profit - private', 'EmergencyService': 'yes', 'Condition': 'heart attack', 'MeasureCode': 'ami-7a', 'MeasureName': 'heart attack patients given fibrinolytic medication within 30 minutes of arrival', 'Score': '0 patients', 'Stateavg': 'al_ami-7a'}\n",
            "Correct repair found at index 208\n",
            "Key: Score\n",
            "Dirty row: {'ProviderNumber': '10011', 'HospitalName': 'st vincents east', 'Address1': '50 medical park east drive', 'Address2': '', 'Address3': '', 'City': 'birmingham', 'State': 'al', 'ZipCode': '35235', 'CountyName': 'jefferson', 'PhoneNumber': '2058383122', 'HospitalType': 'acute care hospitals', 'HospitalOwner': 'voluntary non-profit - private', 'EmergencyService': 'yes', 'Condition': 'pneumonia', 'MeasureCode': 'pn-5c', 'MeasureName': 'pneumonia patients given initial antibiotic(s) within 6 hours after arrival', 'Score': 'x5%', 'Sample': '135 patients', 'Stateavg': 'al_pn-5c'}\n",
            "Clean row: {'ProviderNumber': '10011', 'HospitalName': 'st vincents east', 'Address1': '50 medical park east drive', 'Address2': '', 'Address3': '', 'City': 'birmingham', 'State': 'al', 'ZipCode': '35235', 'CountyName': 'jefferson', 'PhoneNumber': '2058383122', 'HospitalType': 'acute care hospitals', 'HospitalOwner': 'voluntary non-profit - private', 'EmergencyService': 'yes', 'Condition': 'pneumonia', 'MeasureCode': 'pn-5c', 'MeasureName': 'pneumonia patients given initial antibiotic(s) within 6 hours after arrival', 'Score': '95%', 'Sample': '135 patients', 'Stateavg': 'al_pn-5c'}\n",
            "Preprocessed row: {'ProviderNumber': '10011', 'HospitalName': 'st vincents east', 'Address1': '50 medical park east drive', 'City': 'birmingham', 'State': 'al', 'ZipCode': '35235', 'CountyName': 'jefferson', 'PhoneNumber': '205-383-1222', 'HospitalType': 'acute care hospitals', 'HospitalOwner': 'voluntary non-profit - private', 'EmergencyService': 'yes', 'MeasureCode': 'pn-5c', 'MeasureName': 'pneumonia patients given initial antibiotic(s) within 6 hours after arrival', 'Score': '95%', 'Sample': '135 patients'}\n",
            "Correct repair found at index 229\n",
            "Key: Condition\n",
            "Dirty row: {'ProviderNumber': '10012', 'HospitalName': 'dekalb regional medical center', 'Address1': '200 med center drive', 'Address2': '', 'Address3': '', 'City': 'fort payne', 'State': 'al', 'ZipCode': '35968', 'CountyName': 'de kalb', 'PhoneNumber': '2568453150', 'HospitalType': 'acute care hospitals', 'HospitalOwner': 'voluntary non-profit - church', 'EmergencyService': 'yes', 'Condition': 'heart faxlure', 'MeasureCode': 'hf-4', 'MeasureName': 'heart failure patients given smoking cessation advice/counseling', 'Score': '100%', 'Sample': '15 patients', 'Stateavg': 'al_hf-4'}\n",
            "Clean row: {'ProviderNumber': '10012', 'HospitalName': 'dekalb regional medical center', 'Address1': '200 med center drive', 'Address2': '', 'Address3': '', 'City': 'fort payne', 'State': 'al', 'ZipCode': '35968', 'CountyName': 'de kalb', 'PhoneNumber': '2568453150', 'HospitalType': 'acute care hospitals', 'HospitalOwner': 'voluntary non-profit - church', 'EmergencyService': 'yes', 'Condition': 'heart failure', 'MeasureCode': 'hf-4', 'MeasureName': 'heart failure patients given smoking cessation advice/counseling', 'Score': '100%', 'Sample': '15 patients', 'Stateavg': 'al_hf-4'}\n",
            "Preprocessed row: {'ProviderNumber': '10012', 'HospitalName': 'dekalb regional medical center', 'Address1': '200 med center drive', 'Address2': '', 'Address3': '', 'City': 'fort payne', 'State': 'al', 'ZipCode': '35968', 'CountyName': 'de kalb', 'PhoneNumber': '2568453150', 'HospitalType': 'acute care hospitals', 'HospitalOwner': 'voluntary non-profit - church', 'EmergencyService': 'yes', 'Condition': 'heart failure', 'MeasureCode': 'hf-4', 'MeasureName': 'heart failure patients given smoking cessation advice/counseling', 'Score': '100%', 'Sample': '15 patients', 'Stateavg': 'al_hf-4'}\n",
            "Correct repair found at index 236\n",
            "Key: Condition\n",
            "Dirty row: {'ProviderNumber': '10012', 'HospitalName': 'dekalb regional medical center', 'Address1': '200 med center drive', 'Address2': '', 'Address3': '', 'City': 'fort payne', 'State': 'al', 'ZipCode': '35968', 'CountyName': 'de kalb', 'PhoneNumber': '2568453150', 'HospitalType': 'acute care hospitals', 'HospitalOwner': 'voluntary non-profit - church', 'EmergencyService': 'yes', 'Condition': 'suxgical infection pxevention', 'MeasureCode': 'scip-card-2', 'MeasureName': 'surgery patients who were taking heart drugs called beta blockers before coming to the hospital who were kept on the beta blockers during the period just before and after their surgery', 'Score': '100%', 'Sample': '16 patients', 'Stateavg': 'al_scip-card-2'}\n",
            "Clean row: {'ProviderNumber': '10012', 'HospitalName': 'dekalb regional medical center', 'Address1': '200 med center drive', 'Address2': '', 'Address3': '', 'City': 'fort payne', 'State': 'al', 'ZipCode': '35968', 'CountyName': 'de kalb', 'PhoneNumber': '2568453150', 'HospitalType': 'acute care hospitals', 'HospitalOwner': 'voluntary non-profit - church', 'EmergencyService': 'yes', 'Condition': 'surgical infection prevention', 'MeasureCode': 'scip-card-2', 'MeasureName': 'surgery patients who were taking heart drugs called beta blockers before coming to the hospital who were kept on the beta blockers during the period just before and after their surgery', 'Score': '100%', 'Sample': '16 patients', 'Stateavg': 'al_scip-card-2'}\n",
            "Preprocessed row: {'ProviderNumber': '10012', 'HospitalName': 'dekalb regional medical center', 'Address1': '200 med center drive', 'Address2': '', 'Address3': '', 'City': 'fort payne', 'State': 'al', 'ZipCode': '35968', 'CountyName': 'de kalb', 'PhoneNumber': '2568453150', 'HospitalType': 'acute care hospitals', 'HospitalOwner': 'voluntary non-profit - church', 'EmergencyService': 'yes', 'Condition': 'surgical infection prevention', 'MeasureCode': 'scip-card-2', 'MeasureName': 'surgery patients who were taking heart drugs called beta blockers before coming to the hospital who were kept on the beta blockers during the period just before and after their surgery', 'Score': '100%', 'Sample': '16 patients'}\n",
            "Correct repair found at index 247\n",
            "Key: HospitalOwner\n",
            "Dirty row: {'ProviderNumber': '10015', 'HospitalName': 'southwest alabama medical center', 'Address1': '33700 highway 43', 'Address2': '', 'Address3': '', 'City': 'thomasville', 'State': 'al', 'ZipCode': '36784', 'CountyName': 'clarke', 'PhoneNumber': 'xx46x66221', 'HospitalType': 'acute care hospitals', 'HospitalOwner': 'governxent - federal', 'EmergencyService': 'yes', 'Condition': 'heart attack', 'MeasureCode': 'ami-4', 'MeasureName': 'heart attack patients given smoking cessation advice/counseling', 'Score': '', 'Sample': '0 patients', 'Stateavg': 'al_ami-4'}\n",
            "Clean row: {'ProviderNumber': '10015', 'HospitalName': 'southwest alabama medical center', 'Address1': '33700 highway 43', 'Address2': '', 'Address3': '', 'City': 'thomasville', 'State': 'al', 'ZipCode': '36784', 'CountyName': 'clarke', 'PhoneNumber': '3346366221', 'HospitalType': 'acute care hospitals', 'HospitalOwner': 'government - federal', 'EmergencyService': 'yes', 'Condition': 'heart attack', 'MeasureCode': 'ami-4', 'MeasureName': 'heart attack patients given smoking cessation advice/counseling', 'Score': '', 'Sample': '0 patients', 'Stateavg': 'al_ami-4'}\n",
            "Preprocessed row: {'ProviderNumber': '10015', 'HospitalName': 'southwest alabama medical center', 'Address1': '33700 highway 43', 'Address2': '', 'Address3': '', 'City': 'Mobile', 'State': 'al', 'ZipCode': '36784', 'CountyName': 'clarke', 'PhoneNumber': '46x66221', 'HospitalType': 'acute care hospitals', 'HospitalOwner': 'government - federal', 'EmergencyService': 'yes', 'Condition': 'heart attack', 'MeasureCode': 'ami-4', 'MeasureName': 'heart attack patients given smoking cessation advice/counseling', 'Score': '', 'Sample': '0 patients', 'Stateavg': 'al_ami-4'}\n",
            "Correct repair found at index 256\n",
            "Key: Condition\n",
            "Dirty row: {'ProviderNumber': '10015', 'HospitalName': 'southwest alabama medical center', 'Address1': '33700 highway 43', 'Address2': '', 'Address3': '', 'City': 'thomasville', 'State': 'al', 'ZipCode': '36784', 'CountyName': 'clarke', 'PhoneNumber': '3346366221', 'HospitalType': 'acute care hospitals', 'HospitalOwner': 'government - federal', 'EmergencyService': 'yes', 'Condition': 'xneumonia', 'MeasureCode': 'pn-3b', 'MeasureName': 'pneumonxa patxents whose inxtxal emergency room blood culture was performed prxor to the admxnxstratxon of the fxrst hospxtal dose of antxbxotxcs', 'Score': 'x6%', 'Sample': '24 patients', 'Stateavg': 'al_pn-3b'}\n",
            "Clean row: {'ProviderNumber': '10015', 'HospitalName': 'southwest alabama medical center', 'Address1': '33700 highway 43', 'Address2': '', 'Address3': '', 'City': 'thomasville', 'State': 'al', 'ZipCode': '36784', 'CountyName': 'clarke', 'PhoneNumber': '3346366221', 'HospitalType': 'acute care hospitals', 'HospitalOwner': 'government - federal', 'EmergencyService': 'yes', 'Condition': 'pneumonia', 'MeasureCode': 'pn-3b', 'MeasureName': 'pneumonia patients whose initial emergency room blood culture was performed prior to the administration of the first hospital dose of antibiotics', 'Score': '96%', 'Sample': '24 patients', 'Stateavg': 'al_pn-3b'}\n",
            "Preprocessed row: {'ProviderNumber': '10015', 'HospitalName': 'southwest alabama medical center', 'Address1': '33700 highway 43', 'Address2': '', 'Address3': '', 'City': 'Thomasville', 'State': 'al', 'ZipCode': '36784', 'CountyName': 'clarke', 'PhoneNumber': '3346366221', 'HospitalType': 'acute care hospitals', 'HospitalOwner': 'government - federal', 'EmergencyService': 'yes', 'Condition': 'pneumonia', 'MeasureCode': 'pn-3b', 'Score': '6%', 'Sample': '24 patients'}\n",
            "Correct repair found at index 279\n",
            "Key: Condition\n",
            "Dirty row: {'ProviderNumber': '10016', 'HospitalName': 'shelby baptist medical center', 'Address1': '1000 first street north', 'Address2': '', 'Address3': '', 'City': 'alabaster', 'State': 'al', 'ZipCode': '35007', 'CountyName': 'shelby', 'PhoneNumber': '2056208100', 'HospitalType': 'acute care hospitals', 'HospitalOwner': 'voluntary non-profit - church', 'EmergencyService': 'yes', 'Condition': 'xeart failure', 'MeasureCode': 'hf-4', 'MeasureName': 'heart failure patients given smoking cessation advice/counseling', 'Score': '100%', 'Sample': '48 patients', 'Stateavg': 'al_hf-4'}\n",
            "Clean row: {'ProviderNumber': '10016', 'HospitalName': 'shelby baptist medical center', 'Address1': '1000 first street north', 'Address2': '', 'Address3': '', 'City': 'alabaster', 'State': 'al', 'ZipCode': '35007', 'CountyName': 'shelby', 'PhoneNumber': '2056208100', 'HospitalType': 'acute care hospitals', 'HospitalOwner': 'voluntary non-profit - church', 'EmergencyService': 'yes', 'Condition': 'heart failure', 'MeasureCode': 'hf-4', 'MeasureName': 'heart failure patients given smoking cessation advice/counseling', 'Score': '100%', 'Sample': '48 patients', 'Stateavg': 'al_hf-4'}\n",
            "Preprocessed row: {'ProviderNumber': '10016', 'HospitalName': 'shelby baptist medical center', 'Address1': '1000 first street north', 'Address2': '', 'Address3': '', 'City': 'alabaster', 'State': 'al', 'ZipCode': '35007', 'CountyName': 'shelby', 'PhoneNumber': '205-621-0800', 'HospitalType': 'acute care hospitals', 'HospitalOwner': 'voluntary non-profit - church', 'EmergencyService': 'yes', 'Condition': 'heart failure', 'MeasureCode': 'hf-4', 'MeasureName': 'heart failure patients given smoking cessation advice/counseling', 'Score': '100%', 'Sample': '48 patients', 'Stateavg': 'al_hf-4'}\n",
            "Correct repair found at index 295\n",
            "Key: Address1\n",
            "Dirty row: {'ProviderNumber': '10018', 'HospitalName': 'callahan eye foundation hospital', 'Address1': '1720 univxrsity blvd', 'Address2': '', 'Address3': '', 'City': 'birmingham', 'State': 'al', 'ZipCode': '35233', 'CountyName': 'jefferson', 'PhoneNumber': '2053258100', 'HospitalType': 'acute care hospitals', 'HospitalOwner': 'voluntary non-profit - private', 'EmergencyService': 'yes', 'Condition': 'heart attack', 'MeasureCode': 'ami-2', 'MeasureName': 'heart attack patients given aspirin at discharge', 'Score': '', 'Sample': '', 'Stateavg': 'al_ami-2'}\n",
            "Clean row: {'ProviderNumber': '10018', 'HospitalName': 'callahan eye foundation hospital', 'Address1': '1720 university blvd', 'Address2': '', 'Address3': '', 'City': 'birmingham', 'State': 'al', 'ZipCode': '35233', 'CountyName': 'jefferson', 'PhoneNumber': '2053258100', 'HospitalType': 'acute care hospitals', 'HospitalOwner': 'voluntary non-profit - private', 'EmergencyService': 'yes', 'Condition': 'heart attack', 'MeasureCode': 'ami-2', 'MeasureName': 'heart attack patients given aspirin at discharge', 'Score': '', 'Sample': '', 'Stateavg': 'al_ami-2'}\n",
            "Preprocessed row: {'ProviderNumber': '10018', 'HospitalName': 'callahan eye foundation hospital', 'Address1': '1720 university blvd', 'City': 'birmingham', 'State': 'al', 'ZipCode': '35233', 'CountyName': 'jefferson', 'PhoneNumber': '20532608100', 'HospitalType': 'acute care hospitals', 'HospitalOwner': 'voluntary non-profit - private', 'EmergencyService': 'yes', 'Condition': 'heart attack', 'MeasureCode': 'ami-2', 'MeasureName': 'heart attack patients given aspirin at discharge', 'Score': '', 'Stateavg': 'al_ami-2'}\n",
            "Correct repair found at index 332\n",
            "Key: HospitalOwner\n",
            "Dirty row: {'ProviderNumber': '10055', 'HospitalName': 'flowers hospital', 'Address1': '4370 west main street', 'Address2': '', 'Address3': '', 'City': 'dothan', 'State': 'al', 'ZipCode': '3x305', 'CountyName': 'houston', 'PhoneNumber': '3347935000', 'HospitalType': 'acute care hospitals', 'HospitalOwner': 'proxrietary', 'EmergencyService': 'yex', 'Condition': 'heart failure', 'MeasureCode': 'hf-3', 'MeasureName': 'heart failure patients given ace inhibitor or arb for left ventricular systolic dysfunction (lvsd)', 'Score': '100%', 'Sample': '94 patients', 'Stateavg': 'al_hf-3'}\n",
            "Clean row: {'ProviderNumber': '10055', 'HospitalName': 'flowers hospital', 'Address1': '4370 west main street', 'Address2': '', 'Address3': '', 'City': 'dothan', 'State': 'al', 'ZipCode': '36305', 'CountyName': 'houston', 'PhoneNumber': '3347935000', 'HospitalType': 'acute care hospitals', 'HospitalOwner': 'proprietary', 'EmergencyService': 'yes', 'Condition': 'heart failure', 'MeasureCode': 'hf-3', 'MeasureName': 'heart failure patients given ace inhibitor or arb for left ventricular systolic dysfunction (lvsd)', 'Score': '100%', 'Sample': '94 patients', 'Stateavg': 'al_hf-3'}\n",
            "Preprocessed row: {'ProviderNumber': '10055', 'HospitalName': 'flowers hospital', 'Address1': '4370 west main street', 'Address2': '', 'Address3': '', 'City': 'dothan', 'State': 'al', 'ZipCode': '3x305', 'CountyName': 'houston', 'PhoneNumber': '3347935000', 'HospitalType': 'acute care hospitals', 'HospitalOwner': 'proprietary', 'EmergencyService': 'yes', 'Condition': 'heart failure', 'MeasureCode': 'hf-3', 'MeasureName': 'heart failure patients given ace inhibitor or arb for left ventricular systolic dysfunction (lvsd)', 'Score': '100%', 'Sample': '94 patients', 'Stateavg': 'al_hf-3'}\n",
            "Correct repair found at index 332\n",
            "Key: EmergencyService\n",
            "Dirty row: {'ProviderNumber': '10055', 'HospitalName': 'flowers hospital', 'Address1': '4370 west main street', 'Address2': '', 'Address3': '', 'City': 'dothan', 'State': 'al', 'ZipCode': '3x305', 'CountyName': 'houston', 'PhoneNumber': '3347935000', 'HospitalType': 'acute care hospitals', 'HospitalOwner': 'proxrietary', 'EmergencyService': 'yex', 'Condition': 'heart failure', 'MeasureCode': 'hf-3', 'MeasureName': 'heart failure patients given ace inhibitor or arb for left ventricular systolic dysfunction (lvsd)', 'Score': '100%', 'Sample': '94 patients', 'Stateavg': 'al_hf-3'}\n",
            "Clean row: {'ProviderNumber': '10055', 'HospitalName': 'flowers hospital', 'Address1': '4370 west main street', 'Address2': '', 'Address3': '', 'City': 'dothan', 'State': 'al', 'ZipCode': '36305', 'CountyName': 'houston', 'PhoneNumber': '3347935000', 'HospitalType': 'acute care hospitals', 'HospitalOwner': 'proprietary', 'EmergencyService': 'yes', 'Condition': 'heart failure', 'MeasureCode': 'hf-3', 'MeasureName': 'heart failure patients given ace inhibitor or arb for left ventricular systolic dysfunction (lvsd)', 'Score': '100%', 'Sample': '94 patients', 'Stateavg': 'al_hf-3'}\n",
            "Preprocessed row: {'ProviderNumber': '10055', 'HospitalName': 'flowers hospital', 'Address1': '4370 west main street', 'Address2': '', 'Address3': '', 'City': 'dothan', 'State': 'al', 'ZipCode': '3x305', 'CountyName': 'houston', 'PhoneNumber': '3347935000', 'HospitalType': 'acute care hospitals', 'HospitalOwner': 'proprietary', 'EmergencyService': 'yes', 'Condition': 'heart failure', 'MeasureCode': 'hf-3', 'MeasureName': 'heart failure patients given ace inhibitor or arb for left ventricular systolic dysfunction (lvsd)', 'Score': '100%', 'Sample': '94 patients', 'Stateavg': 'al_hf-3'}\n",
            "Correct repair found at index 336\n",
            "Key: Score\n",
            "Dirty row: {'ProviderNumber': '10055', 'HospitalName': 'flowers hospital', 'Address1': '4370 west main street', 'Address2': '', 'Address3': '', 'City': 'dothan', 'State': 'al', 'ZipCode': '36305', 'CountyName': 'houston', 'PhoneNumber': '3347935000', 'HospitalType': 'acute care hospitals', 'HospitalOwner': 'proprietary', 'EmergencyService': 'yes', 'Condition': 'pneumonia', 'MeasureCode': 'pn-4', 'MeasureName': 'pneumonia patients given smoking cessation advice/counseling', 'Score': 'x00%', 'Sample': '77 patients', 'Stateavg': 'al_pn-4'}\n",
            "Clean row: {'ProviderNumber': '10055', 'HospitalName': 'flowers hospital', 'Address1': '4370 west main street', 'Address2': '', 'Address3': '', 'City': 'dothan', 'State': 'al', 'ZipCode': '36305', 'CountyName': 'houston', 'PhoneNumber': '3347935000', 'HospitalType': 'acute care hospitals', 'HospitalOwner': 'proprietary', 'EmergencyService': 'yes', 'Condition': 'pneumonia', 'MeasureCode': 'pn-4', 'MeasureName': 'pneumonia patients given smoking cessation advice/counseling', 'Score': '100%', 'Sample': '77 patients', 'Stateavg': 'al_pn-4'}\n",
            "Preprocessed row: {'ProviderNumber': '10055', 'HospitalName': 'flowers hospital', 'Address1': '4370 west main street', 'Address2': '', 'Address3': '', 'City': 'dothan', 'State': 'al', 'ZipCode': '36305', 'CountyName': 'houston', 'PhoneNumber': '3347935000', 'HospitalType': 'acute care hospitals', 'HospitalOwner': 'proprietary', 'EmergencyService': 'yes', 'Condition': 'pneumonia', 'MeasureCode': 'pn-4', 'MeasureName': 'pneumonia patients given smoking cessation advice/counseling', 'Score': '100%', 'Sample': '77 patients', 'Stateavg': 'al_pn-4'}\n",
            "Correct repair found at index 346\n",
            "Key: MeasureName\n",
            "Dirty row: {'ProviderNumber': '10055', 'HospitalName': 'flowers hospital', 'Address1': '4370 west main street', 'Address2': '', 'Address3': '', 'City': 'dothan', 'State': 'al', 'ZipCode': '36305', 'CountyName': 'housxon', 'PhoneNumber': '3347935000', 'HospitalType': 'acute care hospitals', 'HospitalOwner': 'proprietary', 'EmergencyService': 'yes', 'Condition': 'surgical infection prevention', 'MeasureCode': 'scip-vte-1', 'MeasureName': 'surgery pxtients whose doctors ordered trextments to prevent blood clots xfter certxin types of surgeries', 'Score': '100%', 'Sample': '497 patients', 'Stateavg': 'al_scip-vte-1'}\n",
            "Clean row: {'ProviderNumber': '10055', 'HospitalName': 'flowers hospital', 'Address1': '4370 west main street', 'Address2': '', 'Address3': '', 'City': 'dothan', 'State': 'al', 'ZipCode': '36305', 'CountyName': 'houston', 'PhoneNumber': '3347935000', 'HospitalType': 'acute care hospitals', 'HospitalOwner': 'proprietary', 'EmergencyService': 'yes', 'Condition': 'surgical infection prevention', 'MeasureCode': 'scip-vte-1', 'MeasureName': 'surgery patients whose doctors ordered treatments to prevent blood clots after certain types of surgeries', 'Score': '100%', 'Sample': '497 patients', 'Stateavg': 'al_scip-vte-1'}\n",
            "Preprocessed row: {'ProviderNumber': '10055', 'HospitalName': 'flowers hospital', 'Address1': '4370 west main street', 'Address2': '', 'Address3': '', 'City': 'dothan', 'State': 'al', 'ZipCode': '36305', 'CountyName': 'houseton', 'PhoneNumber': '3347935000', 'HospitalType': 'acute care hospitals', 'HospitalOwner': 'proprietary', 'EmergencyService': 'yes', 'Condition': 'surgical infection prevention', 'MeasureCode': 'scip-vte-1', 'MeasureName': 'surgery patients whose doctors ordered treatments to prevent blood clots after certain types of surgeries', 'Score': '100%', 'Sample': '497 patients', 'Stateavg': 'al_scip-vte-1'}\n",
            "Correct repair found at index 366\n",
            "Key: Condition\n",
            "Dirty row: {'ProviderNumber': '10086', 'HospitalName': 'northwest medical center', 'Address1': '1530 u s highway 43', 'Address2': '', 'Address3': '', 'City': 'winfield', 'State': 'al', 'ZipCode': '3xx94', 'CountyName': 'marion', 'PhoneNumber': '2054877736', 'HospitalType': 'acute care hospitals', 'HospitalOwner': 'proprietary', 'EmergencyService': 'yes', 'Condition': 'pnxumonia', 'MeasureCode': 'pn-3b', 'MeasureName': 'pneumonia patients whose initial emergency room blood culture was performed prior to the administration of the first hospital dose of antibiotics', 'Score': '98%', 'Sample': '59 patients', 'Stateavg': 'al_pn-3b'}\n",
            "Clean row: {'ProviderNumber': '10086', 'HospitalName': 'northwest medical center', 'Address1': '1530 u s highway 43', 'Address2': '', 'Address3': '', 'City': 'winfield', 'State': 'al', 'ZipCode': '35594', 'CountyName': 'marion', 'PhoneNumber': '2054877736', 'HospitalType': 'acute care hospitals', 'HospitalOwner': 'proprietary', 'EmergencyService': 'yes', 'Condition': 'pneumonia', 'MeasureCode': 'pn-3b', 'MeasureName': 'pneumonia patients whose initial emergency room blood culture was performed prior to the administration of the first hospital dose of antibiotics', 'Score': '98%', 'Sample': '59 patients', 'Stateavg': 'al_pn-3b'}\n",
            "Preprocessed row: {'ProviderNumber': '10086', 'HospitalName': 'northwest medical center', 'Address1': '1530 u s highway 43', 'Address2': '', 'Address3': '', 'City': 'winfield', 'State': 'al', 'ZipCode': '3xx94', 'CountyName': 'marion', 'PhoneNumber': '2054877736', 'HospitalType': 'acute care hospitals', 'HospitalOwner': 'proprietary', 'EmergencyService': 'yes', 'Condition': 'pneumonia', 'MeasureCode': 'pn-3b', 'MeasureName': 'pneumonia patients whose initial emergency room blood culture was performed prior to the administration of the first hospital dose of antibiotics', 'Score': '98%', 'Sample': '59 patients'}\n",
            "Correct repair found at index 369\n",
            "Key: Condition\n",
            "Dirty row: {'ProviderNumber': '10086', 'HospitalName': 'northwest medical center', 'Address1': '1530 u s highway 43', 'Address2': '', 'Address3': '', 'City': 'winfield', 'State': 'al', 'ZipCode': '35594', 'CountyName': 'marion', 'PhoneNumber': '2054877736', 'HospitalType': 'acute care hospitals', 'HospitalOwner': 'proprietary', 'EmergencyService': 'yes', 'Condition': 'pnexmonia', 'MeasureCode': 'pn-6', 'MeasureName': 'pneumonia patients given the most appropriate initial antibiotic(s)', 'Score': '100%', 'Sample': '62 patients', 'Stateavg': 'al_pn-6'}\n",
            "Clean row: {'ProviderNumber': '10086', 'HospitalName': 'northwest medical center', 'Address1': '1530 u s highway 43', 'Address2': '', 'Address3': '', 'City': 'winfield', 'State': 'al', 'ZipCode': '35594', 'CountyName': 'marion', 'PhoneNumber': '2054877736', 'HospitalType': 'acute care hospitals', 'HospitalOwner': 'proprietary', 'EmergencyService': 'yes', 'Condition': 'pneumonia', 'MeasureCode': 'pn-6', 'MeasureName': 'pneumonia patients given the most appropriate initial antibiotic(s)', 'Score': '100%', 'Sample': '62 patients', 'Stateavg': 'al_pn-6'}\n",
            "Preprocessed row: {'ProviderNumber': '10086', 'HospitalName': 'northwest medical center', 'Address1': '1530 u s highway 43', 'Address2': '', 'Address3': '', 'City': 'winfield', 'State': 'al', 'ZipCode': '35594', 'CountyName': 'marion', 'PhoneNumber': '2054877736', 'HospitalType': 'acute care hospitals', 'HospitalOwner': 'proprietary', 'EmergencyService': 'yes', 'Condition': 'pneumonia', 'MeasureCode': 'pn-6', 'MeasureName': 'pneumonia patients given the most appropriate initial antibiotic(s)', 'Score': '100%', 'Sample': '62 patients', 'Stateavg': 'al_pn-6'}\n",
            "Correct repair found at index 386\n",
            "Key: Condition\n",
            "Dirty row: {'ProviderNumber': '10087', 'HospitalName': 'univ of south alabama medical center', 'Address1': '2451 fillingim street', 'Address2': '', 'Address3': '', 'City': 'mobile', 'State': 'xl', 'ZipCode': '36617', 'CountyName': 'mobile', 'PhoneNumber': '25x47x7xx0', 'HospitalType': 'acute care hospitals', 'HospitalOwner': 'government - state', 'EmergencyService': 'yes', 'Condition': 'hxart failurx', 'MeasureCode': 'hf-1', 'MeasureName': 'heart failure patients given discharge instructions', 'Score': '83%', 'Sample': '146 patients', 'Stateavg': 'al_hf-1'}\n",
            "Clean row: {'ProviderNumber': '10087', 'HospitalName': 'univ of south alabama medical center', 'Address1': '2451 fillingim street', 'Address2': '', 'Address3': '', 'City': 'mobile', 'State': 'al', 'ZipCode': '36617', 'CountyName': 'mobile', 'PhoneNumber': '2514717110', 'HospitalType': 'acute care hospitals', 'HospitalOwner': 'government - state', 'EmergencyService': 'yes', 'Condition': 'heart failure', 'MeasureCode': 'hf-1', 'MeasureName': 'heart failure patients given discharge instructions', 'Score': '83%', 'Sample': '146 patients', 'Stateavg': 'al_hf-1'}\n",
            "Preprocessed row: {'ProviderNumber': '10087', 'HospitalName': 'univ of south alabama medical center', 'Address1': '2451 fillingim street', 'Address2': '', 'Address3': '', 'City': 'mobile', 'State': 'AL', 'ZipCode': '36617', 'CountyName': 'mobile', 'PhoneNumber': '25x47x7xx0', 'HospitalType': 'acute care hospitals', 'HospitalOwner': 'government - state', 'EmergencyService': 'yes', 'Condition': 'heart failure', 'MeasureCode': 'hf-1', 'MeasureName': 'heart failure patients given discharge instructions', 'Score': '83%', 'Sample': '146 patients', 'Stateavg': 'AL_hf-1'}\n",
            "Correct repair found at index 389\n",
            "Key: MeasureName\n",
            "Dirty row: {'ProviderNumber': '10087', 'HospitalName': 'univ of south alabama medical center', 'Address1': '2451 fillingim street', 'Address2': '', 'Address3': '', 'City': 'mobile', 'State': 'al', 'ZipCode': '36617', 'CountyName': 'mobile', 'PhoneNumber': '2514717110', 'HospitalType': 'acute care hospitals', 'HospitalOwner': 'government - state', 'EmergencyService': 'yxs', 'Condition': 'heart failure', 'MeasureCode': 'hf-4', 'MeasureName': 'heart xailure patients given smoking cessation advice/counseling', 'Score': '100%', 'Sample': '45 patients', 'Stateavg': 'al_hf-4'}\n",
            "Clean row: {'ProviderNumber': '10087', 'HospitalName': 'univ of south alabama medical center', 'Address1': '2451 fillingim street', 'Address2': '', 'Address3': '', 'City': 'mobile', 'State': 'al', 'ZipCode': '36617', 'CountyName': 'mobile', 'PhoneNumber': '2514717110', 'HospitalType': 'acute care hospitals', 'HospitalOwner': 'government - state', 'EmergencyService': 'yes', 'Condition': 'heart failure', 'MeasureCode': 'hf-4', 'MeasureName': 'heart failure patients given smoking cessation advice/counseling', 'Score': '100%', 'Sample': '45 patients', 'Stateavg': 'al_hf-4'}\n",
            "Preprocessed row: {'ProviderNumber': '10087', 'HospitalName': 'univ of south alabama medical center', 'Address1': '2451 fillingim street', 'Address2': '', 'Address3': '', 'City': 'mobile', 'State': 'al', 'ZipCode': '36617', 'CountyName': 'mobile', 'PhoneNumber': '2514717110', 'HospitalType': 'acute care hospitals', 'HospitalOwner': 'government - state', 'EmergencyService': 'yxs', 'Condition': 'heart failure', 'MeasureCode': 'hf-4', 'MeasureName': 'heart failure patients given smoking cessation advice/counseling', 'Score': '100%', 'Sample': '45 patients', 'Stateavg': 'al_hf-4'}\n",
            "Correct repair found at index 402\n",
            "Key: State\n",
            "Dirty row: {'ProviderNumber': '10108', 'HospitalName': 'prattville baptist hospital', 'Address1': '124 s memorial dr', 'Address2': '', 'Address3': '', 'City': 'prattville', 'State': 'ax', 'ZipCode': '36067', 'CountyName': 'autauga', 'PhoneNumber': '3343614267', 'HospitalType': 'acute care hospitals', 'HospitalOwner': 'voluntary non-profit - private', 'EmergencyService': 'yes', 'Condition': 'pneumonia', 'MeasureCode': 'pn-2', 'MeasureName': 'pneumonia patients assessed and given pneumococcal vaccination', 'Score': '94%', 'Sample': '116 patients', 'Stateavg': 'al_pn-2'}\n",
            "Clean row: {'ProviderNumber': '10108', 'HospitalName': 'prattville baptist hospital', 'Address1': '124 s memorial dr', 'Address2': '', 'Address3': '', 'City': 'prattville', 'State': 'al', 'ZipCode': '36067', 'CountyName': 'autauga', 'PhoneNumber': '3343614267', 'HospitalType': 'acute care hospitals', 'HospitalOwner': 'voluntary non-profit - private', 'EmergencyService': 'yes', 'Condition': 'pneumonia', 'MeasureCode': 'pn-2', 'MeasureName': 'pneumonia patients assessed and given pneumococcal vaccination', 'Score': '94%', 'Sample': '116 patients', 'Stateavg': 'al_pn-2'}\n",
            "Preprocessed row: {'ProviderNumber': '10108', 'HospitalName': 'prattville baptist hospital', 'Address1': '124 s memorial dr', 'Address2': '', 'Address3': '', 'City': 'prattville', 'State': 'al', 'ZipCode': '36067', 'CountyName': 'autauga', 'PhoneNumber': '3343614267', 'HospitalType': 'acute care hospitals', 'HospitalOwner': 'voluntary non-profit - private', 'EmergencyService': 'yes', 'Condition': 'pneumonia', 'MeasureCode': 'pn-2', 'MeasureName': 'pneumonia patients assessed and given pneumococcal vaccination', 'Score': '94%', 'Sample': '116 patients', 'Stateavg': 'al_pn-2'}\n",
            "Correct repair found at index 411\n",
            "Key: HospitalType\n",
            "Dirty row: {'ProviderNumber': '10108', 'HospitalName': 'prattville baptist hospital', 'Address1': '124 s mxmorial dr', 'Address2': '', 'Address3': '', 'City': 'prattville', 'State': 'al', 'ZipCode': '36067', 'CountyName': 'autauga', 'PhoneNumber': '3343614267', 'HospitalType': 'acute care hosxitals', 'HospitalOwner': 'voluntary non-profit - private', 'EmergencyService': 'yes', 'Condition': 'surgical infection prevention', 'MeasureCode': 'scip-inf-3', 'MeasureName': 'surgery patients whose preventive antibiotics were stopped at the right time (within 24 hours after surgery)', 'Score': '1xx%', 'Sample': '10 patients', 'Stateavg': 'al_scip-inf-3'}\n",
            "Clean row: {'ProviderNumber': '10108', 'HospitalName': 'prattville baptist hospital', 'Address1': '124 s memorial dr', 'Address2': '', 'Address3': '', 'City': 'prattville', 'State': 'al', 'ZipCode': '36067', 'CountyName': 'autauga', 'PhoneNumber': '3343614267', 'HospitalType': 'acute care hospitals', 'HospitalOwner': 'voluntary non-profit - private', 'EmergencyService': 'yes', 'Condition': 'surgical infection prevention', 'MeasureCode': 'scip-inf-3', 'MeasureName': 'surgery patients whose preventive antibiotics were stopped at the right time (within 24 hours after surgery)', 'Score': '100%', 'Sample': '10 patients', 'Stateavg': 'al_scip-inf-3'}\n",
            "Preprocessed row: {'ProviderNumber': '10108', 'HospitalName': 'prattville baptist hospital', 'Address1': '124 s mxmorial dr', 'Address2': '', 'Address3': '', 'City': 'prattville', 'State': 'al', 'ZipCode': '36067', 'CountyName': 'autauga', 'PhoneNumber': '3343614267', 'HospitalType': 'acute care hospitals', 'HospitalOwner': 'voluntary non-profit - private', 'EmergencyService': 'yes', 'Condition': 'surgical infection prevention', 'MeasureCode': 'scip-inf-3', 'MeasureName': 'surgery patients whose preventive antibiotics were stopped at the right time (within 24 hours after surgery)', 'Score': '1xx%', 'Sample': '10 patients', 'Stateavg': 'al_scip-inf-3'}\n",
            "Correct repair found at index 413\n",
            "Key: Sample\n",
            "Dirty row: {'ProviderNumber': '10158', 'HospitalName': 'russellville hospital', 'Address1': '15155 highway 43', 'Address2': '', 'Address3': '', 'City': 'russellville', 'State': 'al', 'ZipCode': '35653', 'CountyName': 'franklin', 'PhoneNumber': '2563321611', 'HospitalType': 'acuxe care hospixals', 'HospitalOwner': 'proprietary', 'EmergencyService': 'yes', 'Condition': 'surgical infection prevention', 'MeasureCode': 'scip-vte-2', 'MeasureName': 'patients who got treatment  at the right time (within 24 hours before or after their surgery) to help prevent blood clots after certain types of surgery', 'Score': '98%', 'Sample': '125 patixnts', 'Stateavg': 'al_scip-vte-2'}\n",
            "Clean row: {'ProviderNumber': '10158', 'HospitalName': 'russellville hospital', 'Address1': '15155 highway 43', 'Address2': '', 'Address3': '', 'City': 'russellville', 'State': 'al', 'ZipCode': '35653', 'CountyName': 'franklin', 'PhoneNumber': '2563321611', 'HospitalType': 'acute care hospitals', 'HospitalOwner': 'proprietary', 'EmergencyService': 'yes', 'Condition': 'surgical infection prevention', 'MeasureCode': 'scip-vte-2', 'MeasureName': 'patients who got treatment  at the right time (within 24 hours before or after their surgery) to help prevent blood clots after certain types of surgery', 'Score': '98%', 'Sample': '125 patients', 'Stateavg': 'al_scip-vte-2'}\n",
            "Preprocessed row: {'ProviderNumber': '10158', 'HospitalName': 'russellville hospital', 'Address1': '15155 highway 43', 'City': 'Russellville', 'State': 'al', 'ZipCode': '35653', 'CountyName': 'franklin', 'PhoneNumber': '2563321611', 'HospitalType': 'acuxe care hospixals', 'HospitalOwner': 'proprietary', 'EmergencyService': 'yes', 'Condition': 'surgical infection prevention', 'MeasureCode': 'scip-vte-2', 'MeasureName': 'patients who got treatment  at the right time (within 24 hours before or after their surgery) to help prevent blood clots after certain types of surgery', 'Score': '98%', 'Sample': '125 patients'}\n",
            "Correct repair found at index 444\n",
            "Key: Sample\n",
            "Dirty row: {'ProviderNumber': '20017', 'HospitalName': 'alaska regional hospital', 'Address1': '2801 debarr road', 'Address2': '', 'Address3': '', 'City': 'anchorage', 'State': 'ak', 'ZipCode': '99508', 'CountyName': 'anchorage', 'PhoneNumber': '9072761131', 'HospitalType': 'acute care hospitals', 'HospitalOwner': 'proprietary', 'EmergencyService': 'yes', 'Condition': 'surgical infection prevention', 'MeasureCode': 'scip-inf-2', 'MeasureName': 'surgery patients who were given the  right kind  of antibiotic to help prevent infection', 'Score': '98%', 'Sample': '521 patiexts', 'Stateavg': 'ak_scip-inf-2'}\n",
            "Clean row: {'ProviderNumber': '20017', 'HospitalName': 'alaska regional hospital', 'Address1': '2801 debarr road', 'Address2': '', 'Address3': '', 'City': 'anchorage', 'State': 'ak', 'ZipCode': '99508', 'CountyName': 'anchorage', 'PhoneNumber': '9072761131', 'HospitalType': 'acute care hospitals', 'HospitalOwner': 'proprietary', 'EmergencyService': 'yes', 'Condition': 'surgical infection prevention', 'MeasureCode': 'scip-inf-2', 'MeasureName': 'surgery patients who were given the  right kind  of antibiotic to help prevent infection', 'Score': '98%', 'Sample': '521 patients', 'Stateavg': 'ak_scip-inf-2'}\n",
            "Preprocessed row: {'ProviderNumber': '20017', 'HospitalName': 'alaska regional hospital', 'Address1': '2801 debarr road', 'Address2': '', 'Address3': '', 'City': 'anchorage', 'State': 'ak', 'ZipCode': '99508', 'CountyName': 'anchorage', 'PhoneNumber': '9072761131', 'HospitalType': 'acute care hospitals', 'HospitalOwner': 'proprietary', 'EmergencyService': 'yes', 'Condition': 'surgical infection prevention', 'MeasureCode': 'scip-inf-2', 'MeasureName': 'surgery patients who were given the right kind of antibiotic to help prevent infection', 'Score': '98%', 'Sample': '521 patients'}\n",
            "Correct repair found at index 449\n",
            "Key: HospitalOwner\n",
            "Dirty row: {'ProviderNumber': '20017', 'HospitalName': 'alaska regional hospital', 'Address1': '2801 debarr road', 'Address2': '', 'Address3': '', 'City': 'anchorage', 'State': 'ak', 'ZipCode': '99508', 'CountyName': 'anchorage', 'PhoneNumber': '9072761131', 'HospitalType': 'acute care hospitals', 'HospitalOwner': 'proxrietary', 'EmergencyService': 'yes', 'Condition': 'surgical infection prevention', 'MeasureCode': 'scip-vte-2', 'MeasureName': 'patients who got treatment  at the right time (within 24 hours before or after their surgery) to help prevent blood clots after certain types of surgery', 'Score': '94%', 'Sample': '223 patients', 'Stateavg': 'ak_scip-vte-2'}\n",
            "Clean row: {'ProviderNumber': '20017', 'HospitalName': 'alaska regional hospital', 'Address1': '2801 debarr road', 'Address2': '', 'Address3': '', 'City': 'anchorage', 'State': 'ak', 'ZipCode': '99508', 'CountyName': 'anchorage', 'PhoneNumber': '9072761131', 'HospitalType': 'acute care hospitals', 'HospitalOwner': 'proprietary', 'EmergencyService': 'yes', 'Condition': 'surgical infection prevention', 'MeasureCode': 'scip-vte-2', 'MeasureName': 'patients who got treatment  at the right time (within 24 hours before or after their surgery) to help prevent blood clots after certain types of surgery', 'Score': '94%', 'Sample': '223 patients', 'Stateavg': 'ak_scip-vte-2'}\n",
            "Preprocessed row: {'ProviderNumber': '20017', 'HospitalName': 'alaska regional hospital', 'Address1': '2801 debarr road', 'City': 'anchorage', 'State': 'ak', 'ZipCode': '99508', 'CountyName': 'anchorage', 'PhoneNumber': '9072761131', 'HospitalType': 'acute care hospitals', 'HospitalOwner': 'proprietary', 'EmergencyService': 'yes', 'Condition': 'surgical infection prevention', 'MeasureCode': 'scip-vte-2', 'MeasureName': 'patients who got treatment at the right time (within 24 hours before or after their surgery) to help prevent blood clots after certain types of surgery', 'Score': '94%', 'Sample': '223 patients'}\n",
            "Correct repair found at index 473\n",
            "Key: MeasureName\n",
            "Dirty row: {'ProviderNumber': '10021', 'HospitalName': 'dale medical center', 'Address1': '126 hospital ave', 'Address2': '', 'Address3': '', 'City': 'ozark', 'State': 'al', 'ZipCode': '36360', 'CountyName': 'dale', 'PhoneNumber': '3347742601', 'HospitalType': 'acute care hospitals', 'HospitalOwner': 'government - hospital district or authority', 'EmergencyService': 'yes', 'Condition': 'heart failure', 'MeasureCode': 'hf-1', 'MeasureName': 'heaxt failuxe patients given dischaxge instxuctions', 'Score': '66%', 'Sample': '79 patients', 'Stateavg': 'al_hf-1'}\n",
            "Clean row: {'ProviderNumber': '10021', 'HospitalName': 'dale medical center', 'Address1': '126 hospital ave', 'Address2': '', 'Address3': '', 'City': 'ozark', 'State': 'al', 'ZipCode': '36360', 'CountyName': 'dale', 'PhoneNumber': '3347742601', 'HospitalType': 'acute care hospitals', 'HospitalOwner': 'government - hospital district or authority', 'EmergencyService': 'yes', 'Condition': 'heart failure', 'MeasureCode': 'hf-1', 'MeasureName': 'heart failure patients given discharge instructions', 'Score': '66%', 'Sample': '79 patients', 'Stateavg': 'al_hf-1'}\n",
            "Preprocessed row: {'ProviderNumber': '10021', 'HospitalName': 'dale medical center', 'Address1': '126 hospital ave', 'Address2': '', 'Address3': '', 'City': 'ozark', 'State': 'al', 'ZipCode': '36360', 'CountyName': 'dale', 'PhoneNumber': '3347742601', 'HospitalType': 'acute care hospitals', 'HospitalOwner': 'government - hospital district or authority', 'EmergencyService': 'yes', 'Condition': 'heart failure', 'MeasureCode': 'hf-1', 'MeasureName': 'heart failure patients given discharge instructions', 'Score': '66%', 'Sample': '79 patients', 'Stateavg': 'al_hf-1'}\n",
            "Correct repair found at index 490\n",
            "Key: HospitalType\n",
            "Dirty row: {'ProviderNumber': '10021', 'HospitalName': 'dale medical center', 'Address1': '126 hospital ave', 'Address2': '', 'Address3': '', 'City': 'ozark', 'State': 'al', 'ZipCode': 'x6x60', 'CountyName': 'dale', 'PhoneNumber': '3347742601', 'HospitalType': 'acute caxe hospitals', 'HospitalOwner': 'government - hospital district or authority', 'EmergencyService': 'yes', 'Condition': 'surgical infection prevention', 'MeasureCode': 'scip-vte-2', 'MeasureName': 'patients who got treatment  at the right time (within 24 hours before or after their surgery) to help prevent blood clots after certain types of surgery', 'Score': '68%', 'Sample': '50 patients', 'Stateavg': 'al_scip-vte-2'}\n",
            "Clean row: {'ProviderNumber': '10021', 'HospitalName': 'dale medical center', 'Address1': '126 hospital ave', 'Address2': '', 'Address3': '', 'City': 'ozark', 'State': 'al', 'ZipCode': '36360', 'CountyName': 'dale', 'PhoneNumber': '3347742601', 'HospitalType': 'acute care hospitals', 'HospitalOwner': 'government - hospital district or authority', 'EmergencyService': 'yes', 'Condition': 'surgical infection prevention', 'MeasureCode': 'scip-vte-2', 'MeasureName': 'patients who got treatment  at the right time (within 24 hours before or after their surgery) to help prevent blood clots after certain types of surgery', 'Score': '68%', 'Sample': '50 patients', 'Stateavg': 'al_scip-vte-2'}\n",
            "Preprocessed row: {'ProviderNumber': '10021', 'HospitalName': 'dale medical center', 'Address1': '126 hospital ave', 'Address2': '', 'Address3': '', 'City': 'Ozark', 'State': 'al', 'ZipCode': 'x6x60', 'CountyName': 'dale', 'PhoneNumber': '3347742601', 'HospitalType': 'acute care hospitals', 'HospitalOwner': 'government - hospital district or authority', 'EmergencyService': 'yes', 'Condition': 'surgical infection prevention', 'MeasureCode': 'scip-vte-2', 'MeasureName': 'patients who got treatment at the right time (within 24 hours before or after their surgery) to help prevent blood clots after certain types of surgery', 'Score': '68%', 'Sample': '50 patients'}\n",
            "Correct repair found at index 496\n",
            "Key: Sample\n",
            "Dirty row: {'ProviderNumber': '10022', 'HospitalName': 'cherokee medical center', 'Address1': '400 northwood dr', 'Address2': '', 'Address3': '', 'City': 'centre', 'State': 'al', 'ZipCode': '35960', 'CountyName': 'cherokee', 'PhoneNumber': '2569275531', 'HospitalType': 'acute care hospitals', 'HospitalOwner': 'voluntary non-profit - private', 'EmergencyService': 'yes', 'Condition': 'heart attack', 'MeasureCode': 'ami-7a', 'MeasureName': 'heart attack patients given fibrinolytic medication within 30 minutes of arrival', 'Score': '', 'Sample': '0 patxents', 'Stateavg': 'al_ami-7a'}\n",
            "Clean row: {'ProviderNumber': '10022', 'HospitalName': 'cherokee medical center', 'Address1': '400 northwood dr', 'Address2': '', 'Address3': '', 'City': 'centre', 'State': 'al', 'ZipCode': '35960', 'CountyName': 'cherokee', 'PhoneNumber': '2569275531', 'HospitalType': 'acute care hospitals', 'HospitalOwner': 'voluntary non-profit - private', 'EmergencyService': 'yes', 'Condition': 'heart attack', 'MeasureCode': 'ami-7a', 'MeasureName': 'heart attack patients given fibrinolytic medication within 30 minutes of arrival', 'Score': '', 'Sample': '0 patients', 'Stateavg': 'al_ami-7a'}\n",
            "Preprocessed row: {'ProviderNumber': '10022', 'HospitalName': 'cherokee medical center', 'Address1': '400 northwood dr', 'Address2': '', 'Address3': '', 'City': 'centre', 'State': 'al', 'ZipCode': '35960', 'CountyName': 'cherokee', 'PhoneNumber': '2569275531', 'HospitalType': 'acute care hospitals', 'HospitalOwner': 'voluntary non-profit - private', 'EmergencyService': 'yes', 'Condition': 'heart attack', 'MeasureCode': 'ami-7a', 'MeasureName': 'heart attack patients given fibrinolytic medication within 30 minutes of arrival', 'Score': '', 'Sample': '0 patients', 'Stateavg': 'al_ami-7a'}\n",
            "Correct repair found at index 502\n",
            "Key: Sample\n",
            "Dirty row: {'ProviderNumber': '10022', 'HospitalName': 'cherokee medical center', 'Address1': '400 northwood dr', 'Address2': '', 'Address3': '', 'City': 'centre', 'State': 'al', 'ZipCode': '35960', 'CountyName': 'chxrokxx', 'PhoneNumber': '2569275531', 'HospitalType': 'acute care hospitals', 'HospitalOwner': 'voluntary non-profit - private', 'EmergencyService': 'yes', 'Condition': 'pneumonia', 'MeasureCode': 'pn-2', 'MeasureName': 'pneumonia patients assessed and given pneumococcal vaccination', 'Score': '93%', 'Sample': '44 paxienxs', 'Stateavg': 'al_pn-2'}\n",
            "Clean row: {'ProviderNumber': '10022', 'HospitalName': 'cherokee medical center', 'Address1': '400 northwood dr', 'Address2': '', 'Address3': '', 'City': 'centre', 'State': 'al', 'ZipCode': '35960', 'CountyName': 'cherokee', 'PhoneNumber': '2569275531', 'HospitalType': 'acute care hospitals', 'HospitalOwner': 'voluntary non-profit - private', 'EmergencyService': 'yes', 'Condition': 'pneumonia', 'MeasureCode': 'pn-2', 'MeasureName': 'pneumonia patients assessed and given pneumococcal vaccination', 'Score': '93%', 'Sample': '44 patients', 'Stateavg': 'al_pn-2'}\n",
            "Preprocessed row: {'ProviderNumber': '10022', 'HospitalName': 'cherokee medical center', 'Address1': '400 northwood dr', 'City': 'centre', 'State': 'al', 'ZipCode': '35960', 'CountyName': 'chxrokxx', 'PhoneNumber': '2569275531', 'HospitalType': 'acute care hospitals', 'HospitalOwner': 'voluntary non-profit - private', 'EmergencyService': 'yes', 'Condition': 'pneumonia', 'MeasureCode': 'pn-2', 'MeasureName': 'pneumonia patients assessed and given pneumococcal vaccination', 'Score': '93%', 'Sample': '44 patients', 'Stateavg': 'al_pn-2'}\n",
            "Correct repair found at index 527\n",
            "Key: CountyName\n",
            "Dirty row: {'ProviderNumber': '10023', 'HospitalName': 'baptist medical center south', 'Address1': '2105 east south boulevard', 'Address2': '', 'Address3': '', 'City': 'montgomery', 'State': 'al', 'ZipCode': '36116', 'CountyName': 'monxgomery', 'PhoneNumber': '3342882100', 'HospitalType': 'acute care hospitals', 'HospitalOwner': 'voluntary non-profit - church', 'EmergencyService': 'yes', 'Condition': 'pneumonia', 'MeasureCode': 'pn-2', 'MeasureName': 'pneumonia patients assessed and given pneumococcal vaccination', 'Score': '94%', 'Sample': '99 patients', 'Stateavg': 'al_pn-2'}\n",
            "Clean row: {'ProviderNumber': '10023', 'HospitalName': 'baptist medical center south', 'Address1': '2105 east south boulevard', 'Address2': '', 'Address3': '', 'City': 'montgomery', 'State': 'al', 'ZipCode': '36116', 'CountyName': 'montgomery', 'PhoneNumber': '3342882100', 'HospitalType': 'acute care hospitals', 'HospitalOwner': 'voluntary non-profit - church', 'EmergencyService': 'yes', 'Condition': 'pneumonia', 'MeasureCode': 'pn-2', 'MeasureName': 'pneumonia patients assessed and given pneumococcal vaccination', 'Score': '94%', 'Sample': '99 patients', 'Stateavg': 'al_pn-2'}\n",
            "Preprocessed row: {'ProviderNumber': '10023', 'HospitalName': 'baptist medical center south', 'Address1': '2105 east south boulevard', 'Address2': '', 'Address3': '', 'City': 'Montgomery', 'State': 'al', 'ZipCode': '36116', 'CountyName': 'montgomery', 'PhoneNumber': '3342882100', 'HospitalType': 'acute care hospitals', 'HospitalOwner': 'voluntary non-profit - church', 'EmergencyService': 'yes', 'Condition': 'pneumonia', 'MeasureCode': 'pn-2', 'MeasureName': 'pneumonia patients assessed and given pneumococcal vaccination', 'Score': '94', 'Sample': '99 patients', 'Stateavg': 'al_pn-2'}\n",
            "Correct repair found at index 532\n",
            "Key: HospitalType\n",
            "Dirty row: {'ProviderNumber': '10023', 'HospitalName': 'baptist medical cexter south', 'Address1': '2105 east south boulevard', 'Address2': '', 'Address3': '', 'City': 'montgomery', 'State': 'al', 'ZipCode': '36116', 'CountyName': 'montgomery', 'PhoneNumber': '3342882100', 'HospitalType': 'acute care hosxitals', 'HospitalOwner': 'voluntary non-profit - church', 'EmergencyService': 'yes', 'Condition': 'pneumonia', 'MeasureCode': 'pn-7', 'MeasureName': 'pxeumoxia patiexts assessed axd givex ixfluexza vaccixatiox', 'Score': '92%', 'Sample': '87 patientx', 'Stateavg': 'al_pn-7'}\n",
            "Clean row: {'ProviderNumber': '10023', 'HospitalName': 'baptist medical center south', 'Address1': '2105 east south boulevard', 'Address2': '', 'Address3': '', 'City': 'montgomery', 'State': 'al', 'ZipCode': '36116', 'CountyName': 'montgomery', 'PhoneNumber': '3342882100', 'HospitalType': 'acute care hospitals', 'HospitalOwner': 'voluntary non-profit - church', 'EmergencyService': 'yes', 'Condition': 'pneumonia', 'MeasureCode': 'pn-7', 'MeasureName': 'pneumonia patients assessed and given influenza vaccination', 'Score': '92%', 'Sample': '87 patients', 'Stateavg': 'al_pn-7'}\n",
            "Preprocessed row: {'ProviderNumber': '10023', 'HospitalName': 'baptist medical cexter south', 'Address1': '2105 east south boulevard', 'Address2': '', 'Address3': '', 'City': 'montgomery', 'State': 'al', 'ZipCode': '36116', 'CountyName': 'montgomery', 'PhoneNumber': '3342882100', 'HospitalType': 'acute care hospitals', 'HospitalOwner': 'voluntary non-profit - church', 'EmergencyService': 'yes', 'Condition': 'pneumonia', 'MeasureCode': 'pn-7', 'MeasureName': 'Pneumonia Patients Treated', 'Score': '92%', 'Sample': '87 patient', 'Stateavg': 'al_pn-7'}\n",
            "Correct repair found at index 551\n",
            "Key: CountyName\n",
            "Dirty row: {'ProviderNumber': '10024', 'HospitalName': 'jackson hospital & clinic inc', 'Address1': '1725 pine street', 'Address2': '', 'Address3': '', 'City': 'montgomery', 'State': 'al', 'ZipCode': '36106', 'CountyName': 'monxgomery', 'PhoneNumber': '3342938000', 'HospitalType': 'acute care hospitals', 'HospitalOwner': 'voluntary non-profit - private', 'EmergencyService': 'yes', 'Condition': 'heart failure', 'MeasureCode': 'hf-4', 'MeasureName': 'heart failure patients given smoking cessation advice/counseling', 'Score': '99%', 'Sample': '93 patients', 'Stateavg': 'al_hf-4'}\n",
            "Clean row: {'ProviderNumber': '10024', 'HospitalName': 'jackson hospital & clinic inc', 'Address1': '1725 pine street', 'Address2': '', 'Address3': '', 'City': 'montgomery', 'State': 'al', 'ZipCode': '36106', 'CountyName': 'montgomery', 'PhoneNumber': '3342938000', 'HospitalType': 'acute care hospitals', 'HospitalOwner': 'voluntary non-profit - private', 'EmergencyService': 'yes', 'Condition': 'heart failure', 'MeasureCode': 'hf-4', 'MeasureName': 'heart failure patients given smoking cessation advice/counseling', 'Score': '99%', 'Sample': '93 patients', 'Stateavg': 'al_hf-4'}\n",
            "Preprocessed row: {'ProviderNumber': '10024', 'HospitalName': 'jackson hospital & clinic inc', 'Address1': '1725 pine street', 'Address2': '', 'Address3': '', 'City': 'montgomery', 'State': 'al', 'ZipCode': '36106', 'CountyName': 'montgomery', 'PhoneNumber': '334-938-3000', 'HospitalType': 'acute care hospitals', 'HospitalOwner': 'voluntary non-profit - private', 'EmergencyService': 'yes', 'Condition': 'heart failure', 'MeasureCode': 'hf-4', 'MeasureName': 'heart failure patients given smoking cessation advice/counseling', 'Score': '99%', 'Sample': '93 patients', 'Stateavg': 'al_hf-4'}\n",
            "Correct repair found at index 554\n",
            "Key: Sample\n",
            "Dirty row: {'ProviderNumber': '10024', 'HospitalName': 'jackson hospital & clinic inc', 'Address1': '1725 pine street', 'Address2': '', 'Address3': '', 'City': 'montgomery', 'State': 'al', 'ZipCode': '36106', 'CountyName': 'montgomery', 'PhoneNumber': '3342938000', 'HospitalType': 'acute care hospitals', 'HospitalOwner': 'voluntary non-profit - private', 'EmergencyService': 'yes', 'Condition': 'pneumonia', 'MeasureCode': 'pn-4', 'MeasureName': 'pneumonia patients given smoking cessation advice/counseling', 'Score': '91%', 'Sample': '74 patxents', 'Stateavg': 'al_pn-4'}\n",
            "Clean row: {'ProviderNumber': '10024', 'HospitalName': 'jackson hospital & clinic inc', 'Address1': '1725 pine street', 'Address2': '', 'Address3': '', 'City': 'montgomery', 'State': 'al', 'ZipCode': '36106', 'CountyName': 'montgomery', 'PhoneNumber': '3342938000', 'HospitalType': 'acute care hospitals', 'HospitalOwner': 'voluntary non-profit - private', 'EmergencyService': 'yes', 'Condition': 'pneumonia', 'MeasureCode': 'pn-4', 'MeasureName': 'pneumonia patients given smoking cessation advice/counseling', 'Score': '91%', 'Sample': '74 patients', 'Stateavg': 'al_pn-4'}\n",
            "Preprocessed row: {'ProviderNumber': '10024', 'HospitalName': 'jackson hospital & clinic inc', 'Address1': '1725 pine street', 'City': 'montgomery', 'State': 'al', 'ZipCode': '36106', 'CountyName': 'montgomery', 'PhoneNumber': '3342938000', 'HospitalType': 'acute care hospitals', 'HospitalOwner': 'voluntary non-profit - private', 'EmergencyService': 'yes', 'Condition': 'pneumonia', 'MeasureCode': 'pn-4', 'MeasureName': 'pneumonia patients given smoking cessation advice/counseling', 'Score': '91%', 'Sample': '74 patients'}\n",
            "Correct repair found at index 572\n",
            "Key: State\n",
            "Dirty row: {'ProviderNumber': '10025', 'HospitalName': 'g h lanier memorial hospital', 'Address1': '4800 48th st', 'Address2': '', 'Address3': '', 'City': 'valley', 'State': 'ax', 'ZipCode': '36854', 'CountyName': 'chambers', 'PhoneNumber': '334x561400', 'HospitalType': 'acute care hospitals', 'HospitalOwner': 'voluntary non-profit - otxer', 'EmergencyService': 'yes', 'Condition': 'heart attack', 'MeasureCode': 'ami-8a', 'MeasureName': 'heart attack patients given pci within 90 minutes of arrival', 'Score': '', 'Sample': '0 patients', 'Stateavg': 'al_ami-8a'}\n",
            "Clean row: {'ProviderNumber': '10025', 'HospitalName': 'g h lanier memorial hospital', 'Address1': '4800 48th st', 'Address2': '', 'Address3': '', 'City': 'valley', 'State': 'al', 'ZipCode': '36854', 'CountyName': 'chambers', 'PhoneNumber': '3347561400', 'HospitalType': 'acute care hospitals', 'HospitalOwner': 'voluntary non-profit - other', 'EmergencyService': 'yes', 'Condition': 'heart attack', 'MeasureCode': 'ami-8a', 'MeasureName': 'heart attack patients given pci within 90 minutes of arrival', 'Score': '', 'Sample': '0 patients', 'Stateavg': 'al_ami-8a'}\n",
            "Preprocessed row: {'ProviderNumber': '10025', 'HospitalName': 'g h lanier memorial hospital', 'Address1': '4800 48th st', 'City': 'valley', 'State': 'al', 'ZipCode': '36854', 'CountyName': 'chambers', 'PhoneNumber': '334x561400', 'HospitalType': 'acute care hospitals', 'HospitalOwner': 'voluntary non-profit - otxer', 'EmergencyService': 'yes', 'Condition': 'heart attack', 'MeasureCode': 'ami-8a', 'Score': '', 'Sample': '0 patients'}\n",
            "Correct repair found at index 588\n",
            "Key: Sample\n",
            "Dirty row: {'ProviderNumber': '10025', 'HospitalName': 'g h lanier memorial hospital', 'Address1': '4800 48th st', 'Address2': '', 'Address3': '', 'City': 'valley', 'State': 'al', 'ZipCode': '36854', 'CountyName': 'chambers', 'PhoneNumber': '3347561400', 'HospitalType': 'acuxe care hospixals', 'HospitalOwner': 'voluntary non-profit - other', 'EmergencyService': 'yes', 'Condition': 'surgical infection prevention', 'MeasureCode': 'scip-inf-6', 'MeasureName': 'surgery patients needing hair removed from the surgical area before surgery who had hair removed using a safer method (electric clippers or hair removal cream c not a razor)', 'Score': '96%', 'Sample': '172 patxents', 'Stateavg': 'al_scip-inf-6'}\n",
            "Clean row: {'ProviderNumber': '10025', 'HospitalName': 'g h lanier memorial hospital', 'Address1': '4800 48th st', 'Address2': '', 'Address3': '', 'City': 'valley', 'State': 'al', 'ZipCode': '36854', 'CountyName': 'chambers', 'PhoneNumber': '3347561400', 'HospitalType': 'acute care hospitals', 'HospitalOwner': 'voluntary non-profit - other', 'EmergencyService': 'yes', 'Condition': 'surgical infection prevention', 'MeasureCode': 'scip-inf-6', 'MeasureName': 'surgery patients needing hair removed from the surgical area before surgery who had hair removed using a safer method (electric clippers or hair removal cream c not a razor)', 'Score': '96%', 'Sample': '172 patients', 'Stateavg': 'al_scip-inf-6'}\n",
            "Preprocessed row: {'ProviderNumber': '10025', 'HospitalName': 'g h lanier memorial hospital', 'Address1': '4800 48th st', 'Address2': '', 'Address3': '', 'City': 'valley', 'State': 'al', 'ZipCode': '36854', 'CountyName': 'chambers', 'PhoneNumber': '3347561400', 'HospitalType': 'acuxe care hospixals', 'HospitalOwner': 'voluntary non-profit - other', 'EmergencyService': 'yes', 'Condition': 'surgical infection prevention', 'MeasureCode': 'scip-inf-6', 'MeasureName': 'surgery patients needing hair removed from the surgical area before surgery who had hair removed using a safer method (electric clippers or hair removal cream c not a razor)', 'Score': '96%', 'Sample': '172 patients'}\n",
            "Correct repair found at index 599\n",
            "Key: Condition\n",
            "Dirty row: {'ProviderNumber': '10027', 'HospitalName': 'elba general hospital', 'Address1': '987 drayton street', 'Address2': '', 'Address3': '', 'City': 'elba', 'State': 'al', 'ZipCode': '36323', 'CountyName': 'coffee', 'PhoneNumber': '3348972257', 'HospitalType': 'acute care hospitals', 'HospitalOwner': 'voluntary non-profit - other', 'EmergencyService': 'yes', 'Condition': 'heart faixure', 'MeasureCode': 'hf-2', 'MeasureName': 'heart failure patients given an evaluation of left ventricular systolic (lvs) function', 'Score': '100%', 'Sample': '3 patients', 'Stateavg': 'al_hf-2'}\n",
            "Clean row: {'ProviderNumber': '10027', 'HospitalName': 'elba general hospital', 'Address1': '987 drayton street', 'Address2': '', 'Address3': '', 'City': 'elba', 'State': 'al', 'ZipCode': '36323', 'CountyName': 'coffee', 'PhoneNumber': '3348972257', 'HospitalType': 'acute care hospitals', 'HospitalOwner': 'voluntary non-profit - other', 'EmergencyService': 'yes', 'Condition': 'heart failure', 'MeasureCode': 'hf-2', 'MeasureName': 'heart failure patients given an evaluation of left ventricular systolic (lvs) function', 'Score': '100%', 'Sample': '3 patients', 'Stateavg': 'al_hf-2'}\n",
            "Preprocessed row: {'ProviderNumber': '10027', 'HospitalName': 'elba general hospital', 'Address1': '987 drayton street', 'Address2': '', 'Address3': '', 'City': 'elba', 'State': 'al', 'ZipCode': '36323', 'CountyName': 'coffee', 'PhoneNumber': '3348972257', 'HospitalType': 'acute care hospitals', 'HospitalOwner': 'voluntary non-profit - other', 'EmergencyService': 'yes', 'Condition': 'heart failure', 'MeasureCode': 'hf-2', 'MeasureName': 'heart failure patients given an evaluation of left ventricular systolic (lvs) function', 'Score': '100%', 'Sample': '3 patients'}\n",
            "Correct repair found at index 668\n",
            "Key: Sample\n",
            "Dirty row: {'ProviderNumber': '10033', 'HospitalName': 'university of alabama hospital', 'Address1': '619 south 19th street', 'Address2': '', 'Address3': '', 'City': 'birmingham', 'State': 'al', 'ZipCode': '35233', 'CountyName': 'jefferson', 'PhoneNumber': '2059344011', 'HospitalType': 'acute care hospitals', 'HospitalOwner': 'government - state', 'EmergencyService': 'yes', 'Condition': 'heart attack', 'MeasureCode': 'ami-3', 'MeasureName': 'heart attack patients given ace inhibitor or arb for left ventricular systolic dysfunction (lvsd)', 'Score': '91%', 'Sample': '87 paxienxs', 'Stateavg': 'al_ami-3'}\n",
            "Clean row: {'ProviderNumber': '10033', 'HospitalName': 'university of alabama hospital', 'Address1': '619 south 19th street', 'Address2': '', 'Address3': '', 'City': 'birmingham', 'State': 'al', 'ZipCode': '35233', 'CountyName': 'jefferson', 'PhoneNumber': '2059344011', 'HospitalType': 'acute care hospitals', 'HospitalOwner': 'government - state', 'EmergencyService': 'yes', 'Condition': 'heart attack', 'MeasureCode': 'ami-3', 'MeasureName': 'heart attack patients given ace inhibitor or arb for left ventricular systolic dysfunction (lvsd)', 'Score': '91%', 'Sample': '87 patients', 'Stateavg': 'al_ami-3'}\n",
            "Preprocessed row: {'ProviderNumber': '10033', 'HospitalName': 'university of alabama hospital', 'Address1': '619 south 19th street', 'Address2': '', 'Address3': '', 'City': 'Birmingham', 'State': 'al', 'ZipCode': '35233', 'CountyName': 'jefferson', 'PhoneNumber': '205-934-4411', 'HospitalType': 'acute care hospitals', 'HospitalOwner': 'government - state', 'EmergencyService': 'yes', 'Condition': 'heart attack', 'MeasureCode': 'ami-3', 'MeasureName': 'heart attack patients given ace inhibitor or arb for left ventricular systolic dysfunction (lvsd)', 'Score': '91%', 'Sample': '87 patients', 'Stateavg': 'al_ami-3'}\n",
            "Correct repair found at index 695\n",
            "Key: Condition\n",
            "Dirty row: {'ProviderNumber': '10034', 'HospitalName': 'community hospital inc', 'Address1': '805 friendship road', 'Address2': '', 'Address3': '', 'City': 'tallassee', 'State': 'al', 'ZipCode': '36078', 'CountyName': 'elmore', 'PhoneNumber': '3342836541', 'HospitalType': 'acute cxre hospitxls', 'HospitalOwner': 'voluntary non-profit - private', 'EmergencyService': 'no', 'Condition': 'heart attaxk', 'MeasureCode': 'ami-5', 'MeasureName': 'heart attack patients given beta blocker at discharge', 'Score': '75%', 'Sample': '4 patients', 'Stateavg': 'al_ami-5'}\n",
            "Clean row: {'ProviderNumber': '10034', 'HospitalName': 'community hospital inc', 'Address1': '805 friendship road', 'Address2': '', 'Address3': '', 'City': 'tallassee', 'State': 'al', 'ZipCode': '36078', 'CountyName': 'elmore', 'PhoneNumber': '3342836541', 'HospitalType': 'acute care hospitals', 'HospitalOwner': 'voluntary non-profit - private', 'EmergencyService': 'no', 'Condition': 'heart attack', 'MeasureCode': 'ami-5', 'MeasureName': 'heart attack patients given beta blocker at discharge', 'Score': '75%', 'Sample': '4 patients', 'Stateavg': 'al_ami-5'}\n",
            "Preprocessed row: {'ProviderNumber': '10034', 'HospitalName': 'community hospital inc', 'Address1': '805 friendship road', 'City': 'Tallassee', 'State': 'al', 'ZipCode': '36078', 'CountyName': 'elmore', 'PhoneNumber': '3342836541', 'HospitalType': 'acute cxre hospitxls', 'HospitalOwner': 'voluntary non-profit - private', 'EmergencyService': 'no', 'Condition': 'heart attack', 'MeasureCode': 'ami-5', 'MeasureName': 'heart attack patients given beta blocker at discharge', 'Score': '75%', 'Sample': '4 patients'}\n",
            "Correct repair found at index 698\n",
            "Key: Condition\n",
            "Dirty row: {'ProviderNumber': '10034', 'HospitalName': 'community hospital inc', 'Address1': '805 friendship road', 'Address2': '', 'Address3': '', 'City': 'tallassee', 'State': 'al', 'ZipCode': '36078', 'CountyName': 'elxore', 'PhoneNumber': '3342836541', 'HospitalType': 'acute care hospitals', 'HospitalOwner': 'voluntary non-profit - private', 'EmergencyService': 'no', 'Condition': 'hexrt fxilure', 'MeasureCode': 'hf-1', 'MeasureName': 'heart failure patients given discharge instructions', 'Score': 'xx%', 'Sample': '65 patients', 'Stateavg': 'al_hf-1'}\n",
            "Clean row: {'ProviderNumber': '10034', 'HospitalName': 'community hospital inc', 'Address1': '805 friendship road', 'Address2': '', 'Address3': '', 'City': 'tallassee', 'State': 'al', 'ZipCode': '36078', 'CountyName': 'elmore', 'PhoneNumber': '3342836541', 'HospitalType': 'acute care hospitals', 'HospitalOwner': 'voluntary non-profit - private', 'EmergencyService': 'no', 'Condition': 'heart failure', 'MeasureCode': 'hf-1', 'MeasureName': 'heart failure patients given discharge instructions', 'Score': '88%', 'Sample': '65 patients', 'Stateavg': 'al_hf-1'}\n",
            "Preprocessed row: {'ProviderNumber': '10034', 'HospitalName': 'community hospital inc', 'Address1': '805 friendship road', 'City': 'tallassee', 'State': 'al', 'ZipCode': '36078', 'CountyName': 'elxore', 'PhoneNumber': '3342836541', 'HospitalType': 'acute care hospitals', 'HospitalOwner': 'voluntary non-profit - private', 'EmergencyService': 'no', 'Condition': 'heart failure', 'MeasureCode': 'hf-1', 'MeasureName': 'heart failure patients given discharge instructions', 'Score': 'xx%', 'Sample': '65 patients'}\n",
            "Correct repair found at index 712\n",
            "Key: Condition\n",
            "Dirty row: {'ProviderNumber': '10034', 'HospitalName': 'community hospital inc', 'Address1': '805 friendship road', 'Address2': '', 'Address3': '', 'City': 'tallassee', 'State': 'al', 'ZipCode': '36078', 'CountyName': 'elmore', 'PhoneNumber': '3342836541', 'HospitalType': 'acute care hospitals', 'HospitalOwner': 'voluntary non-profit - private', 'EmergencyService': 'no', 'Condition': 'surgical infection xrevention', 'MeasureCode': 'scip-inf-4', 'MeasureName': 'all heart surgery patients whose blood sugar (blood glucose) is kept under good control in the days right after surgery', 'Score': '', 'Sample': '0 patients', 'Stateavg': 'al_scip-inf-4'}\n",
            "Clean row: {'ProviderNumber': '10034', 'HospitalName': 'community hospital inc', 'Address1': '805 friendship road', 'Address2': '', 'Address3': '', 'City': 'tallassee', 'State': 'al', 'ZipCode': '36078', 'CountyName': 'elmore', 'PhoneNumber': '3342836541', 'HospitalType': 'acute care hospitals', 'HospitalOwner': 'voluntary non-profit - private', 'EmergencyService': 'no', 'Condition': 'surgical infection prevention', 'MeasureCode': 'scip-inf-4', 'MeasureName': 'all heart surgery patients whose blood sugar (blood glucose) is kept under good control in the days right after surgery', 'Score': '', 'Sample': '0 patients', 'Stateavg': 'al_scip-inf-4'}\n",
            "Preprocessed row: {'ProviderNumber': '10034', 'HospitalName': 'community hospital inc', 'Address1': '805 friendship road', 'Address2': '', 'Address3': '', 'City': 'tallassee', 'State': 'al', 'ZipCode': '36078', 'CountyName': 'elmore', 'PhoneNumber': '3342836541', 'HospitalType': 'acute care hospitals', 'HospitalOwner': 'voluntary non-profit - private', 'EmergencyService': 'no', 'Condition': 'surgical infection prevention', 'MeasureCode': 'scip-inf-4', 'MeasureName': 'all heart surgery patients whose blood sugar (blood glucose) is kept under good control in the days right after surgery', 'Score': '', 'Sample': '0 patients', 'Stateavg': 'al_scip-inf-4'}\n",
            "Correct repair found at index 722\n",
            "Key: CountyName\n",
            "Dirty row: {'ProviderNumber': '10035', 'HospitalName': 'cullman regional medical center', 'Address1': '1912 alabama highway 157', 'Address2': '', 'Address3': '', 'City': 'cullman', 'State': 'al', 'ZipCode': '35058', 'CountyName': 'cxllman', 'PhoneNumber': '2567372000', 'HospitalType': 'acute care hospitals', 'HospitalOwner': 'government - hospital district or authority', 'EmergencyService': 'yes', 'Condition': 'heart attack', 'MeasureCode': 'ami-8a', 'MeasureName': 'heart attack patients given pci within 90 minutes of arrival', 'Score': '', 'Sample': '0 patients', 'Stateavg': 'al_ami-8a'}\n",
            "Clean row: {'ProviderNumber': '10035', 'HospitalName': 'cullman regional medical center', 'Address1': '1912 alabama highway 157', 'Address2': '', 'Address3': '', 'City': 'cullman', 'State': 'al', 'ZipCode': '35058', 'CountyName': 'cullman', 'PhoneNumber': '2567372000', 'HospitalType': 'acute care hospitals', 'HospitalOwner': 'government - hospital district or authority', 'EmergencyService': 'yes', 'Condition': 'heart attack', 'MeasureCode': 'ami-8a', 'MeasureName': 'heart attack patients given pci within 90 minutes of arrival', 'Score': '', 'Sample': '0 patients', 'Stateavg': 'al_ami-8a'}\n",
            "Preprocessed row: {'ProviderNumber': '10035', 'HospitalName': 'cullman regional medical center', 'Address1': '1912 alabama highway 157', 'City': 'cullman', 'State': 'al', 'ZipCode': '35058', 'CountyName': 'cullman', 'PhoneNumber': '2567372000', 'HospitalType': 'acute care hospitals', 'HospitalOwner': 'government - hospital district or authority', 'EmergencyService': 'yes', 'Condition': 'heart attack', 'MeasureCode': 'ami-8a', 'MeasureName': 'heart attack patients given pci within 90 minutes of arrival', 'Score': '0 patients', 'Stateavg': 'al_ami-8a'}\n",
            "Correct repair found at index 736\n",
            "Key: City\n",
            "Dirty row: {'ProviderNumber': '10035', 'HospitalName': 'cullman regional medical center', 'Address1': '1912xalabamaxhighwayx157', 'Address2': '', 'Address3': '', 'City': 'cuxxman', 'State': 'al', 'ZipCode': '35058', 'CountyName': 'cullman', 'PhoneNumber': '2567372000', 'HospitalType': 'acute care hospitals', 'HospitalOwner': 'government - hospital district or authority', 'EmergencyService': 'yes', 'Condition': 'surgical infection prevention', 'MeasureCode': 'scip-inf-3', 'MeasureName': 'surgery patients whose preventive antibiotics were stopped at the right time (within 24 hours after surgery)', 'Score': '98%', 'Sample': '405 patients', 'Stateavg': 'al_scip-inf-3'}\n",
            "Clean row: {'ProviderNumber': '10035', 'HospitalName': 'cullman regional medical center', 'Address1': '1912 alabama highway 157', 'Address2': '', 'Address3': '', 'City': 'cullman', 'State': 'al', 'ZipCode': '35058', 'CountyName': 'cullman', 'PhoneNumber': '2567372000', 'HospitalType': 'acute care hospitals', 'HospitalOwner': 'government - hospital district or authority', 'EmergencyService': 'yes', 'Condition': 'surgical infection prevention', 'MeasureCode': 'scip-inf-3', 'MeasureName': 'surgery patients whose preventive antibiotics were stopped at the right time (within 24 hours after surgery)', 'Score': '98%', 'Sample': '405 patients', 'Stateavg': 'al_scip-inf-3'}\n",
            "Preprocessed row: {'ProviderNumber': '10035', 'HospitalName': 'cullman regional medical center', 'Address1': '1912xalabamahighwayx157', 'Address2': '', 'Address3': '', 'City': 'cullman', 'State': 'al', 'ZipCode': '35058', 'CountyName': 'cullman', 'PhoneNumber': '2567372000', 'HospitalType': 'acute care hospitals', 'HospitalOwner': 'government - hospital district or authority', 'EmergencyService': 'yes', 'Condition': 'surgical infection prevention', 'MeasureCode': 'scip-inf-3', 'MeasureName': 'surgery patients whose preventive antibiotics were stopped at the right time (within 24 hours after surgery)', 'Score': '98%', 'Sample': '405 patients'}\n",
            "Correct repair found at index 776\n",
            "Key: Sample\n",
            "Dirty row: {'ProviderNumber': '10039', 'HospitalName': 'huntsville hospital', 'Address1': '101 sivley rd', 'Address2': '', 'Address3': '', 'City': 'huntsville', 'State': 'al', 'ZipCode': '35801', 'CountyName': 'madison', 'PhoneNumber': '2562651000', 'HospitalType': 'acute care hospitals', 'HospitalOwner': 'government - hospital district or authority', 'EmergencyService': 'yes', 'Condition': 'children s asthma care', 'MeasureCode': 'cac-3', 'MeasureName': 'children and their caregivers who received a home management plan of care document while hospitalized for asthma', 'Score': '14%', 'Sample': '193 paxienxs', 'Stateavg': 'al_cac-3'}\n",
            "Clean row: {'ProviderNumber': '10039', 'HospitalName': 'huntsville hospital', 'Address1': '101 sivley rd', 'Address2': '', 'Address3': '', 'City': 'huntsville', 'State': 'al', 'ZipCode': '35801', 'CountyName': 'madison', 'PhoneNumber': '2562651000', 'HospitalType': 'acute care hospitals', 'HospitalOwner': 'government - hospital district or authority', 'EmergencyService': 'yes', 'Condition': 'children s asthma care', 'MeasureCode': 'cac-3', 'MeasureName': 'children and their caregivers who received a home management plan of care document while hospitalized for asthma', 'Score': '14%', 'Sample': '193 patients', 'Stateavg': 'al_cac-3'}\n",
            "Preprocessed row: {'ProviderNumber': '10039', 'HospitalName': 'huntsville hospital', 'Address1': '101 sivley rd', 'Address2': '', 'Address3': '', 'City': 'alabama', 'State': 'al', 'ZipCode': '35801', 'CountyName': 'madison', 'PhoneNumber': '2562651000', 'HospitalType': 'acute care hospitals', 'HospitalOwner': 'government - hospital district or authority', 'EmergencyService': 'yes', 'Condition': 'children s asthma care', 'MeasureCode': 'cac-3', 'MeasureName': 'children and their caregivers who received a home management plan of care document while hospitalized for asthma', 'Score': '14%', 'Sample': '193 patients'}\n",
            "Correct repair found at index 780\n",
            "Key: Condition\n",
            "Dirty row: {'ProviderNumber': '1003x', 'HospitalName': 'huntsville hospital', 'Address1': '101 sivley rd', 'Address2': '', 'Address3': '', 'City': 'huntsville', 'State': 'al', 'ZipCode': '35801', 'CountyName': 'madison', 'PhoneNumber': '2562651000', 'HospitalType': 'acute care hospitals', 'HospitalOwner': 'government - hospital district or authority', 'EmergencyService': 'yes', 'Condition': 'heart attaxk', 'MeasureCode': 'ami-4', 'MeasureName': 'heart attack patients given smoking cessation advice/counseling', 'Score': '100%', 'Sample': '135 patients', 'Stateavg': 'al_ami-4'}\n",
            "Clean row: {'ProviderNumber': '10039', 'HospitalName': 'huntsville hospital', 'Address1': '101 sivley rd', 'Address2': '', 'Address3': '', 'City': 'huntsville', 'State': 'al', 'ZipCode': '35801', 'CountyName': 'madison', 'PhoneNumber': '2562651000', 'HospitalType': 'acute care hospitals', 'HospitalOwner': 'government - hospital district or authority', 'EmergencyService': 'yes', 'Condition': 'heart attack', 'MeasureCode': 'ami-4', 'MeasureName': 'heart attack patients given smoking cessation advice/counseling', 'Score': '100%', 'Sample': '135 patients', 'Stateavg': 'al_ami-4'}\n",
            "Preprocessed row: {'ProviderNumber': '1003x', 'HospitalName': 'huntsville hospital', 'Address1': '101 sivley rd', 'Address2': '', 'Address3': '', 'City': 'huntsville', 'State': 'al', 'ZipCode': '35801', 'CountyName': 'madison', 'PhoneNumber': '2562651000', 'HospitalType': 'acute care hospitals', 'HospitalOwner': 'government - hospital district or authority', 'EmergencyService': 'yes', 'Condition': 'heart attack', 'MeasureCode': 'ami-4', 'MeasureName': 'heart attack patients given smoking cessation advice/counseling', 'Score': '100%', 'Sample': '135 patients', 'Stateavg': 'al_ami-4'}\n",
            "Correct repair found at index 787\n",
            "Key: Stateavg\n",
            "Dirty row: {'ProviderNumber': '10039', 'HospitalName': 'huntsville hospital', 'Address1': '101 sivley rd', 'Address2': '', 'Address3': '', 'City': 'huntsville', 'State': 'al', 'ZipCode': '35801', 'CountyName': 'madison', 'PhoneNumber': '2562651000', 'HospitalType': 'acute care hospitals', 'HospitalOwner': 'government - hospital district or authority', 'EmergencyService': 'yes', 'Condition': 'heart failure', 'MeasureCode': 'hf-4', 'MeasureName': 'heart failure patients given smoking cessation advice/counseling', 'Score': '100%', 'Sample': '51 patients', 'Stateavg': 'al_hf-x'}\n",
            "Clean row: {'ProviderNumber': '10039', 'HospitalName': 'huntsville hospital', 'Address1': '101 sivley rd', 'Address2': '', 'Address3': '', 'City': 'huntsville', 'State': 'al', 'ZipCode': '35801', 'CountyName': 'madison', 'PhoneNumber': '2562651000', 'HospitalType': 'acute care hospitals', 'HospitalOwner': 'government - hospital district or authority', 'EmergencyService': 'yes', 'Condition': 'heart failure', 'MeasureCode': 'hf-4', 'MeasureName': 'heart failure patients given smoking cessation advice/counseling', 'Score': '100%', 'Sample': '51 patients', 'Stateavg': 'al_hf-4'}\n",
            "Preprocessed row: {'ProviderNumber': '10039', 'HospitalName': 'huntsville hospital', 'Address1': '101 sivley rd', 'City': 'huntsville', 'State': 'al', 'ZipCode': '35801', 'CountyName': 'madison', 'PhoneNumber': '2562651000', 'HospitalType': 'acute care hospitals', 'HospitalOwner': 'government - hospital district or authority', 'EmergencyService': 'yes', 'MeasureCode': 'hf-4', 'MeasureName': 'heart failure patients given smoking cessation advice/counseling', 'Score': '100%', 'Sample': '51 patients', 'Stateavg': 'al_hf-4'}\n",
            "Correct repair found at index 802\n",
            "Key: MeasureName\n",
            "Dirty row: {'ProviderNumber': '10040', 'HospitalName': 'gadsden regional medical center', 'Address1': '1007 goodyear avenue', 'Address2': '', 'Address3': '', 'City': 'gadsden', 'State': 'al', 'ZipCode': '35903', 'CountyName': 'etowah', 'PhoneNumber': '2564944000', 'HospitalType': 'acute care hospitals', 'HospitalOwner': 'proprietary', 'EmergencyService': 'yes', 'Condition': 'heart attack', 'MeasureCode': 'ami-1', 'MeasureName': 'heart attack patxents gxven aspxrxn at arrxval', 'Score': '94%', 'Sample': '123 patients', 'Stateavg': 'al_ami-1'}\n",
            "Clean row: {'ProviderNumber': '10040', 'HospitalName': 'gadsden regional medical center', 'Address1': '1007 goodyear avenue', 'Address2': '', 'Address3': '', 'City': 'gadsden', 'State': 'al', 'ZipCode': '35903', 'CountyName': 'etowah', 'PhoneNumber': '2564944000', 'HospitalType': 'acute care hospitals', 'HospitalOwner': 'proprietary', 'EmergencyService': 'yes', 'Condition': 'heart attack', 'MeasureCode': 'ami-1', 'MeasureName': 'heart attack patients given aspirin at arrival', 'Score': '94%', 'Sample': '123 patients', 'Stateavg': 'al_ami-1'}\n",
            "Preprocessed row: {'ProviderNumber': '10040', 'HospitalName': 'gadsden regional medical center', 'Address1': '1007 goodyear avenue', 'Address2': '', 'Address3': '', 'City': 'gadsden', 'State': 'al', 'ZipCode': '35903', 'CountyName': 'etowah', 'PhoneNumber': '2564944000', 'HospitalType': 'acute care hospitals', 'HospitalOwner': 'proprietary', 'EmergencyService': 'yes', 'Condition': 'heart attack', 'MeasureCode': 'ami-1', 'MeasureName': 'heart attack patients given aspirin at arrival', 'Score': '94%', 'Sample': '123 patients', 'Stateavg': 'al_ami-1'}\n",
            "Correct repair found at index 814\n",
            "Key: HospitalType\n",
            "Dirty row: {'ProviderNumber': '10040', 'HospitalName': 'gadsden regional medical center', 'Address1': '1007 goodyear avenue', 'Address2': '', 'Address3': '', 'City': 'gadsden', 'State': 'al', 'ZipCode': '35903', 'CountyName': 'etowah', 'PhoneNumber': '2564944000', 'HospitalType': 'axute care hospitals', 'HospitalOwner': 'proprietary', 'EmergencyService': 'yes', 'Condition': 'pneumonia', 'MeasureCode': 'pn-3b', 'MeasureName': 'pneumonia patients whose initial emergency room blood culture was performed prior to the administration of the first hospital dose of antibiotics', 'Score': '96%', 'Sample': '187 patients', 'Stateavg': 'al_pn-3b'}\n",
            "Clean row: {'ProviderNumber': '10040', 'HospitalName': 'gadsden regional medical center', 'Address1': '1007 goodyear avenue', 'Address2': '', 'Address3': '', 'City': 'gadsden', 'State': 'al', 'ZipCode': '35903', 'CountyName': 'etowah', 'PhoneNumber': '2564944000', 'HospitalType': 'acute care hospitals', 'HospitalOwner': 'proprietary', 'EmergencyService': 'yes', 'Condition': 'pneumonia', 'MeasureCode': 'pn-3b', 'MeasureName': 'pneumonia patients whose initial emergency room blood culture was performed prior to the administration of the first hospital dose of antibiotics', 'Score': '96%', 'Sample': '187 patients', 'Stateavg': 'al_pn-3b'}\n",
            "Preprocessed row: {'ProviderNumber': '10040', 'HospitalName': 'gadsden regional medical center', 'Address1': '1007 goodyear avenue', 'Address2': '', 'Address3': '', 'City': 'gadsden', 'State': 'al', 'ZipCode': '35903', 'CountyName': 'etowah', 'PhoneNumber': '2564944000', 'HospitalType': 'acute care hospitals', 'HospitalOwner': 'government', 'EmergencyService': 'yes', 'Condition': 'pneumonia', 'MeasureCode': 'pn-3b', 'MeasureName': 'pneumonia patients whose initial emergency room blood culture was performed prior to the administration of the first hospital dose of antibiotics', 'Score': '96%', 'Sample': '187 patients'}\n",
            "Correct repair found at index 821\n",
            "Key: City\n",
            "Dirty row: {'ProviderNumber': '10040', 'HospitalName': 'gadsden regional medical center', 'Address1': '1007 goodyear avenue', 'Address2': '', 'Address3': '', 'City': 'gxdsden', 'State': 'al', 'ZipCode': '35903', 'CountyName': 'etowah', 'PhoneNumber': '2564944000', 'HospitalType': 'acute care hospitals', 'HospitalOwner': 'proprietary', 'EmergencyService': 'yes', 'Condition': 'surgical infection prevention', 'MeasureCode': 'scip-inf-2', 'MeasureName': 'surgery patients who were given the  right kind  of antibiotic to help prevent infection', 'Score': '97%', 'Sample': '564 patients', 'Stateavg': 'al_scip-inf-2'}\n",
            "Clean row: {'ProviderNumber': '10040', 'HospitalName': 'gadsden regional medical center', 'Address1': '1007 goodyear avenue', 'Address2': '', 'Address3': '', 'City': 'gadsden', 'State': 'al', 'ZipCode': '35903', 'CountyName': 'etowah', 'PhoneNumber': '2564944000', 'HospitalType': 'acute care hospitals', 'HospitalOwner': 'proprietary', 'EmergencyService': 'yes', 'Condition': 'surgical infection prevention', 'MeasureCode': 'scip-inf-2', 'MeasureName': 'surgery patients who were given the  right kind  of antibiotic to help prevent infection', 'Score': '97%', 'Sample': '564 patients', 'Stateavg': 'al_scip-inf-2'}\n",
            "Preprocessed row: {'ProviderNumber': '10040', 'HospitalName': 'gadsden regional medical center', 'Address1': '1007 goodyear avenue', 'Address2': '', 'Address3': '', 'City': 'gadsden', 'State': 'al', 'ZipCode': '35903', 'CountyName': 'etowah', 'PhoneNumber': '2564944000', 'HospitalType': 'acute care hospitals', 'HospitalOwner': 'proprietary', 'EmergencyService': 'yes', 'Condition': 'surgical infection prevention', 'MeasureCode': 'scip-inf-2', 'MeasureName': 'surgery patients who were given the right kind of antibiotic to help prevent infection', 'Score': '97%', 'Sample': '564 patients'}\n",
            "Correct repair found at index 845\n",
            "Key: Sample\n",
            "Dirty row: {'ProviderNumber': '10043', 'HospitalName': 'chilton medical center', 'Address1': '1010 lay dam road', 'Address2': '', 'Address3': '', 'City': 'clanton', 'State': 'al', 'ZipCode': '35045', 'CountyName': 'chilton', 'PhoneNumber': '2057552500', 'HospitalType': 'acute care hospitals', 'HospitalOwner': 'voluntary non-profit - private', 'EmergencyService': 'yes', 'Condition': 'surgical infection prevention', 'MeasureCode': 'scip-inf-1', 'MeasureName': 'surgery patients who were given an antibiotic at the right time (within one hour before surgery) to help prevent infection', 'Score': '100%', 'Sample': '4 patiexts', 'Stateavg': 'al_scip-inf-1'}\n",
            "Clean row: {'ProviderNumber': '10043', 'HospitalName': 'chilton medical center', 'Address1': '1010 lay dam road', 'Address2': '', 'Address3': '', 'City': 'clanton', 'State': 'al', 'ZipCode': '35045', 'CountyName': 'chilton', 'PhoneNumber': '2057552500', 'HospitalType': 'acute care hospitals', 'HospitalOwner': 'voluntary non-profit - private', 'EmergencyService': 'yes', 'Condition': 'surgical infection prevention', 'MeasureCode': 'scip-inf-1', 'MeasureName': 'surgery patients who were given an antibiotic at the right time (within one hour before surgery) to help prevent infection', 'Score': '100%', 'Sample': '4 patients', 'Stateavg': 'al_scip-inf-1'}\n",
            "Preprocessed row: {'ProviderNumber': '10043', 'HospitalName': 'chilton medical center', 'Address1': '1010 lay dam road', 'Address2': '', 'Address3': '', 'City': 'clanton', 'State': 'al', 'ZipCode': '35045', 'CountyName': 'chilton', 'PhoneNumber': '2057552500', 'HospitalType': 'acute care hospitals', 'HospitalOwner': 'voluntary non-profit - private', 'EmergencyService': 'yes', 'Condition': 'surgical infection prevention', 'MeasureCode': 'scip-inf-1', 'MeasureName': 'surgery patients who were given an antibiotic at the right time (within one hour before surgery) to help prevent infection', 'Score': '100', 'Sample': '4 patients', 'Stateavg': 'al_scip-inf-1'}\n",
            "Correct repair found at index 848\n",
            "Key: HospitalType\n",
            "Dirty row: {'ProviderNumber': '10043', 'HospitalName': 'chilton medical center', 'Address1': '1010 lay dam road', 'Address2': '', 'Address3': '', 'City': 'clanton', 'State': 'al', 'ZipCode': '35045', 'CountyName': 'chilton', 'PhoneNumber': '2057552500', 'HospitalType': 'acute caxe hospitals', 'HospitalOwner': 'voluntary non-profit - private', 'EmergencyService': 'yes', 'Condition': 'surgical infection prevention', 'MeasureCode': 'scip-inf-4', 'MeasureName': 'all heart surgery patients whose blood sugar (blood glucose) is kept under good control in the days right after surgery', 'Score': '', 'Sample': '0 patients', 'Stateavg': 'al_scip-inf-4'}\n",
            "Clean row: {'ProviderNumber': '10043', 'HospitalName': 'chilton medical center', 'Address1': '1010 lay dam road', 'Address2': '', 'Address3': '', 'City': 'clanton', 'State': 'al', 'ZipCode': '35045', 'CountyName': 'chilton', 'PhoneNumber': '2057552500', 'HospitalType': 'acute care hospitals', 'HospitalOwner': 'voluntary non-profit - private', 'EmergencyService': 'yes', 'Condition': 'surgical infection prevention', 'MeasureCode': 'scip-inf-4', 'MeasureName': 'all heart surgery patients whose blood sugar (blood glucose) is kept under good control in the days right after surgery', 'Score': '', 'Sample': '0 patients', 'Stateavg': 'al_scip-inf-4'}\n",
            "Preprocessed row: {'ProviderNumber': '10043', 'HospitalName': 'chilton medical center', 'Address1': '1010 lay dam road', 'Address2': '', 'Address3': '', 'City': 'clanton', 'State': 'al', 'ZipCode': '35045', 'CountyName': 'chilton', 'PhoneNumber': '2057552500', 'HospitalType': 'acute care hospitals', 'HospitalOwner': 'voluntary non-profit - private', 'EmergencyService': 'yes', 'Condition': 'surgical infection prevention', 'MeasureCode': 'scip-inf-4', 'MeasureName': 'all heart surgery patients whose blood sugar (blood glucose) is kept under good control in the days right after surgery', 'Score': '', 'Sample': '0 patients', 'Stateavg': 'al_scip-inf-4'}\n",
            "Correct repair found at index 851\n",
            "Key: Condition\n",
            "Dirty row: {'ProviderNumber': '10043', 'HospitalName': 'chilton medical center', 'Address1': '1010 lay dam road', 'Address2': '', 'Address3': '', 'City': 'clanton', 'State': 'al', 'ZipCode': '35045', 'CountyName': 'chilton', 'PhoneNumber': '2057552500', 'HospitalType': 'acute care hospitals', 'HospitalOwner': 'voluntary non-profit - private', 'EmergencyService': 'yes', 'Condition': 'surgical infxction prxvxntion', 'MeasureCode': 'scip-vte-2', 'MeasureName': 'patients who got treatment  at the right time (within 24 hours before or after their surgery) to help prevent blood clots after certain types of surgery', 'Score': '', 'Sample': '0 patients', 'Stateavg': 'al_scip-vte-2'}\n",
            "Clean row: {'ProviderNumber': '10043', 'HospitalName': 'chilton medical center', 'Address1': '1010 lay dam road', 'Address2': '', 'Address3': '', 'City': 'clanton', 'State': 'al', 'ZipCode': '35045', 'CountyName': 'chilton', 'PhoneNumber': '2057552500', 'HospitalType': 'acute care hospitals', 'HospitalOwner': 'voluntary non-profit - private', 'EmergencyService': 'yes', 'Condition': 'surgical infection prevention', 'MeasureCode': 'scip-vte-2', 'MeasureName': 'patients who got treatment  at the right time (within 24 hours before or after their surgery) to help prevent blood clots after certain types of surgery', 'Score': '', 'Sample': '0 patients', 'Stateavg': 'al_scip-vte-2'}\n",
            "Preprocessed row: {'ProviderNumber': '10043', 'HospitalName': 'chilton medical center', 'Address1': '1010 lay dam road', 'Address2': '', 'Address3': '', 'City': 'clanton', 'State': 'al', 'ZipCode': '35045', 'CountyName': 'chilton', 'PhoneNumber': '2057552500', 'HospitalType': 'acute care hospitals', 'HospitalOwner': 'voluntary non-profit - private', 'EmergencyService': 'yes', 'Condition': 'surgical infection prevention', 'MeasureCode': 'scip-vte-2', 'MeasureName': 'patients who got treatment at the right time (within 24 hours before or after their surgery) to help prevent blood clots after certain types of surgery', 'Score': '', 'Sample': '0 patients', 'Stateavg': 'al_scip-vte-2'}\n",
            "Correct repair found at index 866\n",
            "Key: Sample\n",
            "Dirty row: {'ProviderNumber': '10044', 'HospitalName': 'marion regional medical center', 'Address1': '1256 military street south', 'Address2': '', 'Address3': '', 'City': 'hamilton', 'State': 'al', 'ZipCode': '35570', 'CountyName': 'marion', 'PhoneNumber': '2059216200', 'HospitalType': 'acute care hospitals', 'HospitalOwner': 'voluntary non-profit - private', 'EmergencyService': 'yxs', 'Condition': 'pneumonia', 'MeasureCode': 'pn-5c', 'MeasureName': 'pneumonia patients given initial antibiotic(s) within 6 hours after arrival', 'Score': '98%', 'Sample': '121 patiexts', 'Stateavg': 'al_pn-5c'}\n",
            "Clean row: {'ProviderNumber': '10044', 'HospitalName': 'marion regional medical center', 'Address1': '1256 military street south', 'Address2': '', 'Address3': '', 'City': 'hamilton', 'State': 'al', 'ZipCode': '35570', 'CountyName': 'marion', 'PhoneNumber': '2059216200', 'HospitalType': 'acute care hospitals', 'HospitalOwner': 'voluntary non-profit - private', 'EmergencyService': 'yes', 'Condition': 'pneumonia', 'MeasureCode': 'pn-5c', 'MeasureName': 'pneumonia patients given initial antibiotic(s) within 6 hours after arrival', 'Score': '98%', 'Sample': '121 patients', 'Stateavg': 'al_pn-5c'}\n",
            "Preprocessed row: {'ProviderNumber': '10044', 'HospitalName': 'marion regional medical center', 'Address1': '1256 military street south', 'Address2': '', 'Address3': '', 'City': 'alabama', 'State': 'al', 'ZipCode': '35570', 'CountyName': 'marion', 'PhoneNumber': '2059216200', 'HospitalType': 'acute care hospitals', 'HospitalOwner': 'voluntary non-profit - private', 'EmergencyService': 'yxs', 'Condition': 'pneumonia', 'MeasureCode': 'pn-5c', 'MeasureName': 'pneumonia patients given initial antibiotic(s) within 6 hours after arrival', 'Score': '98%', 'Sample': '121 patients'}\n",
            "Correct repair found at index 872\n",
            "Key: Sample\n",
            "Dirty row: {'ProviderNumber': '10044', 'HospitalName': 'marion regional medical center', 'Address1': '1256 military street south', 'Address2': '', 'Address3': '', 'City': 'hamilton', 'State': 'al', 'ZipCode': '35570', 'CountyName': 'marion', 'PhoneNumber': '2059216200', 'HospitalType': 'acute care hospitals', 'HospitalOwner': 'voluntaxy non-pxofit - pxivate', 'EmergencyService': 'yes', 'Condition': 'surgical infection prevention', 'MeasureCode': 'scip-inf-3', 'MeasureName': 'surgery patients whose preventive antibiotics were stopped at the right time (within 24 hours after surgery)', 'Score': '87%', 'Sample': '15 patiexts', 'Stateavg': 'al_scip-inf-3'}\n",
            "Clean row: {'ProviderNumber': '10044', 'HospitalName': 'marion regional medical center', 'Address1': '1256 military street south', 'Address2': '', 'Address3': '', 'City': 'hamilton', 'State': 'al', 'ZipCode': '35570', 'CountyName': 'marion', 'PhoneNumber': '2059216200', 'HospitalType': 'acute care hospitals', 'HospitalOwner': 'voluntary non-profit - private', 'EmergencyService': 'yes', 'Condition': 'surgical infection prevention', 'MeasureCode': 'scip-inf-3', 'MeasureName': 'surgery patients whose preventive antibiotics were stopped at the right time (within 24 hours after surgery)', 'Score': '87%', 'Sample': '15 patients', 'Stateavg': 'al_scip-inf-3'}\n",
            "Preprocessed row: {'ProviderNumber': '10044', 'HospitalName': 'marion regional medical center', 'Address1': '1256 military street south', 'City': 'alabama', 'State': 'al', 'ZipCode': '35570', 'CountyName': 'marion', 'PhoneNumber': '2059216200', 'HospitalType': 'acute care hospitals', 'HospitalOwner': 'voluntaxy non-pxofit - pxivate', 'EmergencyService': 'yes', 'Condition': 'surgical infection prevention', 'MeasureCode': 'scip-inf-3', 'MeasureName': 'surgery patients whose preventive antibiotics were stopped at the right time (within 24 hours after surgery)', 'Score': '87%', 'Sample': '15 patients'}\n",
            "Correct repair found at index 905\n",
            "Key: Sample\n",
            "Dirty row: {'ProviderNumber': '10046', 'HospitalName': 'riverview regional medical center', 'Address1': '600 south third street', 'Address2': '', 'Address3': '', 'City': 'gadsden', 'State': 'al', 'ZipCode': '35901', 'CountyName': 'etowah', 'PhoneNumber': '2565435200', 'HospitalType': 'acute care hospitals', 'HospitalOwner': 'proprietary', 'EmergencyService': 'yes', 'Condition': 'heart attack', 'MeasureCode': 'ami-1', 'MeasureName': 'heart attack patients given aspirin at arrival', 'Score': '100%', 'Sample': '126 patxents', 'Stateavg': 'al_ami-1'}\n",
            "Clean row: {'ProviderNumber': '10046', 'HospitalName': 'riverview regional medical center', 'Address1': '600 south third street', 'Address2': '', 'Address3': '', 'City': 'gadsden', 'State': 'al', 'ZipCode': '35901', 'CountyName': 'etowah', 'PhoneNumber': '2565435200', 'HospitalType': 'acute care hospitals', 'HospitalOwner': 'proprietary', 'EmergencyService': 'yes', 'Condition': 'heart attack', 'MeasureCode': 'ami-1', 'MeasureName': 'heart attack patients given aspirin at arrival', 'Score': '100%', 'Sample': '126 patients', 'Stateavg': 'al_ami-1'}\n",
            "Preprocessed row: {'ProviderNumber': '10046', 'HospitalName': 'riverview regional medical center', 'Address1': '600 south third street', 'Address2': '', 'Address3': '', 'City': 'gadsden', 'State': 'al', 'ZipCode': '35901', 'CountyName': 'etowah', 'PhoneNumber': '2565435200', 'HospitalType': 'acute care hospitals', 'HospitalOwner': 'proprietary', 'EmergencyService': 'yes', 'Condition': 'heart attack', 'MeasureCode': 'ami-1', 'MeasureName': 'heart attack patients given aspirin at arrival', 'Score': '100%', 'Sample': '126 patients', 'Stateavg': 'al_ami-1'}\n",
            "Correct repair found at index 923\n",
            "Key: ZipCode\n",
            "Dirty row: {'ProviderNumber': '10046', 'HospitalName': 'riverview regional medical center', 'Address1': '600 south third street', 'Address2': '', 'Address3': '', 'City': 'gadsden', 'State': 'al', 'ZipCode': '3590x', 'CountyName': 'etowah', 'PhoneNumber': '2565435200', 'HospitalType': 'acute care hospitals', 'HospitalOwner': 'proprietary', 'EmergencyService': 'yes', 'Condition': 'surgical infection prevention', 'MeasureCode': 'scip-inf-1', 'MeasureName': 'surgery patients who were given an antibiotic at the right time (within one hour before surgery) to help prevent infection', 'Score': '95%', 'Sample': '402 patients', 'Stateavg': 'al_scip-inf-1'}\n",
            "Clean row: {'ProviderNumber': '10046', 'HospitalName': 'riverview regional medical center', 'Address1': '600 south third street', 'Address2': '', 'Address3': '', 'City': 'gadsden', 'State': 'al', 'ZipCode': '35901', 'CountyName': 'etowah', 'PhoneNumber': '2565435200', 'HospitalType': 'acute care hospitals', 'HospitalOwner': 'proprietary', 'EmergencyService': 'yes', 'Condition': 'surgical infection prevention', 'MeasureCode': 'scip-inf-1', 'MeasureName': 'surgery patients who were given an antibiotic at the right time (within one hour before surgery) to help prevent infection', 'Score': '95%', 'Sample': '402 patients', 'Stateavg': 'al_scip-inf-1'}\n",
            "Preprocessed row: {'ProviderNumber': '10046', 'HospitalName': 'riverview regional medical center', 'Address1': '600 south third street', 'City': 'gadsden', 'State': 'al', 'ZipCode': '35901', 'CountyName': 'etowah', 'PhoneNumber': '2565435200', 'HospitalType': 'acute care hospitals', 'HospitalOwner': 'proprietary', 'EmergencyService': 'yes', 'Condition': 'surgical infection prevention', 'MeasureCode': 'scip-inf-1', 'MeasureName': 'surgery patients who were given an antibiotic at the right time (within one hour before surgery) to help prevent infection', 'Score': '95%', 'Sample': '402 patients', 'Stateavg': 'al_scip-inf-1'}\n",
            "Correct repair found at index 949\n",
            "Key: HospitalType\n",
            "Dirty row: {'ProviderNumber': '10047', 'HospitalName': 'georgiana hospital', 'Address1': '515 miranda st', 'Address2': '', 'Address3': '', 'City': 'geoxgiana', 'State': 'al', 'ZipCode': '36033', 'CountyName': 'butler', 'PhoneNumber': '3343762205', 'HospitalType': 'acute care hosxitals', 'HospitalOwner': 'voluntary non-profit - private', 'EmergencyService': 'no', 'Condition': 'surgical infection prevention', 'MeasureCode': 'scip-inf-2', 'MeasureName': 'surgery patients who were given the  right kind  of antibiotic to help prevent infection', 'Score': '', 'Sample': '', 'Stateavg': 'al_scip-inf-2'}\n",
            "Clean row: {'ProviderNumber': '10047', 'HospitalName': 'georgiana hospital', 'Address1': '515 miranda st', 'Address2': '', 'Address3': '', 'City': 'georgiana', 'State': 'al', 'ZipCode': '36033', 'CountyName': 'butler', 'PhoneNumber': '3343762205', 'HospitalType': 'acute care hospitals', 'HospitalOwner': 'voluntary non-profit - private', 'EmergencyService': 'no', 'Condition': 'surgical infection prevention', 'MeasureCode': 'scip-inf-2', 'MeasureName': 'surgery patients who were given the  right kind  of antibiotic to help prevent infection', 'Score': '', 'Sample': '', 'Stateavg': 'al_scip-inf-2'}\n",
            "Preprocessed row: {'ProviderNumber': '10047', 'HospitalName': 'georgiana hospital', 'Address1': '515 miranda st', 'City': 'geoxgiana', 'State': 'al', 'ZipCode': '36033', 'CountyName': 'butler', 'PhoneNumber': '3343762205', 'HospitalType': 'acute care hospitals', 'HospitalOwner': 'voluntary non-profit - private', 'EmergencyService': 'no', 'Condition': 'surgical infection prevention', 'MeasureCode': 'scip-inf-2', 'Score': '', 'Sample': ''}\n",
            "Correct repair found at index 955\n",
            "Key: Condition\n",
            "Dirty row: {'ProviderNumber': '1004x', 'HospitalName': 'medical center enterprise', 'Address1': '400 n edwards street', 'Address2': '', 'Address3': '', 'City': 'enterprise', 'State': 'al', 'ZipCode': '36330', 'CountyName': 'coffee', 'PhoneNumber': '3343470584', 'HospitalType': 'acute care hospitals', 'HospitalOwner': 'proprietary', 'EmergencyService': 'yes', 'Condition': 'hexrt attxck', 'MeasureCode': 'ami-1', 'MeasureName': 'heart attack patients given aspirin at arrival', 'Score': '100%', 'Sample': '4 patients', 'Stateavg': 'al_ami-1'}\n",
            "Clean row: {'ProviderNumber': '10049', 'HospitalName': 'medical center enterprise', 'Address1': '400 n edwards street', 'Address2': '', 'Address3': '', 'City': 'enterprise', 'State': 'al', 'ZipCode': '36330', 'CountyName': 'coffee', 'PhoneNumber': '3343470584', 'HospitalType': 'acute care hospitals', 'HospitalOwner': 'proprietary', 'EmergencyService': 'yes', 'Condition': 'heart attack', 'MeasureCode': 'ami-1', 'MeasureName': 'heart attack patients given aspirin at arrival', 'Score': '100%', 'Sample': '4 patients', 'Stateavg': 'al_ami-1'}\n",
            "Preprocessed row: {'ProviderNumber': '1004x', 'HospitalName': 'medical center enterprise', 'Address1': '400 n edwards street', 'Address2': '', 'Address3': '', 'City': 'enterprise', 'State': 'al', 'ZipCode': '36330', 'CountyName': 'coffee', 'PhoneNumber': '3343470584', 'HospitalType': 'acute care hospitals', 'HospitalOwner': 'proprietary', 'EmergencyService': 'yes', 'Condition': 'heart attack', 'MeasureCode': 'ami-1', 'MeasureName': 'heart attack patients given aspirin at arrival', 'Score': '100%', 'Sample': '4 patients'}\n",
            "Correct repair found at index 972\n",
            "Key: Sample\n",
            "Dirty row: {'ProviderNumber': '10049', 'HospitalName': 'medical center enterprise', 'Address1': '400 n edwards street', 'Address2': '', 'Address3': '', 'City': 'enterprise', 'State': 'al', 'ZipCode': '36330', 'CountyName': 'coffee', 'PhoneNumber': '3343470584', 'HospitalType': 'acute care hospitals', 'HospitalOwner': 'proprietary', 'EmergencyService': 'yes', 'Condition': 'surgical infection prevention', 'MeasureCode': 'scip-card-2', 'MeasureName': 'surgery patients who were taking heart drugs called beta blockers before coming to the hospital who were kept on the beta blockers during the period just before and after their surgery', 'Score': '100%', 'Sample': '27 paxienxs', 'Stateavg': 'al_scip-card-2'}\n",
            "Clean row: {'ProviderNumber': '10049', 'HospitalName': 'medical center enterprise', 'Address1': '400 n edwards street', 'Address2': '', 'Address3': '', 'City': 'enterprise', 'State': 'al', 'ZipCode': '36330', 'CountyName': 'coffee', 'PhoneNumber': '3343470584', 'HospitalType': 'acute care hospitals', 'HospitalOwner': 'proprietary', 'EmergencyService': 'yes', 'Condition': 'surgical infection prevention', 'MeasureCode': 'scip-card-2', 'MeasureName': 'surgery patients who were taking heart drugs called beta blockers before coming to the hospital who were kept on the beta blockers during the period just before and after their surgery', 'Score': '100%', 'Sample': '27 patients', 'Stateavg': 'al_scip-card-2'}\n",
            "Preprocessed row: {'ProviderNumber': '10049', 'HospitalName': 'medical center enterprise', 'Address1': '400 n edwards street', 'Address2': '', 'Address3': '', 'City': 'enterprise', 'State': 'al', 'ZipCode': '36330', 'CountyName': 'coffee', 'PhoneNumber': '3343470584', 'HospitalType': 'acute care hospitals', 'HospitalOwner': 'proprietary', 'EmergencyService': 'yes', 'Condition': 'surgical infection prevention', 'MeasureCode': 'scip-card-2', 'Score': '100%', 'Sample': '27 patients'}\n",
            "Correct repair found at index 974\n",
            "Key: Condition\n",
            "Dirty row: {'ProviderNumber': '10049', 'HospitalName': 'medical center enterprise', 'Address1': '400 n edwards street', 'Address2': '', 'Address3': '', 'City': 'enterprise', 'State': 'al', 'ZipCode': '36330', 'CountyName': 'coffee', 'PhoneNumber': '3343470584', 'HospitalType': 'acute care hospitals', 'HospitalOwner': 'proprietary', 'EmergencyService': 'yes', 'Condition': 'surgical xnfection prevention', 'MeasureCode': 'scip-inf-2', 'MeasureName': 'surgery patients who were given the  right kind  of antibiotic to help prevent infection', 'Score': '100%', 'Sample': '399 patients', 'Stateavg': 'al_scip-inf-2'}\n",
            "Clean row: {'ProviderNumber': '10049', 'HospitalName': 'medical center enterprise', 'Address1': '400 n edwards street', 'Address2': '', 'Address3': '', 'City': 'enterprise', 'State': 'al', 'ZipCode': '36330', 'CountyName': 'coffee', 'PhoneNumber': '3343470584', 'HospitalType': 'acute care hospitals', 'HospitalOwner': 'proprietary', 'EmergencyService': 'yes', 'Condition': 'surgical infection prevention', 'MeasureCode': 'scip-inf-2', 'MeasureName': 'surgery patients who were given the  right kind  of antibiotic to help prevent infection', 'Score': '100%', 'Sample': '399 patients', 'Stateavg': 'al_scip-inf-2'}\n",
            "Preprocessed row: {'ProviderNumber': '10049', 'HospitalName': 'medical center enterprise', 'Address1': '400 n edwards street', 'Address2': '', 'Address3': '', 'City': 'enterprise', 'State': 'al', 'ZipCode': '36330', 'CountyName': 'coffee', 'PhoneNumber': '3343470584', 'HospitalType': 'acute care hospitals', 'HospitalOwner': 'proprietary', 'EmergencyService': 'yes', 'Condition': 'surgical infection prevention', 'MeasureCode': 'scip-inf-2', 'MeasureName': 'surgery patients who were given the right kind of antibiotic to help prevent infection', 'Score': '100%', 'Sample': '399 patients', 'Stateavg': 'al_scip-inf-2'}\n",
            "Number of errors: 509\n",
            "Repairs performed: 1328\n",
            "Correct repairs: 69\n",
            "Detected errors: 175\n",
            "Precision: 0.051957831325301206\n",
            "Recall: 0.13555992141453832\n",
            "Percentage of errors detected: 0.343811394891945\n",
            "F1 Score: 0.07512248230811105\n"
          ]
        }
      ],
      "source": [
        "evaluate(dirty_dict, clean_dict, preprocessed_dict)"
      ]
    },
    {
      "cell_type": "code",
      "execution_count": null,
      "metadata": {
        "id": "m8mSgyTnHS1Q"
      },
      "outputs": [],
      "source": [
        "np.save('/content/hospital_preprocessed_dict_with_few_shot_on_city.npy', preprocessed_dict)"
      ]
    },
    {
      "cell_type": "markdown",
      "metadata": {
        "id": "FcP3rEtmyrp6"
      },
      "source": [
        "## Adults"
      ]
    },
    {
      "cell_type": "code",
      "execution_count": null,
      "metadata": {
        "colab": {
          "base_uri": "https://localhost:8080/"
        },
        "id": "EqMnySNIyq5H",
        "outputId": "af71b36d-d4c0-4057-a062-f82716f92a94"
      },
      "outputs": [
        {
          "name": "stdout",
          "output_type": "stream",
          "text": [
            "2024-04-29 16:09:34.308221-05:00\n"
          ]
        }
      ],
      "source": [
        "print(datetime.now(timezone(current_timezone)))"
      ]
    },
    {
      "cell_type": "code",
      "execution_count": null,
      "metadata": {
        "id": "ECCy55SVy_zv"
      },
      "outputs": [],
      "source": [
        "dirty_dict = transfer_csv_to_dict('/content/data_clean_datasets/datasets/adults/adults_dirty.csv')\n",
        "clean_dict = transfer_csv_to_dict('/content/data_clean_datasets/datasets/adults/adults_clean.csv')\n",
        "preprocessed_dict = []"
      ]
    },
    {
      "cell_type": "code",
      "execution_count": null,
      "metadata": {
        "colab": {
          "base_uri": "https://localhost:8080/"
        },
        "id": "nZlFSNUvzBVy",
        "outputId": "4e27f7df-4091-4726-d6b9-e9000bd48267"
      },
      "outputs": [
        {
          "output_type": "stream",
          "name": "stdout",
          "text": [
            "0 2024-04-29 16:10:04.130871-05:00\n",
            "50 2024-04-29 16:31:23.104498-05:00\n",
            "100 2024-04-29 16:54:34.655082-05:00\n",
            "150 2024-04-29 17:15:47.488474-05:00\n",
            "200 2024-04-29 17:39:27.820875-05:00\n",
            "250 2024-04-29 18:01:52.583849-05:00\n",
            "300 2024-04-29 18:26:47.703096-05:00\n",
            "350 2024-04-29 18:50:39.845744-05:00\n",
            "400 2024-04-29 19:16:00.762622-05:00\n",
            "450 2024-04-29 19:37:04.732521-05:00\n",
            "500 2024-04-29 20:02:35.890639-05:00\n",
            "550 2024-04-29 20:23:24.587574-05:00\n",
            "600 2024-04-29 20:46:46.603774-05:00\n",
            "650 2024-04-29 21:08:30.305839-05:00\n",
            "700 2024-04-29 21:31:26.884791-05:00\n",
            "750 2024-04-29 21:53:56.925844-05:00\n",
            "800 2024-04-29 22:15:03.936593-05:00\n",
            "850 2024-04-29 22:38:06.459982-05:00\n",
            "900 2024-04-29 23:01:14.042935-05:00\n",
            "950 2024-04-29 23:23:39.996718-05:00\n"
          ]
        }
      ],
      "source": [
        "for i in range(len(dirty_dict)):\n",
        "  preprocessed_dict.append(preprocessing('Adults', dirty_dict[i], i))\n",
        "  if i % 50 == 0:\n",
        "    print(i, datetime.now(timezone(current_timezone)))"
      ]
    },
    {
      "cell_type": "code",
      "execution_count": null,
      "metadata": {
        "id": "MieSkNZFzClp",
        "colab": {
          "base_uri": "https://localhost:8080/"
        },
        "outputId": "9fb56b59-dbd8-42d0-ad5b-9721778736a6"
      },
      "outputs": [
        {
          "output_type": "stream",
          "name": "stdout",
          "text": [
            "2024-04-29 23:48:24.863047-05:00\n"
          ]
        }
      ],
      "source": [
        "print(datetime.now(timezone(current_timezone)))"
      ]
    },
    {
      "cell_type": "code",
      "execution_count": null,
      "metadata": {
        "id": "0P6vsPpnzadz",
        "colab": {
          "base_uri": "https://localhost:8080/"
        },
        "outputId": "4020f7f9-58e9-4e3b-98ee-496bf0d5f59a"
      },
      "outputs": [
        {
          "output_type": "stream",
          "name": "stdout",
          "text": [
            "Wrong repair found at index 1\n",
            "Key: age\n",
            "Dirty row: {'row_id': '1', 'age': '>50', 'workclass': 'Private', 'education': 'HS-grad', 'maritalstatus': 'Married-civ-spouse', 'occupation': 'Craft-repair', 'relationship': 'Husband', 'race': 'White', 'sex': 'Male', 'hoursperweek': '16', 'country': 'United-States', 'income': 'LessThan50K'}\n",
            "Clean row: {'row_id': '1', 'age': '>50', 'workclass': 'Private', 'education': 'HS-grad', 'maritalstatus': 'Married-civ-spouse', 'occupation': 'Craft-repair', 'relationship': 'Husband', 'race': 'White', 'sex': 'Male', 'hoursperweek': '16', 'country': 'United-States', 'income': 'LessThan50K'}\n",
            "Preprocessed row: {'row_id': '1', 'age': '50', 'workclass': 'Private', 'education': 'HS-grad', 'maritalstatus': 'Married-civ-spouse', 'occupation': 'Craft-repair', 'relationship': 'Husband', 'race': 'White', 'sex': 'Male', 'hoursperweek': '16', 'country': 'United-States', 'income': 'LessThan50K'}\n",
            "Not performed repair found at index 2\n",
            "Key: country\n",
            "Dirty row: {'row_id': '2', 'age': '>50', 'workclass': 'Private', 'education': 'Some-college', 'maritalstatus': 'Married-civ-spouse', 'occupation': 'Exec-managerial', 'relationship': 'Husband', 'race': 'White', 'sex': 'Male', 'hoursperweek': '55', 'country': '', 'income': 'MoreThan50K'}\n",
            "Clean row: {'row_id': '2', 'age': '>50', 'workclass': 'Private', 'education': 'Some-college', 'maritalstatus': 'Married-civ-spouse', 'occupation': 'Exec-managerial', 'relationship': 'Husband', 'race': 'White', 'sex': 'Male', 'hoursperweek': '55', 'country': 'United-States', 'income': 'MoreThan50K'}\n",
            "Preprocessed row: {'row_id': '2', 'age': '50', 'workclass': 'Private', 'education': 'Some-college', 'maritalstatus': 'Married-civ-spouse', 'occupation': 'Exec-managerial', 'relationship': 'Husband', 'race': 'White', 'sex': 'Male', 'hoursperweek': '55', 'country': '', 'income': '50K'}\n",
            "Correct repair found at index 10\n",
            "Key: country\n",
            "Dirty row: {'row_id': '10', 'age': '22-30', 'workclass': 'Self-emp-not-inc', 'education': 'Some-college', 'maritalstatus': 'Never-married', 'occupation': 'Prof-specialty', 'relationship': 'Own-child', 'race': 'White', 'sex': 'Female', 'hoursperweek': '35', 'country': 'Uiited-States', 'income': 'LessThan50K'}\n",
            "Clean row: {'row_id': '10', 'age': '22-30', 'workclass': 'Self-emp-not-inc', 'education': 'Some-college', 'maritalstatus': 'Never-married', 'occupation': 'Prof-specialty', 'relationship': 'Own-child', 'race': 'White', 'sex': 'Female', 'hoursperweek': '35', 'country': 'United-States', 'income': 'LessThan50K'}\n",
            "Preprocessed row: {'row_id': '10', 'age': '22-30', 'workclass': 'Self-emp-not-inc', 'education': 'Some-college', 'maritalstatus': 'Never-married', 'occupation': 'Prof-specialty', 'relationship': 'Own-child', 'race': 'White', 'sex': 'Female', 'hoursperweek': '35', 'country': 'United-States', 'income': 'LessThan50K'}\n",
            "Correct repair found at index 18\n",
            "Key: race\n",
            "Dirty row: {'row_id': '18', 'age': '22-30', 'workclass': 'Private', 'education': 'Bachelors', 'maritalstatus': 'Never-married', 'occupation': 'Sales', 'relationship': 'Own-child', 'race': '0', 'sex': 'Female', 'hoursperweek': '18-21', 'country': 'United-States', 'income': 'LessThan50K'}\n",
            "Clean row: {'row_id': '18', 'age': '22-30', 'workclass': 'Private', 'education': 'Bachelors', 'maritalstatus': 'Never-married', 'occupation': 'Sales', 'relationship': 'Own-child', 'race': 'White', 'sex': 'Female', 'hoursperweek': '18-21', 'country': 'United-States', 'income': 'LessThan50K'}\n",
            "Preprocessed row: {'row_id': '18', 'age': '22-30', 'workclass': 'Private', 'education': 'Bachelors', 'maritalstatus': 'Never-married', 'occupation': 'Sales', 'relationship': 'Own-child', 'race': 'White', 'sex': 'Female', 'hoursperweek': '18-21', 'country': 'United-States', 'income': 'LessThan50K'}\n",
            "Correct repair found at index 31\n",
            "Key: race\n",
            "Dirty row: {'row_id': '31', 'age': '18-21', 'workclass': 'Private', 'education': 'HS-grad', 'maritalstatus': 'Never-married', 'occupation': 'Other-service', 'relationship': 'Not-in-family', 'race': '0', 'sex': 'Female', 'hoursperweek': '25', 'country': 'United-States', 'income': 'LessThan50K'}\n",
            "Clean row: {'row_id': '31', 'age': '18-21', 'workclass': 'Private', 'education': 'HS-grad', 'maritalstatus': 'Never-married', 'occupation': 'Other-service', 'relationship': 'Not-in-family', 'race': 'White', 'sex': 'Female', 'hoursperweek': '25', 'country': 'United-States', 'income': 'LessThan50K'}\n",
            "Preprocessed row: {'row_id': '31', 'age': '18-21', 'workclass': 'Private', 'education': 'HS-grad', 'maritalstatus': 'Never-married', 'occupation': 'Other-service', 'relationship': 'Not-in-family', 'race': 'White', 'sex': 'Female', 'hoursperweek': '25', 'country': 'United-States', 'income': 'LessThan50K'}\n",
            "Correct repair found at index 91\n",
            "Key: sex\n",
            "Dirty row: {'row_id': '91', 'age': '31-50', 'workclass': 'Local-gov', 'education': 'Some-college', 'maritalstatus': 'Married-civ-spouse', 'occupation': 'Exec-managerial', 'relationship': 'Husband', 'race': 'Amer-Indian-Eskimo', 'sex': '0', 'hoursperweek': '40', 'country': 'United-States', 'income': 'LessThan50K'}\n",
            "Clean row: {'row_id': '91', 'age': '31-50', 'workclass': 'Local-gov', 'education': 'Some-college', 'maritalstatus': 'Married-civ-spouse', 'occupation': 'Exec-managerial', 'relationship': 'Husband', 'race': 'Amer-Indian-Eskimo', 'sex': 'Male', 'hoursperweek': '40', 'country': 'United-States', 'income': 'LessThan50K'}\n",
            "Preprocessed row: {'row_id': '91', 'age': '31-50', 'workclass': 'Local-gov', 'education': 'Some-college', 'maritalstatus': 'Married-civ-spouse', 'occupation': 'Exec-managerial', 'relationship': 'Husband', 'race': 'Amer-Indian-Eskimo', 'sex': 'Male', 'hoursperweek': '40', 'country': 'United-States', 'income': 'LessThan50K'}\n",
            "Correct repair found at index 135\n",
            "Key: race\n",
            "Dirty row: {'row_id': '135', 'age': '31-50', 'workclass': 'Local-gov', 'education': 'Bachelors', 'maritalstatus': 'Never-married', 'occupation': 'Other-service', 'relationship': 'Not-in-family', 'race': '0', 'sex': 'Male', 'hoursperweek': '14', 'country': 'United-States', 'income': 'LessThan50K'}\n",
            "Clean row: {'row_id': '135', 'age': '31-50', 'workclass': 'Local-gov', 'education': 'Bachelors', 'maritalstatus': 'Never-married', 'occupation': 'Other-service', 'relationship': 'Not-in-family', 'race': 'White', 'sex': 'Male', 'hoursperweek': '14', 'country': 'United-States', 'income': 'LessThan50K'}\n",
            "Preprocessed row: {'row_id': '135', 'age': '31-50', 'workclass': 'Local-gov', 'education': 'Bachelors', 'maritalstatus': 'Never-married', 'occupation': 'Other-service', 'relationship': 'Not-in-family', 'race': 'White', 'sex': 'Male', 'hoursperweek': '14', 'country': 'United-States', 'income': 'LessThan50K'}\n",
            "Correct repair found at index 149\n",
            "Key: sex\n",
            "Dirty row: {'row_id': '149', 'age': '31-50', 'workclass': 'Private', 'education': 'Assoc-acdm', 'maritalstatus': 'Divorced', 'occupation': 'Prof-specialty', 'relationship': 'Unmarried', 'race': 'White', 'sex': '0', 'hoursperweek': '40', 'country': 'United-States', 'income': 'LessThan50K'}\n",
            "Clean row: {'row_id': '149', 'age': '31-50', 'workclass': 'Private', 'education': 'Assoc-acdm', 'maritalstatus': 'Divorced', 'occupation': 'Prof-specialty', 'relationship': 'Unmarried', 'race': 'White', 'sex': 'Female', 'hoursperweek': '40', 'country': 'United-States', 'income': 'LessThan50K'}\n",
            "Preprocessed row: {'row_id': '149', 'age': '31-50', 'workclass': 'Private', 'education': 'Assoc-acdm', 'maritalstatus': 'Divorced', 'occupation': 'Prof-specialty', 'relationship': 'Unmarried', 'race': 'White', 'sex': 'Female', 'hoursperweek': '40', 'country': 'United-States', 'income': 'LessThan50K'}\n",
            "Correct repair found at index 347\n",
            "Key: race\n",
            "Dirty row: {'row_id': '347', 'age': '<18', 'workclass': 'Private', 'education': 'HS-grad', 'maritalstatus': 'Never-married', 'occupation': 'Adm-clerical', 'relationship': 'Own-child', 'race': '0', 'sex': 'Male', 'hoursperweek': '18-21', 'country': 'United-States', 'income': 'LessThan50K'}\n",
            "Clean row: {'row_id': '347', 'age': '<18', 'workclass': 'Private', 'education': 'HS-grad', 'maritalstatus': 'Never-married', 'occupation': 'Adm-clerical', 'relationship': 'Own-child', 'race': 'White', 'sex': 'Male', 'hoursperweek': '18-21', 'country': 'United-States', 'income': 'LessThan50K'}\n",
            "Preprocessed row: {'row_id': '347', 'age': '18-21', 'workclass': 'Private', 'education': 'HS-grad', 'maritalstatus': 'Never-married', 'occupation': 'Adm-clerical', 'relationship': 'Own-child', 'race': 'White', 'sex': 'Male', 'hoursperweek': '18-21', 'country': 'United-States', 'income': 'LessThan50K'}\n",
            "Correct repair found at index 360\n",
            "Key: race\n",
            "Dirty row: {'row_id': '360', 'age': '22-30', 'workclass': 'Private', 'education': 'HS-grad', 'maritalstatus': 'Never-married', 'occupation': 'Machine-op-inspct', 'relationship': 'Own-child', 'race': '0', 'sex': 'Male', 'hoursperweek': '40', 'country': 'United-States', 'income': 'LessThan50K'}\n",
            "Clean row: {'row_id': '360', 'age': '22-30', 'workclass': 'Private', 'education': 'HS-grad', 'maritalstatus': 'Never-married', 'occupation': 'Machine-op-inspct', 'relationship': 'Own-child', 'race': 'White', 'sex': 'Male', 'hoursperweek': '40', 'country': 'United-States', 'income': 'LessThan50K'}\n",
            "Preprocessed row: {'row_id': '360', 'age': '22-30', 'workclass': 'Private', 'education': 'HS-grad', 'maritalstatus': 'Never-married', 'occupation': 'Machine-op-inspct', 'relationship': 'Own-child', 'race': 'White', 'sex': 'Male', 'hoursperweek': '40', 'country': 'United-States', 'income': 'LessThan50K'}\n",
            "Correct repair found at index 392\n",
            "Key: race\n",
            "Dirty row: {'row_id': '392', 'age': '31-50', 'workclass': 'Private', 'education': 'HS-grad', 'maritalstatus': 'Married-civ-spouse', 'occupation': 'Craft-repair', 'relationship': 'Husband', 'race': '0', 'sex': 'Male', 'hoursperweek': '40', 'country': 'United-States', 'income': 'LessThan50K'}\n",
            "Clean row: {'row_id': '392', 'age': '31-50', 'workclass': 'Private', 'education': 'HS-grad', 'maritalstatus': 'Married-civ-spouse', 'occupation': 'Craft-repair', 'relationship': 'Husband', 'race': 'White', 'sex': 'Male', 'hoursperweek': '40', 'country': 'United-States', 'income': 'LessThan50K'}\n",
            "Preprocessed row: {'row_id': '392', 'age': '31-50', 'workclass': 'Private', 'education': 'HS-grad', 'maritalstatus': 'Married-civ-spouse', 'occupation': 'Craft-repair', 'relationship': 'Husband', 'race': 'White', 'sex': 'Male', 'hoursperweek': '40', 'country': 'United-States', 'income': 'LessThan50K'}\n",
            "Correct repair found at index 443\n",
            "Key: race\n",
            "Dirty row: {'row_id': '443', 'age': '31-50', 'workclass': 'Private', 'education': 'HS-grad', 'maritalstatus': 'Married-civ-spouse', 'occupation': 'Exec-managerial', 'relationship': 'Husband', 'race': '0', 'sex': 'Male', 'hoursperweek': '40', 'country': 'United-States', 'income': 'MoreThan50K'}\n",
            "Clean row: {'row_id': '443', 'age': '31-50', 'workclass': 'Private', 'education': 'HS-grad', 'maritalstatus': 'Married-civ-spouse', 'occupation': 'Exec-managerial', 'relationship': 'Husband', 'race': 'White', 'sex': 'Male', 'hoursperweek': '40', 'country': 'United-States', 'income': 'MoreThan50K'}\n",
            "Preprocessed row: {'row_id': '443', 'age': '31-50', 'workclass': 'Private', 'education': 'HS-grad', 'maritalstatus': 'Married-civ-spouse', 'occupation': 'Exec-managerial', 'relationship': 'Husband', 'race': 'White', 'sex': 'Male', 'hoursperweek': '40', 'country': 'United-States', 'income': 'MoreThan50K'}\n",
            "Correct repair found at index 578\n",
            "Key: workclass\n",
            "Dirty row: {'row_id': '578', 'age': '18-21', 'workclass': 'Privqte', 'education': '12th', 'maritalstatus': 'Never-married', 'occupation': 'Handlers-cleaners', 'relationship': 'Own-child', 'race': 'White', 'sex': 'Male', 'hoursperweek': '18-21', 'country': 'United-States', 'income': 'LessThan50K'}\n",
            "Clean row: {'row_id': '578', 'age': '18-21', 'workclass': 'Private', 'education': '12th', 'maritalstatus': 'Never-married', 'occupation': 'Handlers-cleaners', 'relationship': 'Own-child', 'race': 'White', 'sex': 'Male', 'hoursperweek': '18-21', 'country': 'United-States', 'income': 'LessThan50K'}\n",
            "Preprocessed row: {'row_id': '578', 'age': '18-21', 'workclass': 'Private', 'education': '12th', 'maritalstatus': 'Never-married', 'occupation': 'Handlers-cleaners', 'relationship': 'Own-child', 'race': 'White', 'sex': 'Male', 'hoursperweek': '18-21', 'country': 'United-States', 'income': 'LessThan50K'}\n",
            "Correct repair found at index 628\n",
            "Key: country\n",
            "Dirty row: {'row_id': '628', 'age': '18-21', 'workclass': 'Private', 'education': '7th-8th', 'maritalstatus': 'Never-married', 'occupation': 'Machine-op-inspct', 'relationship': 'Own-child', 'race': 'White', 'sex': 'Male', 'hoursperweek': '40', 'country': 'United-Xtates', 'income': 'LessThan50K'}\n",
            "Clean row: {'row_id': '628', 'age': '18-21', 'workclass': 'Private', 'education': '7th-8th', 'maritalstatus': 'Never-married', 'occupation': 'Machine-op-inspct', 'relationship': 'Own-child', 'race': 'White', 'sex': 'Male', 'hoursperweek': '40', 'country': 'United-States', 'income': 'LessThan50K'}\n",
            "Preprocessed row: {'row_id': '628', 'age': '18-21', 'workclass': 'Private', 'education': '7th-8th', 'maritalstatus': 'Never-married', 'occupation': 'Machine-op-inspct', 'relationship': 'Own-child', 'race': 'White', 'sex': 'Male', 'hoursperweek': '40', 'country': 'United-States', 'income': 'LessThan50K'}\n",
            "Correct repair found at index 658\n",
            "Key: race\n",
            "Dirty row: {'row_id': '658', 'age': '18-21', 'workclass': 'Private', 'education': 'Some-college', 'maritalstatus': 'Never-married', 'occupation': 'Adm-clerical', 'relationship': 'Own-child', 'race': '0', 'sex': 'Male', 'hoursperweek': '40', 'country': 'United-States', 'income': 'LessThan50K'}\n",
            "Clean row: {'row_id': '658', 'age': '18-21', 'workclass': 'Private', 'education': 'Some-college', 'maritalstatus': 'Never-married', 'occupation': 'Adm-clerical', 'relationship': 'Own-child', 'race': 'White', 'sex': 'Male', 'hoursperweek': '40', 'country': 'United-States', 'income': 'LessThan50K'}\n",
            "Preprocessed row: {'row_id': '658', 'age': '18-21', 'workclass': 'Private', 'education': 'Some-college', 'maritalstatus': 'Never-married', 'occupation': 'Adm-clerical', 'relationship': 'Own-child', 'race': 'White', 'sex': 'Male', 'hoursperweek': '40', 'country': 'United-States', 'income': 'LessThan50K'}\n",
            "Correct repair found at index 675\n",
            "Key: race\n",
            "Dirty row: {'row_id': '675', 'age': '18-21', 'workclass': 'Private', 'education': 'HS-grad', 'maritalstatus': 'Never-married', 'occupation': 'Handlers-cleaners', 'relationship': 'Own-child', 'race': 'Wnite', 'sex': 'Male', 'hoursperweek': '28', 'country': 'United-States', 'income': 'LessThan50K'}\n",
            "Clean row: {'row_id': '675', 'age': '18-21', 'workclass': 'Private', 'education': 'HS-grad', 'maritalstatus': 'Never-married', 'occupation': 'Handlers-cleaners', 'relationship': 'Own-child', 'race': 'White', 'sex': 'Male', 'hoursperweek': '28', 'country': 'United-States', 'income': 'LessThan50K'}\n",
            "Preprocessed row: {'row_id': '675', 'age': '18-21', 'workclass': 'Private', 'education': 'HS-grad', 'maritalstatus': 'Never-married', 'occupation': 'Handlers-cleaners', 'relationship': 'Own-child', 'race': 'White', 'sex': 'Male', 'hoursperweek': '28', 'country': 'United-States', 'income': 'LessThan50K'}\n",
            "Correct repair found at index 961\n",
            "Key: race\n",
            "Dirty row: {'row_id': '961', 'age': '18-21', 'workclass': 'Private', 'education': 'HS-grad', 'maritalstatus': 'Never-married', 'occupation': 'Handlers-cleaners', 'relationship': 'Own-child', 'race': 'Xhite', 'sex': 'Male', 'hoursperweek': '40', 'country': 'United-States', 'income': 'LessThan50K'}\n",
            "Clean row: {'row_id': '961', 'age': '18-21', 'workclass': 'Private', 'education': 'HS-grad', 'maritalstatus': 'Never-married', 'occupation': 'Handlers-cleaners', 'relationship': 'Own-child', 'race': 'White', 'sex': 'Male', 'hoursperweek': '40', 'country': 'United-States', 'income': 'LessThan50K'}\n",
            "Preprocessed row: {'row_id': '961', 'age': '18-21', 'workclass': 'Private', 'education': 'HS-grad', 'maritalstatus': 'Never-married', 'occupation': 'Handlers-cleaners', 'relationship': 'Son', 'race': 'White', 'sex': 'Male', 'hoursperweek': '40', 'country': 'United-States', 'income': 'LessThan50K'}\n",
            "Number of errors: 122\n",
            "Repairs performed: 538\n",
            "Correct repairs: 15\n",
            "Detected errors: 58\n",
            "Precision: 0.027881040892193308\n",
            "Recall: 0.12295081967213115\n",
            "Percentage of errors detected: 0.47540983606557374\n",
            "F1 Score: 0.045454545454545456\n"
          ]
        }
      ],
      "source": [
        "evaluate(dirty_dict, clean_dict, preprocessed_dict)"
      ]
    },
    {
      "cell_type": "code",
      "execution_count": null,
      "metadata": {
        "id": "9dgME79-OZCg"
      },
      "outputs": [],
      "source": [
        "np.save('/content/adults_preprocessed_dict.npy', preprocessed_dict)"
      ]
    }
  ],
  "metadata": {
    "accelerator": "GPU",
    "colab": {
      "collapsed_sections": [
        "EzrmADGhRXuf",
        "FIocULhORVXz",
        "FcP3rEtmyrp6"
      ],
      "gpuType": "A100",
      "machine_shape": "hm",
      "provenance": [],
      "include_colab_link": true
    },
    "kernelspec": {
      "display_name": "Python 3",
      "name": "python3"
    },
    "language_info": {
      "name": "python"
    }
  },
  "nbformat": 4,
  "nbformat_minor": 0
}